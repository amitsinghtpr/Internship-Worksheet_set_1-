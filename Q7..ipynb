{
 "cells": [
  {
   "cell_type": "markdown",
   "id": "f99d22c2",
   "metadata": {},
   "source": [
    "**Write a program to scrap all the available details of best gaming laptops from digit.in.**"
   ]
  },
  {
   "cell_type": "code",
   "execution_count": 1,
   "id": "fa753cbe",
   "metadata": {},
   "outputs": [],
   "source": [
    "import selenium\n",
    "from selenium import webdriver\n",
    "import pandas as pd \n",
    "from selenium.webdriver.common.by import By\n",
    "import warnings\n",
    "warnings.filterwarnings(\"ignore\")\n",
    "import time"
   ]
  },
  {
   "cell_type": "code",
   "execution_count": 2,
   "id": "b6348fca",
   "metadata": {},
   "outputs": [],
   "source": [
    "# Importing Chromedriver\n",
    "driver=webdriver.Chrome(r'\"C:\\Users\\amits\\Desktop\\chromedriver_win32\\chromedriver.exe\"')"
   ]
  },
  {
   "cell_type": "code",
   "execution_count": 3,
   "id": "42096d2a",
   "metadata": {},
   "outputs": [],
   "source": [
    "url='https://www.digit.in/top-products/best-gaming-laptops-40.html'\n",
    "driver.get(url)"
   ]
  },
  {
   "cell_type": "code",
   "execution_count": 4,
   "id": "54590fc5",
   "metadata": {},
   "outputs": [
    {
     "data": {
      "text/plain": [
       "['1.\\nMSI Titan GT77-12UHS',\n",
       " '2.\\nAlienware X17 R2',\n",
       " '3.\\nAcer Predator Triton 500 SE PT516-52s',\n",
       " '4.\\nOmen By HP (16-B1371TX)',\n",
       " '5.\\nAcer Predator Helios 300 AN515-45',\n",
       " '6.\\nMSI Delta 15 (A5EFK-083IN)',\n",
       " '7.\\nOmen By HP (16-C0141AX)',\n",
       " '8.\\nLenovo Legion 5i Pro (82RF00MGIN)',\n",
       " '9.\\nAlienware M15 R5 Ryzen Edition Icc-C780001win',\n",
       " '10.\\nLenovo Slim 7 Gen 6 (82K8002JIN)']"
      ]
     },
     "execution_count": 4,
     "metadata": {},
     "output_type": "execute_result"
    }
   ],
   "source": [
    "Company_name=[]\n",
    "comp=driver.find_elements(By.XPATH,\"//div[@class='left_side']\")\n",
    "for i in comp[0:10]:\n",
    "    Company_name.append(i.text)\n",
    "    \n",
    "Company_name\n",
    "    "
   ]
  },
  {
   "cell_type": "code",
   "execution_count": 5,
   "id": "dbd5c0ec",
   "metadata": {},
   "outputs": [
    {
     "data": {
      "text/plain": [
       "['12th Gen Intel Core i7-12700H | 3.5 GHz Processor',\n",
       " '12th Gen Intel Core i9-12900HX | NA Processor',\n",
       " '12th Gen Intel Core i7-12700H | 3.5 GHz Processor',\n",
       " '12th Gen Intel Core i7-12700H | 4.7 GHz Processor',\n",
       " 'AMD Ryzen 9-5900HX | NA Processor',\n",
       " 'AMD 5th Gen Ryzen 9-5900HX | 3.3GHz Processor',\n",
       " 'AMD Ryzen™ 9 5900HX | 3.3 GHz Processor',\n",
       " '12th Gen Intel Core i7-12700H | 2.3 GHz Processor',\n",
       " 'AMD Ryzen R7-5800H | 4.40 GHz Processor',\n",
       " 'Lenovo Ryzen 7-5800H | 3.2 GHz Processor']"
      ]
     },
     "execution_count": 5,
     "metadata": {},
     "output_type": "execute_result"
    }
   ],
   "source": [
    "Processor=[]\n",
    "win=driver.find_elements(By.XPATH,\"/html/body/div[5]/div[1]/div[3]/div[2]/div[3]/div[2]/div[2]/div[1]/ul/li[4]/div/div\")\n",
    "for i in win[0:10]:\n",
    "    Processor.append(i.text)\n",
    "    \n",
    "win1=driver.find_elements(By.XPATH,\"/html/body/div[5]/div[1]/div[3]/div[2]/div[1]/div[2]/div[2]/div[1]/ul/li[4]/div/div\")\n",
    "for i in win1[0:10]:\n",
    "    Processor.append(i.text)\n",
    "    \n",
    "win2=driver.find_elements(By.XPATH,\"/html/body/div[5]/div[1]/div[3]/div[2]/div[3]/div[2]/div[2]/div[1]/ul/li[4]/div/div\")\n",
    "for i in win2[0:10]:\n",
    "    Processor.append(i.text)\n",
    "    \n",
    "win3=driver.find_elements(By.XPATH,\"/html/body/div[5]/div[1]/div[3]/div[2]/div[5]/div[2]/div[2]/div[1]/ul/li[4]/div/div\")\n",
    "for i in win3[0:10]:\n",
    "    Processor.append(i.text)\n",
    "    \n",
    "    \n",
    "win4=driver.find_elements(By.XPATH,\"/html/body/div[5]/div[1]/div[3]/div[2]/div[6]/div[2]/div[2]/div[1]/ul/li[4]/div/div\")\n",
    "for i in win4[0:10]:\n",
    "    Processor.append(i.text)\n",
    "    \n",
    "    \n",
    "win5=driver.find_elements(By.XPATH,\"/html/body/div[5]/div[1]/div[3]/div[2]/div[7]/div[2]/div[2]/div[1]/ul/li[4]/div/div\")\n",
    "for i in win5[0:10]:\n",
    "    Processor.append(i.text)\n",
    "    \n",
    "win6=driver.find_elements(By.XPATH,\"/html/body/div[5]/div[1]/div[3]/div[2]/div[9]/div[2]/div[2]/div[1]/ul/li[4]/div/div\")\n",
    "for i in win6:\n",
    "    Processor.append(i.text)\n",
    "    \n",
    "win7=driver.find_elements(By.XPATH,\"/html/body/div[5]/div[1]/div[3]/div[2]/div[10]/div[2]/div[2]/div[1]/ul/li[4]/div/div\")\n",
    "for i in win7:\n",
    "    Processor.append(i.text)\n",
    "    \n",
    "win8=driver.find_elements(By.XPATH,\"/html/body/div[5]/div[1]/div[3]/div[2]/div[11]/div[2]/div[2]/div[1]/ul/li[4]/div/div\")\n",
    "for i in win8:\n",
    "    Processor.append(i.text)\n",
    "    \n",
    "Win9=driver.find_elements(By.XPATH,\"/html/body/div[5]/div[1]/div[3]/div[2]/div[13]/div[2]/div[2]/div[1]/ul/li[4]/div/div\")\n",
    "for i in Win9:\n",
    "    Processor.append(i.text)\n",
    "Processor"
   ]
  },
  {
   "cell_type": "code",
   "execution_count": 6,
   "id": "03af6565",
   "metadata": {},
   "outputs": [
    {
     "data": {
      "text/plain": [
       "10"
      ]
     },
     "execution_count": 6,
     "metadata": {},
     "output_type": "execute_result"
    }
   ],
   "source": [
    "len(Processor)"
   ]
  },
  {
   "cell_type": "code",
   "execution_count": 7,
   "id": "e187675b",
   "metadata": {},
   "outputs": [
    {
     "data": {
      "text/plain": [
       "10"
      ]
     },
     "execution_count": 7,
     "metadata": {},
     "output_type": "execute_result"
    }
   ],
   "source": [
    "Storage=[]\n",
    "disk=driver.find_elements(By.XPATH,\"/html/body/div[5]/div[1]/div[3]/div[2]/div[1]/div[2]/div[2]/div[1]/ul/li[5]/div/div\")\n",
    "for i in disk:\n",
    "    Storage.append(i.text)\n",
    "    \n",
    "disk1=driver.find_elements(By.XPATH,\"/html/body/div[5]/div[1]/div[3]/div[2]/div[2]/div[2]/div[2]/div[1]/ul/li[5]/div/div\")\n",
    "for t in disk1:\n",
    "    Storage.append(t.text)\n",
    "    \n",
    "disk2=driver.find_elements(By.XPATH,\"/html/body/div[5]/div[1]/div[3]/div[2]/div[1]/div[2]/div[2]/div[1]/ul/li[5]/div/div\")\n",
    "for i in disk2:\n",
    "    Storage.append(i.text)\n",
    "    \n",
    "disk9=driver.find_elements(By.XPATH,\"/html/body/div[5]/div[1]/div[3]/div[2]/div[6]/div[2]/div[2]/div[1]/ul/li[5]/div/div\")\n",
    "for i in disk9:\n",
    "    Storage.append(i.text)    \n",
    "    \n",
    "\n",
    "    \n",
    "disk3=driver.find_elements(By.XPATH,\"/html/body/div[5]/div[1]/div[3]/div[2]/div[2]/div[2]/div[2]/div[1]/ul/li[5]/div/div\")\n",
    "for i in disk3:\n",
    "    Storage.append(i.text)\n",
    "    \n",
    "    \n",
    "    \n",
    "disk4=driver.find_elements(By.XPATH,\"/html/body/div[5]/div[1]/div[3]/div[2]/div[2]/div[2]/div[2]/div[1]/ul/li[5]/div/div\")\n",
    "for i in disk4:\n",
    "    Storage.append(i.text)\n",
    "    \n",
    "    \n",
    "    \n",
    "disk5=driver.find_elements(By.XPATH,\"/html/body/div[5]/div[1]/div[3]/div[2]/div[2]/div[2]/div[2]/div[1]/ul/li[5]/div/div\")\n",
    "for i in disk5:\n",
    "    Storage.append(i.text)\n",
    "    \n",
    "    \n",
    "    \n",
    "disk6=driver.find_elements(By.XPATH,\"/html/body/div[5]/div[1]/div[3]/div[2]/div[2]/div[2]/div[2]/div[1]/ul/li[5]/div/div\")\n",
    "for i in disk6:\n",
    "    Storage.append(i.text)\n",
    "    \n",
    "disk8=driver.find_elements(By.XPATH,\"/html/body/div[5]/div[1]/div[3]/div[2]/div[6]/div[2]/div[2]/div[1]/ul/li[5]/div/div\")\n",
    "for i in disk8:\n",
    "    Storage.append(i.text)    \n",
    "    \n",
    "disk7=driver.find_elements(By.XPATH,\"/html/body/div[5]/div[1]/div[3]/div[2]/div[2]/div[2]/div[2]/div[1]/ul/li[5]/div/div\")\n",
    "for i in disk7:\n",
    "    Storage.append(i.text)\n",
    "    \n",
    "    \n",
    "    \n",
    "    \n",
    "\n",
    "Storage   \n",
    "len(Storage)   \n",
    "    \n"
   ]
  },
  {
   "cell_type": "code",
   "execution_count": 8,
   "id": "346a4d9f",
   "metadata": {},
   "outputs": [
    {
     "data": {
      "text/plain": [
       "['AVAILABLE ₹ 229,990\\nBUY NOW',\n",
       " 'AVAILABLE ₹ 176,290\\nBUY NOW',\n",
       " 'AVAILABLE ₹ 124,990\\nBUY NOW',\n",
       " '',\n",
       " '',\n",
       " 'AVAILABLE ₹ 162,869\\nBUY NOW',\n",
       " 'AVAILABLE ₹ 174,000\\nBUY NOW',\n",
       " 'AVAILABLE ₹ 131,990\\nBUY NOW',\n",
       " '']"
      ]
     },
     "execution_count": 8,
     "metadata": {},
     "output_type": "execute_result"
    }
   ],
   "source": [
    "Price=[]\n",
    "price=driver.find_elements(By.XPATH,\"//table[@class='table']\")\n",
    "for i in price[0:10]:\n",
    "    Price.append(i.text)\n",
    "    \n",
    "Price"
   ]
  },
  {
   "cell_type": "code",
   "execution_count": 9,
   "id": "1a23f2f3",
   "metadata": {},
   "outputs": [
    {
     "data": {
      "text/plain": [
       "'-'"
      ]
     },
     "execution_count": 9,
     "metadata": {},
     "output_type": "execute_result"
    }
   ],
   "source": [
    "a=('-')\n",
    "a"
   ]
  },
  {
   "cell_type": "code",
   "execution_count": 10,
   "id": "8261737f",
   "metadata": {},
   "outputs": [
    {
     "data": {
      "text/plain": [
       "(None, [0])"
      ]
     },
     "execution_count": 10,
     "metadata": {},
     "output_type": "execute_result"
    }
   ],
   "source": [
    "Price.append(a),[0]"
   ]
  },
  {
   "cell_type": "code",
   "execution_count": 11,
   "id": "3d6a6dfd",
   "metadata": {},
   "outputs": [
    {
     "data": {
      "text/plain": [
       "['AVAILABLE ₹ 229,990\\nBUY NOW',\n",
       " 'AVAILABLE ₹ 176,290\\nBUY NOW',\n",
       " 'AVAILABLE ₹ 124,990\\nBUY NOW',\n",
       " '',\n",
       " '',\n",
       " 'AVAILABLE ₹ 162,869\\nBUY NOW',\n",
       " 'AVAILABLE ₹ 174,000\\nBUY NOW',\n",
       " 'AVAILABLE ₹ 131,990\\nBUY NOW',\n",
       " '',\n",
       " '-']"
      ]
     },
     "execution_count": 11,
     "metadata": {},
     "output_type": "execute_result"
    }
   ],
   "source": [
    "Price"
   ]
  },
  {
   "cell_type": "code",
   "execution_count": 14,
   "id": "e12ce05c",
   "metadata": {},
   "outputs": [
    {
     "data": {
      "text/plain": [
       "10"
      ]
     },
     "execution_count": 14,
     "metadata": {},
     "output_type": "execute_result"
    }
   ],
   "source": [
    "len(Price)"
   ]
  },
  {
   "cell_type": "code",
   "execution_count": 15,
   "id": "83fe1b6c",
   "metadata": {},
   "outputs": [
    {
     "data": {
      "text/plain": [
       "['Windows 11 Home']"
      ]
     },
     "execution_count": 15,
     "metadata": {},
     "output_type": "execute_result"
    }
   ],
   "source": [
    "windows=[]\n",
    "win=driver.find_elements(By.XPATH,\"/html/body/div[5]/div[1]/div[3]/div[2]/div[10]/div[3]/div[3]/table/tbody/tr[5]/td[3]\")\n",
    "for i in win:\n",
    "    windows.append(i.text)\n",
    "    \n",
    "windows"
   ]
  },
  {
   "cell_type": "code",
   "execution_count": 16,
   "id": "a021277d",
   "metadata": {},
   "outputs": [],
   "source": [
    "Windows=windows*10"
   ]
  },
  {
   "cell_type": "code",
   "execution_count": 18,
   "id": "a02989ad",
   "metadata": {},
   "outputs": [
    {
     "data": {
      "text/plain": [
       "10"
      ]
     },
     "execution_count": 18,
     "metadata": {},
     "output_type": "execute_result"
    }
   ],
   "source": [
    "len(Windows)"
   ]
  },
  {
   "cell_type": "code",
   "execution_count": 23,
   "id": "f4a8485d",
   "metadata": {},
   "outputs": [],
   "source": [
    "Pictures=[]\n",
    "pic=driver.find_elements(By.XPATH,\"//div[@class='product-ickon']\")\n",
    "for i in pic[0:10]:\n",
    "    Pictures.append(i.get_attribute(\"src\"))"
   ]
  },
  {
   "cell_type": "code",
   "execution_count": 25,
   "id": "c51b7b55",
   "metadata": {},
   "outputs": [
    {
     "data": {
      "text/plain": [
       "10"
      ]
     },
     "execution_count": 25,
     "metadata": {},
     "output_type": "execute_result"
    }
   ],
   "source": [
    "len(Pictures)"
   ]
  },
  {
   "cell_type": "code",
   "execution_count": 27,
   "id": "6bed7678",
   "metadata": {},
   "outputs": [
    {
     "data": {
      "text/html": [
       "<div>\n",
       "<style scoped>\n",
       "    .dataframe tbody tr th:only-of-type {\n",
       "        vertical-align: middle;\n",
       "    }\n",
       "\n",
       "    .dataframe tbody tr th {\n",
       "        vertical-align: top;\n",
       "    }\n",
       "\n",
       "    .dataframe thead th {\n",
       "        text-align: right;\n",
       "    }\n",
       "</style>\n",
       "<table border=\"1\" class=\"dataframe\">\n",
       "  <thead>\n",
       "    <tr style=\"text-align: right;\">\n",
       "      <th></th>\n",
       "      <th>Laptops Models</th>\n",
       "      <th>Os</th>\n",
       "      <th>Processor</th>\n",
       "      <th>Storage Capacity</th>\n",
       "      <th>Price</th>\n",
       "      <th>Image</th>\n",
       "    </tr>\n",
       "  </thead>\n",
       "  <tbody>\n",
       "    <tr>\n",
       "      <th>0</th>\n",
       "      <td>1.\\nMSI Titan GT77-12UHS</td>\n",
       "      <td>Windows 11 Home</td>\n",
       "      <td>12th Gen Intel Core i7-12700H | 3.5 GHz Processor</td>\n",
       "      <td>2 TB SSD/64 GB DDR5 Memory</td>\n",
       "      <td>AVAILABLE ₹ 229,990\\nBUY NOW</td>\n",
       "      <td>None</td>\n",
       "    </tr>\n",
       "    <tr>\n",
       "      <th>1</th>\n",
       "      <td>2.\\nAlienware X17 R2</td>\n",
       "      <td>Windows 11 Home</td>\n",
       "      <td>12th Gen Intel Core i9-12900HX | NA Processor</td>\n",
       "      <td>1 TB SSD/32 GB DDR5 Memory</td>\n",
       "      <td>AVAILABLE ₹ 176,290\\nBUY NOW</td>\n",
       "      <td>None</td>\n",
       "    </tr>\n",
       "    <tr>\n",
       "      <th>2</th>\n",
       "      <td>3.\\nAcer Predator Triton 500 SE PT516-52s</td>\n",
       "      <td>Windows 11 Home</td>\n",
       "      <td>12th Gen Intel Core i7-12700H | 3.5 GHz Processor</td>\n",
       "      <td>2 TB SSD/64 GB DDR5 Memory</td>\n",
       "      <td>AVAILABLE ₹ 124,990\\nBUY NOW</td>\n",
       "      <td>None</td>\n",
       "    </tr>\n",
       "    <tr>\n",
       "      <th>3</th>\n",
       "      <td>4.\\nOmen By HP (16-B1371TX)</td>\n",
       "      <td>Windows 11 Home</td>\n",
       "      <td>12th Gen Intel Core i7-12700H | 4.7 GHz Processor</td>\n",
       "      <td>512 GB SSD/16 GB DDR4 Memory</td>\n",
       "      <td></td>\n",
       "      <td>None</td>\n",
       "    </tr>\n",
       "    <tr>\n",
       "      <th>4</th>\n",
       "      <td>5.\\nAcer Predator Helios 300 AN515-45</td>\n",
       "      <td>Windows 11 Home</td>\n",
       "      <td>AMD Ryzen 9-5900HX | NA Processor</td>\n",
       "      <td>1 TB SSD/32 GB DDR5 Memory</td>\n",
       "      <td></td>\n",
       "      <td>None</td>\n",
       "    </tr>\n",
       "    <tr>\n",
       "      <th>5</th>\n",
       "      <td>6.\\nMSI Delta 15 (A5EFK-083IN)</td>\n",
       "      <td>Windows 11 Home</td>\n",
       "      <td>AMD 5th Gen Ryzen 9-5900HX | 3.3GHz Processor</td>\n",
       "      <td>1 TB SSD/32 GB DDR5 Memory</td>\n",
       "      <td>AVAILABLE ₹ 162,869\\nBUY NOW</td>\n",
       "      <td>None</td>\n",
       "    </tr>\n",
       "    <tr>\n",
       "      <th>6</th>\n",
       "      <td>7.\\nOmen By HP (16-C0141AX)</td>\n",
       "      <td>Windows 11 Home</td>\n",
       "      <td>AMD Ryzen™ 9 5900HX | 3.3 GHz Processor</td>\n",
       "      <td>1 TB SSD/32 GB DDR5 Memory</td>\n",
       "      <td>AVAILABLE ₹ 174,000\\nBUY NOW</td>\n",
       "      <td>None</td>\n",
       "    </tr>\n",
       "    <tr>\n",
       "      <th>7</th>\n",
       "      <td>8.\\nLenovo Legion 5i Pro (82RF00MGIN)</td>\n",
       "      <td>Windows 11 Home</td>\n",
       "      <td>12th Gen Intel Core i7-12700H | 2.3 GHz Processor</td>\n",
       "      <td>1 TB SSD/32 GB DDR5 Memory</td>\n",
       "      <td>AVAILABLE ₹ 131,990\\nBUY NOW</td>\n",
       "      <td>None</td>\n",
       "    </tr>\n",
       "    <tr>\n",
       "      <th>8</th>\n",
       "      <td>9.\\nAlienware M15 R5 Ryzen Edition Icc-C780001win</td>\n",
       "      <td>Windows 11 Home</td>\n",
       "      <td>AMD Ryzen R7-5800H | 4.40 GHz Processor</td>\n",
       "      <td>512 GB SSD/16 GB DDR4 Memory</td>\n",
       "      <td></td>\n",
       "      <td>None</td>\n",
       "    </tr>\n",
       "    <tr>\n",
       "      <th>9</th>\n",
       "      <td>10.\\nLenovo Slim 7 Gen 6 (82K8002JIN)</td>\n",
       "      <td>Windows 11 Home</td>\n",
       "      <td>Lenovo Ryzen 7-5800H | 3.2 GHz Processor</td>\n",
       "      <td>1 TB SSD/32 GB DDR5 Memory</td>\n",
       "      <td>-</td>\n",
       "      <td>None</td>\n",
       "    </tr>\n",
       "  </tbody>\n",
       "</table>\n",
       "</div>"
      ],
      "text/plain": [
       "                                      Laptops Models               Os  \\\n",
       "0                           1.\\nMSI Titan GT77-12UHS  Windows 11 Home   \n",
       "1                               2.\\nAlienware X17 R2  Windows 11 Home   \n",
       "2          3.\\nAcer Predator Triton 500 SE PT516-52s  Windows 11 Home   \n",
       "3                        4.\\nOmen By HP (16-B1371TX)  Windows 11 Home   \n",
       "4              5.\\nAcer Predator Helios 300 AN515-45  Windows 11 Home   \n",
       "5                     6.\\nMSI Delta 15 (A5EFK-083IN)  Windows 11 Home   \n",
       "6                        7.\\nOmen By HP (16-C0141AX)  Windows 11 Home   \n",
       "7              8.\\nLenovo Legion 5i Pro (82RF00MGIN)  Windows 11 Home   \n",
       "8  9.\\nAlienware M15 R5 Ryzen Edition Icc-C780001win  Windows 11 Home   \n",
       "9              10.\\nLenovo Slim 7 Gen 6 (82K8002JIN)  Windows 11 Home   \n",
       "\n",
       "                                           Processor  \\\n",
       "0  12th Gen Intel Core i7-12700H | 3.5 GHz Processor   \n",
       "1      12th Gen Intel Core i9-12900HX | NA Processor   \n",
       "2  12th Gen Intel Core i7-12700H | 3.5 GHz Processor   \n",
       "3  12th Gen Intel Core i7-12700H | 4.7 GHz Processor   \n",
       "4                  AMD Ryzen 9-5900HX | NA Processor   \n",
       "5      AMD 5th Gen Ryzen 9-5900HX | 3.3GHz Processor   \n",
       "6            AMD Ryzen™ 9 5900HX | 3.3 GHz Processor   \n",
       "7  12th Gen Intel Core i7-12700H | 2.3 GHz Processor   \n",
       "8            AMD Ryzen R7-5800H | 4.40 GHz Processor   \n",
       "9           Lenovo Ryzen 7-5800H | 3.2 GHz Processor   \n",
       "\n",
       "               Storage Capacity                         Price Image  \n",
       "0    2 TB SSD/64 GB DDR5 Memory  AVAILABLE ₹ 229,990\\nBUY NOW  None  \n",
       "1    1 TB SSD/32 GB DDR5 Memory  AVAILABLE ₹ 176,290\\nBUY NOW  None  \n",
       "2    2 TB SSD/64 GB DDR5 Memory  AVAILABLE ₹ 124,990\\nBUY NOW  None  \n",
       "3  512 GB SSD/16 GB DDR4 Memory                                None  \n",
       "4    1 TB SSD/32 GB DDR5 Memory                                None  \n",
       "5    1 TB SSD/32 GB DDR5 Memory  AVAILABLE ₹ 162,869\\nBUY NOW  None  \n",
       "6    1 TB SSD/32 GB DDR5 Memory  AVAILABLE ₹ 174,000\\nBUY NOW  None  \n",
       "7    1 TB SSD/32 GB DDR5 Memory  AVAILABLE ₹ 131,990\\nBUY NOW  None  \n",
       "8  512 GB SSD/16 GB DDR4 Memory                                None  \n",
       "9    1 TB SSD/32 GB DDR5 Memory                             -  None  "
      ]
     },
     "execution_count": 27,
     "metadata": {},
     "output_type": "execute_result"
    }
   ],
   "source": [
    "Gaming_Laptops=pd.DataFrame({\"Laptops Models\":Company_name,\"Os\":Windows,\"Processor\":Processor,\"Storage Capacity\":Storage,\"Price\":Price,\"Image\":Pictures})\n",
    "Gaming_Laptops"
   ]
  },
  {
   "cell_type": "code",
   "execution_count": 28,
   "id": "61eef2eb",
   "metadata": {},
   "outputs": [],
   "source": [
    "Gaming_Laptops.to_csv(r'C:\\Users\\amits\\Downloads\\Gaming laptops.csv',header=True,index=True )"
   ]
  },
  {
   "cell_type": "code",
   "execution_count": null,
   "id": "6f3f9c08",
   "metadata": {},
   "outputs": [],
   "source": [
    "driver.close()"
   ]
  }
 ],
 "metadata": {
  "kernelspec": {
   "display_name": "Python 3 (ipykernel)",
   "language": "python",
   "name": "python3"
  },
  "language_info": {
   "codemirror_mode": {
    "name": "ipython",
    "version": 3
   },
   "file_extension": ".py",
   "mimetype": "text/x-python",
   "name": "python",
   "nbconvert_exporter": "python",
   "pygments_lexer": "ipython3",
   "version": "3.9.12"
  }
 },
 "nbformat": 4,
 "nbformat_minor": 5
}
