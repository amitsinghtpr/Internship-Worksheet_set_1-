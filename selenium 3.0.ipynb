{
 "cells": [
  {
   "cell_type": "markdown",
   "id": "96a79191",
   "metadata": {},
   "source": [
    "So in this notebook we will scrape data frm https://www.flipkart.com/ website for Purchasing of Iphone 13. We will scrape 4 feilds for each job as mentioned below.\n",
    "\n",
    "1) Iphone Model. 2) Camera. 3) Display. 4)Price. 5)Rating"
   ]
  },
  {
   "cell_type": "code",
   "execution_count": 1,
   "id": "af2f0421",
   "metadata": {},
   "outputs": [],
   "source": [
    "import selenium\n",
    "from selenium import webdriver\n",
    "import pandas as pd \n",
    "from selenium.webdriver.common.by import By\n",
    "import warnings\n",
    "warnings.filterwarnings(\"ignore\")\n",
    "import time"
   ]
  },
  {
   "cell_type": "code",
   "execution_count": 2,
   "id": "29804cfa",
   "metadata": {},
   "outputs": [],
   "source": [
    "# Importing Chromedriver\n",
    "driver=webdriver.Chrome(r'\"C:\\Users\\amits\\Desktop\\chromedriver_win32\\chromedriver.exe\"')"
   ]
  },
  {
   "cell_type": "code",
   "execution_count": 3,
   "id": "cc3b9012",
   "metadata": {},
   "outputs": [],
   "source": [
    "url='https://www.flipkart.com'\n",
    "driver.get(url)"
   ]
  },
  {
   "cell_type": "code",
   "execution_count": 4,
   "id": "dc347f63",
   "metadata": {},
   "outputs": [],
   "source": [
    "search=driver.find_element(By.CLASS_NAME,\"_3704LK\")\n",
    "search.send_keys(\"Iphone 13\")"
   ]
  },
  {
   "cell_type": "code",
   "execution_count": 5,
   "id": "cfdc363d",
   "metadata": {},
   "outputs": [],
   "source": [
    "search_butn=driver.find_element(By.CLASS_NAME,\"_34RNph\")\n",
    "search_butn.click()"
   ]
  },
  {
   "cell_type": "markdown",
   "id": "32c15d5c",
   "metadata": {},
   "source": [
    "**Extracting Apple Model**"
   ]
  },
  {
   "cell_type": "code",
   "execution_count": 6,
   "id": "b80d34cd",
   "metadata": {},
   "outputs": [
    {
     "data": {
      "text/plain": [
       "24"
      ]
     },
     "execution_count": 6,
     "metadata": {},
     "output_type": "execute_result"
    }
   ],
   "source": [
    "# Extacting all the web element having IPHONE Model.\n",
    "Apple_Model=[]\n",
    "model_tags= driver.find_elements(By.XPATH,\"//div[@class='_4rR01T']\")\n",
    "for i in model_tags:\n",
    "    Apple_Model.append(i.text)\n",
    "len(Apple_Model)# checking the length of Apple Model"
   ]
  },
  {
   "cell_type": "code",
   "execution_count": 8,
   "id": "f9fb9ba0",
   "metadata": {},
   "outputs": [
    {
     "data": {
      "text/plain": [
       "['APPLE iPhone 13 (Midnight, 128 GB)',\n",
       " 'APPLE iPhone 13 (Green, 128 GB)',\n",
       " 'APPLE iPhone 13 (Blue, 128 GB)',\n",
       " 'APPLE iPhone 13 (Starlight, 128 GB)',\n",
       " 'APPLE iPhone 13 (Green, 256 GB)',\n",
       " 'APPLE iPhone 13 (Pink, 128 GB)',\n",
       " 'APPLE iPhone 13 (Blue, 256 GB)',\n",
       " 'APPLE iPhone 13 (Midnight, 256 GB)',\n",
       " 'APPLE iPhone 13 (Starlight, 256 GB)',\n",
       " 'APPLE iPhone 13 ((PRODUCT)RED, 256 GB)',\n",
       " 'APPLE iPhone 13 (Blue, 512 GB)',\n",
       " 'APPLE iPhone 13 (Starlight, 512 GB)',\n",
       " 'APPLE iPhone 13 (Pink, 512 GB)',\n",
       " 'APPLE iPhone 13 (Midnight, 512 GB)',\n",
       " 'APPLE iPhone 13 (Green, 512 GB)',\n",
       " 'APPLE iPhone 13 (Pink, 256 GB)',\n",
       " 'APPLE iPhone 13 ((PRODUCT)RED, 128 GB)',\n",
       " 'APPLE iPhone 13 (Red, 512 GB)',\n",
       " 'APPLE iPhone 11 (Black, 64 GB)',\n",
       " 'APPLE iPhone 11 (Purple, 64 GB)',\n",
       " 'APPLE iPhone 11 (Green, 128 GB)',\n",
       " 'APPLE iPhone 11 (Purple, 128 GB)',\n",
       " 'APPLE iPhone 11 (Black, 128 GB)',\n",
       " 'APPLE iPhone 11 (Green, 64 GB)']"
      ]
     },
     "execution_count": 8,
     "metadata": {},
     "output_type": "execute_result"
    }
   ],
   "source": [
    "Apple_Model"
   ]
  },
  {
   "cell_type": "markdown",
   "id": "50429846",
   "metadata": {},
   "source": [
    "**Extracting Price of Apple Model**"
   ]
  },
  {
   "cell_type": "code",
   "execution_count": 9,
   "id": "2e834a48",
   "metadata": {},
   "outputs": [
    {
     "data": {
      "text/plain": [
       "24"
      ]
     },
     "execution_count": 9,
     "metadata": {},
     "output_type": "execute_result"
    }
   ],
   "source": [
    "# Extacting all the web element having Price of IPHONE Model.\n",
    "Price=[]\n",
    "price_tags= driver.find_elements(By.XPATH,\"//div[@class='_30jeq3 _1_WHN1']\")\n",
    "for i in price_tags:\n",
    "    Price.append(i.text)\n",
    "len(Price)# checking the length of Price of Apple Model"
   ]
  },
  {
   "cell_type": "code",
   "execution_count": 10,
   "id": "14429ff9",
   "metadata": {},
   "outputs": [
    {
     "data": {
      "text/plain": [
       "['₹65,999',\n",
       " '₹65,999',\n",
       " '₹65,999',\n",
       " '₹65,999',\n",
       " '₹74,999',\n",
       " '₹65,999',\n",
       " '₹74,999',\n",
       " '₹74,999',\n",
       " '₹74,999',\n",
       " '₹74,999',\n",
       " '₹93,999',\n",
       " '₹93,999',\n",
       " '₹93,999',\n",
       " '₹93,999',\n",
       " '₹93,999',\n",
       " '₹74,999',\n",
       " '₹65,999',\n",
       " '₹93,999',\n",
       " '₹40,990',\n",
       " '₹40,990',\n",
       " '₹45,990',\n",
       " '₹45,990',\n",
       " '₹45,990',\n",
       " '₹40,990']"
      ]
     },
     "execution_count": 10,
     "metadata": {},
     "output_type": "execute_result"
    }
   ],
   "source": [
    "Price"
   ]
  },
  {
   "cell_type": "markdown",
   "id": "0620fb6b",
   "metadata": {},
   "source": [
    "**Extracting Camera Specification**"
   ]
  },
  {
   "cell_type": "code",
   "execution_count": 16,
   "id": "ab1669d1",
   "metadata": {},
   "outputs": [
    {
     "data": {
      "text/plain": [
       "1"
      ]
     },
     "execution_count": 16,
     "metadata": {},
     "output_type": "execute_result"
    }
   ],
   "source": [
    "# Extacting all the web element having Camera of IPHONE Model.Using Full Xpath as the Name of the Elements is same .\n",
    "Camera=[]\n",
    "cam_tags= driver.find_elements(By.XPATH,\"/html/body/div[1]/div/div[3]/div[1]/div[2]/div[2]/div/div/div/a/div[2]/div[1]/div[3]/ul/li[3]\")\n",
    "for i in cam_tags:\n",
    "    Camera.append(i.text)\n",
    "len(Camera)# checking the length of Camera in Apple Model"
   ]
  },
  {
   "cell_type": "code",
   "execution_count": 17,
   "id": "8333f976",
   "metadata": {},
   "outputs": [
    {
     "data": {
      "text/plain": [
       "['12MP + 12MP | 12MP Front Camera']"
      ]
     },
     "execution_count": 17,
     "metadata": {},
     "output_type": "execute_result"
    }
   ],
   "source": [
    "Camera"
   ]
  },
  {
   "cell_type": "code",
   "execution_count": 28,
   "id": "d9a4db05",
   "metadata": {},
   "outputs": [],
   "source": [
    "cam=Camera*24"
   ]
  },
  {
   "cell_type": "code",
   "execution_count": 30,
   "id": "b2d53b26",
   "metadata": {},
   "outputs": [
    {
     "data": {
      "text/plain": [
       "24"
      ]
     },
     "execution_count": 30,
     "metadata": {},
     "output_type": "execute_result"
    }
   ],
   "source": [
    "len(cam)"
   ]
  },
  {
   "cell_type": "code",
   "execution_count": 31,
   "id": "24246868",
   "metadata": {},
   "outputs": [
    {
     "data": {
      "text/plain": [
       "['12MP + 12MP | 12MP Front Camera',\n",
       " '12MP + 12MP | 12MP Front Camera',\n",
       " '12MP + 12MP | 12MP Front Camera',\n",
       " '12MP + 12MP | 12MP Front Camera',\n",
       " '12MP + 12MP | 12MP Front Camera',\n",
       " '12MP + 12MP | 12MP Front Camera',\n",
       " '12MP + 12MP | 12MP Front Camera',\n",
       " '12MP + 12MP | 12MP Front Camera',\n",
       " '12MP + 12MP | 12MP Front Camera',\n",
       " '12MP + 12MP | 12MP Front Camera',\n",
       " '12MP + 12MP | 12MP Front Camera',\n",
       " '12MP + 12MP | 12MP Front Camera',\n",
       " '12MP + 12MP | 12MP Front Camera',\n",
       " '12MP + 12MP | 12MP Front Camera',\n",
       " '12MP + 12MP | 12MP Front Camera',\n",
       " '12MP + 12MP | 12MP Front Camera',\n",
       " '12MP + 12MP | 12MP Front Camera',\n",
       " '12MP + 12MP | 12MP Front Camera',\n",
       " '12MP + 12MP | 12MP Front Camera',\n",
       " '12MP + 12MP | 12MP Front Camera',\n",
       " '12MP + 12MP | 12MP Front Camera',\n",
       " '12MP + 12MP | 12MP Front Camera',\n",
       " '12MP + 12MP | 12MP Front Camera',\n",
       " '12MP + 12MP | 12MP Front Camera']"
      ]
     },
     "execution_count": 31,
     "metadata": {},
     "output_type": "execute_result"
    }
   ],
   "source": [
    "cam"
   ]
  },
  {
   "cell_type": "markdown",
   "id": "ae8b9d6f",
   "metadata": {},
   "source": [
    "**Extracting Display Of Apple Model**"
   ]
  },
  {
   "cell_type": "code",
   "execution_count": 21,
   "id": "dd854d7d",
   "metadata": {},
   "outputs": [
    {
     "data": {
      "text/plain": [
       "1"
      ]
     },
     "execution_count": 21,
     "metadata": {},
     "output_type": "execute_result"
    }
   ],
   "source": [
    "# Extacting all the web element having Display of IPHONE Model.Using Full Xpath as the Name of the Elements is same .\n",
    "Display=[]\n",
    "dis_tags= driver.find_elements(By.XPATH,\"/html/body/div[1]/div/div[3]/div[1]/div[2]/div[2]/div/div/div/a/div[2]/div[1]/div[3]/ul/li[2]\")\n",
    "for i in dis_tags:\n",
    "    Display.append(i.text)\n",
    "len(Display)# checking the length of Display in Apple Model"
   ]
  },
  {
   "cell_type": "code",
   "execution_count": 22,
   "id": "d9575d5b",
   "metadata": {},
   "outputs": [],
   "source": [
    "Display=Display*24"
   ]
  },
  {
   "cell_type": "code",
   "execution_count": 23,
   "id": "d16fe127",
   "metadata": {},
   "outputs": [
    {
     "data": {
      "text/plain": [
       "24"
      ]
     },
     "execution_count": 23,
     "metadata": {},
     "output_type": "execute_result"
    }
   ],
   "source": [
    "len(Display)"
   ]
  },
  {
   "cell_type": "markdown",
   "id": "d131dd61",
   "metadata": {},
   "source": [
    " **Extracting Rating of Iphone Model**"
   ]
  },
  {
   "cell_type": "code",
   "execution_count": 24,
   "id": "5b6ebc82",
   "metadata": {},
   "outputs": [
    {
     "data": {
      "text/plain": [
       "24"
      ]
     },
     "execution_count": 24,
     "metadata": {},
     "output_type": "execute_result"
    }
   ],
   "source": [
    "# Extacting all the web element having rating of IPHONE Model.Using  Xpath as the Name of the Elements is different  .\n",
    "Rating=[]\n",
    "rate_tags= driver.find_elements(By.XPATH,\"//div[@class='_3LWZlK']\")\n",
    "for i in rate_tags:\n",
    "    Rating.append(i.text)\n",
    "len(Rating)# checking the length of Rating in Apple Model"
   ]
  },
  {
   "cell_type": "code",
   "execution_count": 25,
   "id": "474e2d92",
   "metadata": {},
   "outputs": [
    {
     "data": {
      "text/plain": [
       "['4.7',\n",
       " '4.7',\n",
       " '4.7',\n",
       " '4.7',\n",
       " '4.7',\n",
       " '4.7',\n",
       " '4.7',\n",
       " '4.7',\n",
       " '4.7',\n",
       " '4.7',\n",
       " '4.7',\n",
       " '4.7',\n",
       " '4.7',\n",
       " '4.7',\n",
       " '4.7',\n",
       " '4.7',\n",
       " '4.7',\n",
       " '4.7',\n",
       " '4.6',\n",
       " '4.6',\n",
       " '4.6',\n",
       " '4.6',\n",
       " '4.6',\n",
       " '4.6']"
      ]
     },
     "execution_count": 25,
     "metadata": {},
     "output_type": "execute_result"
    }
   ],
   "source": [
    "Rating"
   ]
  },
  {
   "cell_type": "code",
   "execution_count": 32,
   "id": "e92d340c",
   "metadata": {},
   "outputs": [
    {
     "name": "stdout",
     "output_type": "stream",
     "text": [
      "24 24 24 24 24\n"
     ]
    }
   ],
   "source": [
    "#Checking the length of all th fields. \n",
    "print(len(Apple_Model),len(cam),len(Display),len(Price),len(Rating))"
   ]
  },
  {
   "cell_type": "code",
   "execution_count": 33,
   "id": "739abf64",
   "metadata": {},
   "outputs": [],
   "source": [
    "# Creating DataFrame and inserting Scapped Element in the DataFrame\n",
    "Kata_HUA_Sev=pd.DataFrame({\"Iphone Model\":Apple_Model,\"Camera\":cam,\"Display\":Display,\"Price\":Price,\"Rating\":Rating})"
   ]
  },
  {
   "cell_type": "code",
   "execution_count": 34,
   "id": "1b1f14f7",
   "metadata": {},
   "outputs": [
    {
     "data": {
      "text/html": [
       "<div>\n",
       "<style scoped>\n",
       "    .dataframe tbody tr th:only-of-type {\n",
       "        vertical-align: middle;\n",
       "    }\n",
       "\n",
       "    .dataframe tbody tr th {\n",
       "        vertical-align: top;\n",
       "    }\n",
       "\n",
       "    .dataframe thead th {\n",
       "        text-align: right;\n",
       "    }\n",
       "</style>\n",
       "<table border=\"1\" class=\"dataframe\">\n",
       "  <thead>\n",
       "    <tr style=\"text-align: right;\">\n",
       "      <th></th>\n",
       "      <th>Iphone Model</th>\n",
       "      <th>Camera</th>\n",
       "      <th>Display</th>\n",
       "      <th>Price</th>\n",
       "      <th>Rating</th>\n",
       "    </tr>\n",
       "  </thead>\n",
       "  <tbody>\n",
       "    <tr>\n",
       "      <th>0</th>\n",
       "      <td>APPLE iPhone 13 (Midnight, 128 GB)</td>\n",
       "      <td>12MP + 12MP | 12MP Front Camera</td>\n",
       "      <td>15.49 cm (6.1 inch) Super Retina XDR Display</td>\n",
       "      <td>₹65,999</td>\n",
       "      <td>4.7</td>\n",
       "    </tr>\n",
       "    <tr>\n",
       "      <th>1</th>\n",
       "      <td>APPLE iPhone 13 (Green, 128 GB)</td>\n",
       "      <td>12MP + 12MP | 12MP Front Camera</td>\n",
       "      <td>15.49 cm (6.1 inch) Super Retina XDR Display</td>\n",
       "      <td>₹65,999</td>\n",
       "      <td>4.7</td>\n",
       "    </tr>\n",
       "    <tr>\n",
       "      <th>2</th>\n",
       "      <td>APPLE iPhone 13 (Blue, 128 GB)</td>\n",
       "      <td>12MP + 12MP | 12MP Front Camera</td>\n",
       "      <td>15.49 cm (6.1 inch) Super Retina XDR Display</td>\n",
       "      <td>₹65,999</td>\n",
       "      <td>4.7</td>\n",
       "    </tr>\n",
       "    <tr>\n",
       "      <th>3</th>\n",
       "      <td>APPLE iPhone 13 (Starlight, 128 GB)</td>\n",
       "      <td>12MP + 12MP | 12MP Front Camera</td>\n",
       "      <td>15.49 cm (6.1 inch) Super Retina XDR Display</td>\n",
       "      <td>₹65,999</td>\n",
       "      <td>4.7</td>\n",
       "    </tr>\n",
       "    <tr>\n",
       "      <th>4</th>\n",
       "      <td>APPLE iPhone 13 (Green, 256 GB)</td>\n",
       "      <td>12MP + 12MP | 12MP Front Camera</td>\n",
       "      <td>15.49 cm (6.1 inch) Super Retina XDR Display</td>\n",
       "      <td>₹74,999</td>\n",
       "      <td>4.7</td>\n",
       "    </tr>\n",
       "    <tr>\n",
       "      <th>5</th>\n",
       "      <td>APPLE iPhone 13 (Pink, 128 GB)</td>\n",
       "      <td>12MP + 12MP | 12MP Front Camera</td>\n",
       "      <td>15.49 cm (6.1 inch) Super Retina XDR Display</td>\n",
       "      <td>₹65,999</td>\n",
       "      <td>4.7</td>\n",
       "    </tr>\n",
       "    <tr>\n",
       "      <th>6</th>\n",
       "      <td>APPLE iPhone 13 (Blue, 256 GB)</td>\n",
       "      <td>12MP + 12MP | 12MP Front Camera</td>\n",
       "      <td>15.49 cm (6.1 inch) Super Retina XDR Display</td>\n",
       "      <td>₹74,999</td>\n",
       "      <td>4.7</td>\n",
       "    </tr>\n",
       "    <tr>\n",
       "      <th>7</th>\n",
       "      <td>APPLE iPhone 13 (Midnight, 256 GB)</td>\n",
       "      <td>12MP + 12MP | 12MP Front Camera</td>\n",
       "      <td>15.49 cm (6.1 inch) Super Retina XDR Display</td>\n",
       "      <td>₹74,999</td>\n",
       "      <td>4.7</td>\n",
       "    </tr>\n",
       "    <tr>\n",
       "      <th>8</th>\n",
       "      <td>APPLE iPhone 13 (Starlight, 256 GB)</td>\n",
       "      <td>12MP + 12MP | 12MP Front Camera</td>\n",
       "      <td>15.49 cm (6.1 inch) Super Retina XDR Display</td>\n",
       "      <td>₹74,999</td>\n",
       "      <td>4.7</td>\n",
       "    </tr>\n",
       "    <tr>\n",
       "      <th>9</th>\n",
       "      <td>APPLE iPhone 13 ((PRODUCT)RED, 256 GB)</td>\n",
       "      <td>12MP + 12MP | 12MP Front Camera</td>\n",
       "      <td>15.49 cm (6.1 inch) Super Retina XDR Display</td>\n",
       "      <td>₹74,999</td>\n",
       "      <td>4.7</td>\n",
       "    </tr>\n",
       "    <tr>\n",
       "      <th>10</th>\n",
       "      <td>APPLE iPhone 13 (Blue, 512 GB)</td>\n",
       "      <td>12MP + 12MP | 12MP Front Camera</td>\n",
       "      <td>15.49 cm (6.1 inch) Super Retina XDR Display</td>\n",
       "      <td>₹93,999</td>\n",
       "      <td>4.7</td>\n",
       "    </tr>\n",
       "    <tr>\n",
       "      <th>11</th>\n",
       "      <td>APPLE iPhone 13 (Starlight, 512 GB)</td>\n",
       "      <td>12MP + 12MP | 12MP Front Camera</td>\n",
       "      <td>15.49 cm (6.1 inch) Super Retina XDR Display</td>\n",
       "      <td>₹93,999</td>\n",
       "      <td>4.7</td>\n",
       "    </tr>\n",
       "    <tr>\n",
       "      <th>12</th>\n",
       "      <td>APPLE iPhone 13 (Pink, 512 GB)</td>\n",
       "      <td>12MP + 12MP | 12MP Front Camera</td>\n",
       "      <td>15.49 cm (6.1 inch) Super Retina XDR Display</td>\n",
       "      <td>₹93,999</td>\n",
       "      <td>4.7</td>\n",
       "    </tr>\n",
       "    <tr>\n",
       "      <th>13</th>\n",
       "      <td>APPLE iPhone 13 (Midnight, 512 GB)</td>\n",
       "      <td>12MP + 12MP | 12MP Front Camera</td>\n",
       "      <td>15.49 cm (6.1 inch) Super Retina XDR Display</td>\n",
       "      <td>₹93,999</td>\n",
       "      <td>4.7</td>\n",
       "    </tr>\n",
       "    <tr>\n",
       "      <th>14</th>\n",
       "      <td>APPLE iPhone 13 (Green, 512 GB)</td>\n",
       "      <td>12MP + 12MP | 12MP Front Camera</td>\n",
       "      <td>15.49 cm (6.1 inch) Super Retina XDR Display</td>\n",
       "      <td>₹93,999</td>\n",
       "      <td>4.7</td>\n",
       "    </tr>\n",
       "    <tr>\n",
       "      <th>15</th>\n",
       "      <td>APPLE iPhone 13 (Pink, 256 GB)</td>\n",
       "      <td>12MP + 12MP | 12MP Front Camera</td>\n",
       "      <td>15.49 cm (6.1 inch) Super Retina XDR Display</td>\n",
       "      <td>₹74,999</td>\n",
       "      <td>4.7</td>\n",
       "    </tr>\n",
       "    <tr>\n",
       "      <th>16</th>\n",
       "      <td>APPLE iPhone 13 ((PRODUCT)RED, 128 GB)</td>\n",
       "      <td>12MP + 12MP | 12MP Front Camera</td>\n",
       "      <td>15.49 cm (6.1 inch) Super Retina XDR Display</td>\n",
       "      <td>₹65,999</td>\n",
       "      <td>4.7</td>\n",
       "    </tr>\n",
       "    <tr>\n",
       "      <th>17</th>\n",
       "      <td>APPLE iPhone 13 (Red, 512 GB)</td>\n",
       "      <td>12MP + 12MP | 12MP Front Camera</td>\n",
       "      <td>15.49 cm (6.1 inch) Super Retina XDR Display</td>\n",
       "      <td>₹93,999</td>\n",
       "      <td>4.7</td>\n",
       "    </tr>\n",
       "    <tr>\n",
       "      <th>18</th>\n",
       "      <td>APPLE iPhone 11 (Black, 64 GB)</td>\n",
       "      <td>12MP + 12MP | 12MP Front Camera</td>\n",
       "      <td>15.49 cm (6.1 inch) Super Retina XDR Display</td>\n",
       "      <td>₹40,990</td>\n",
       "      <td>4.6</td>\n",
       "    </tr>\n",
       "    <tr>\n",
       "      <th>19</th>\n",
       "      <td>APPLE iPhone 11 (Purple, 64 GB)</td>\n",
       "      <td>12MP + 12MP | 12MP Front Camera</td>\n",
       "      <td>15.49 cm (6.1 inch) Super Retina XDR Display</td>\n",
       "      <td>₹40,990</td>\n",
       "      <td>4.6</td>\n",
       "    </tr>\n",
       "    <tr>\n",
       "      <th>20</th>\n",
       "      <td>APPLE iPhone 11 (Green, 128 GB)</td>\n",
       "      <td>12MP + 12MP | 12MP Front Camera</td>\n",
       "      <td>15.49 cm (6.1 inch) Super Retina XDR Display</td>\n",
       "      <td>₹45,990</td>\n",
       "      <td>4.6</td>\n",
       "    </tr>\n",
       "    <tr>\n",
       "      <th>21</th>\n",
       "      <td>APPLE iPhone 11 (Purple, 128 GB)</td>\n",
       "      <td>12MP + 12MP | 12MP Front Camera</td>\n",
       "      <td>15.49 cm (6.1 inch) Super Retina XDR Display</td>\n",
       "      <td>₹45,990</td>\n",
       "      <td>4.6</td>\n",
       "    </tr>\n",
       "    <tr>\n",
       "      <th>22</th>\n",
       "      <td>APPLE iPhone 11 (Black, 128 GB)</td>\n",
       "      <td>12MP + 12MP | 12MP Front Camera</td>\n",
       "      <td>15.49 cm (6.1 inch) Super Retina XDR Display</td>\n",
       "      <td>₹45,990</td>\n",
       "      <td>4.6</td>\n",
       "    </tr>\n",
       "    <tr>\n",
       "      <th>23</th>\n",
       "      <td>APPLE iPhone 11 (Green, 64 GB)</td>\n",
       "      <td>12MP + 12MP | 12MP Front Camera</td>\n",
       "      <td>15.49 cm (6.1 inch) Super Retina XDR Display</td>\n",
       "      <td>₹40,990</td>\n",
       "      <td>4.6</td>\n",
       "    </tr>\n",
       "  </tbody>\n",
       "</table>\n",
       "</div>"
      ],
      "text/plain": [
       "                              Iphone Model                           Camera  \\\n",
       "0       APPLE iPhone 13 (Midnight, 128 GB)  12MP + 12MP | 12MP Front Camera   \n",
       "1          APPLE iPhone 13 (Green, 128 GB)  12MP + 12MP | 12MP Front Camera   \n",
       "2           APPLE iPhone 13 (Blue, 128 GB)  12MP + 12MP | 12MP Front Camera   \n",
       "3      APPLE iPhone 13 (Starlight, 128 GB)  12MP + 12MP | 12MP Front Camera   \n",
       "4          APPLE iPhone 13 (Green, 256 GB)  12MP + 12MP | 12MP Front Camera   \n",
       "5           APPLE iPhone 13 (Pink, 128 GB)  12MP + 12MP | 12MP Front Camera   \n",
       "6           APPLE iPhone 13 (Blue, 256 GB)  12MP + 12MP | 12MP Front Camera   \n",
       "7       APPLE iPhone 13 (Midnight, 256 GB)  12MP + 12MP | 12MP Front Camera   \n",
       "8      APPLE iPhone 13 (Starlight, 256 GB)  12MP + 12MP | 12MP Front Camera   \n",
       "9   APPLE iPhone 13 ((PRODUCT)RED, 256 GB)  12MP + 12MP | 12MP Front Camera   \n",
       "10          APPLE iPhone 13 (Blue, 512 GB)  12MP + 12MP | 12MP Front Camera   \n",
       "11     APPLE iPhone 13 (Starlight, 512 GB)  12MP + 12MP | 12MP Front Camera   \n",
       "12          APPLE iPhone 13 (Pink, 512 GB)  12MP + 12MP | 12MP Front Camera   \n",
       "13      APPLE iPhone 13 (Midnight, 512 GB)  12MP + 12MP | 12MP Front Camera   \n",
       "14         APPLE iPhone 13 (Green, 512 GB)  12MP + 12MP | 12MP Front Camera   \n",
       "15          APPLE iPhone 13 (Pink, 256 GB)  12MP + 12MP | 12MP Front Camera   \n",
       "16  APPLE iPhone 13 ((PRODUCT)RED, 128 GB)  12MP + 12MP | 12MP Front Camera   \n",
       "17           APPLE iPhone 13 (Red, 512 GB)  12MP + 12MP | 12MP Front Camera   \n",
       "18          APPLE iPhone 11 (Black, 64 GB)  12MP + 12MP | 12MP Front Camera   \n",
       "19         APPLE iPhone 11 (Purple, 64 GB)  12MP + 12MP | 12MP Front Camera   \n",
       "20         APPLE iPhone 11 (Green, 128 GB)  12MP + 12MP | 12MP Front Camera   \n",
       "21        APPLE iPhone 11 (Purple, 128 GB)  12MP + 12MP | 12MP Front Camera   \n",
       "22         APPLE iPhone 11 (Black, 128 GB)  12MP + 12MP | 12MP Front Camera   \n",
       "23          APPLE iPhone 11 (Green, 64 GB)  12MP + 12MP | 12MP Front Camera   \n",
       "\n",
       "                                         Display    Price Rating  \n",
       "0   15.49 cm (6.1 inch) Super Retina XDR Display  ₹65,999    4.7  \n",
       "1   15.49 cm (6.1 inch) Super Retina XDR Display  ₹65,999    4.7  \n",
       "2   15.49 cm (6.1 inch) Super Retina XDR Display  ₹65,999    4.7  \n",
       "3   15.49 cm (6.1 inch) Super Retina XDR Display  ₹65,999    4.7  \n",
       "4   15.49 cm (6.1 inch) Super Retina XDR Display  ₹74,999    4.7  \n",
       "5   15.49 cm (6.1 inch) Super Retina XDR Display  ₹65,999    4.7  \n",
       "6   15.49 cm (6.1 inch) Super Retina XDR Display  ₹74,999    4.7  \n",
       "7   15.49 cm (6.1 inch) Super Retina XDR Display  ₹74,999    4.7  \n",
       "8   15.49 cm (6.1 inch) Super Retina XDR Display  ₹74,999    4.7  \n",
       "9   15.49 cm (6.1 inch) Super Retina XDR Display  ₹74,999    4.7  \n",
       "10  15.49 cm (6.1 inch) Super Retina XDR Display  ₹93,999    4.7  \n",
       "11  15.49 cm (6.1 inch) Super Retina XDR Display  ₹93,999    4.7  \n",
       "12  15.49 cm (6.1 inch) Super Retina XDR Display  ₹93,999    4.7  \n",
       "13  15.49 cm (6.1 inch) Super Retina XDR Display  ₹93,999    4.7  \n",
       "14  15.49 cm (6.1 inch) Super Retina XDR Display  ₹93,999    4.7  \n",
       "15  15.49 cm (6.1 inch) Super Retina XDR Display  ₹74,999    4.7  \n",
       "16  15.49 cm (6.1 inch) Super Retina XDR Display  ₹65,999    4.7  \n",
       "17  15.49 cm (6.1 inch) Super Retina XDR Display  ₹93,999    4.7  \n",
       "18  15.49 cm (6.1 inch) Super Retina XDR Display  ₹40,990    4.6  \n",
       "19  15.49 cm (6.1 inch) Super Retina XDR Display  ₹40,990    4.6  \n",
       "20  15.49 cm (6.1 inch) Super Retina XDR Display  ₹45,990    4.6  \n",
       "21  15.49 cm (6.1 inch) Super Retina XDR Display  ₹45,990    4.6  \n",
       "22  15.49 cm (6.1 inch) Super Retina XDR Display  ₹45,990    4.6  \n",
       "23  15.49 cm (6.1 inch) Super Retina XDR Display  ₹40,990    4.6  "
      ]
     },
     "execution_count": 34,
     "metadata": {},
     "output_type": "execute_result"
    }
   ],
   "source": [
    "Kata_HUA_Sev"
   ]
  },
  {
   "cell_type": "code",
   "execution_count": 35,
   "id": "e414e46d",
   "metadata": {},
   "outputs": [],
   "source": [
    "driver.close()"
   ]
  },
  {
   "cell_type": "code",
   "execution_count": null,
   "id": "a1be31e6",
   "metadata": {},
   "outputs": [],
   "source": []
  }
 ],
 "metadata": {
  "kernelspec": {
   "display_name": "Python 3 (ipykernel)",
   "language": "python",
   "name": "python3"
  },
  "language_info": {
   "codemirror_mode": {
    "name": "ipython",
    "version": 3
   },
   "file_extension": ".py",
   "mimetype": "text/x-python",
   "name": "python",
   "nbconvert_exporter": "python",
   "pygments_lexer": "ipython3",
   "version": "3.9.12"
  }
 },
 "nbformat": 4,
 "nbformat_minor": 5
}
