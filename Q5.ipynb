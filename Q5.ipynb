{
 "cells": [
  {
   "cell_type": "markdown",
   "id": "165159a7",
   "metadata": {},
   "source": [
    "5. Write a program to scrap geospatial coordinates (latitude, longitude) of a city searched on google\n",
    "   maps.\n"
   ]
  },
  {
   "cell_type": "code",
   "execution_count": 8,
   "id": "a5ff1796",
   "metadata": {},
   "outputs": [],
   "source": [
    "#Importing important library.\n",
    "import selenium\n",
    "from selenium import webdriver\n",
    "import pandas as pd\n",
    "from selenium.webdriver.common.by import By\n",
    "import warnings\n",
    "warnings.filterwarnings(\"ignore\")\n",
    "import time\n",
    "from bs4 import BeautifulSoup"
   ]
  },
  {
   "cell_type": "code",
   "execution_count": 21,
   "id": "1777fd94",
   "metadata": {},
   "outputs": [],
   "source": [
    "#Importing Chrome-webriver\n",
    "driver=webdriver.Chrome(r'\"C:\\Users\\amits\\Desktop\\chromedriver_win32\\chromedriver.exe\"')"
   ]
  },
  {
   "cell_type": "code",
   "execution_count": 22,
   "id": "31167998",
   "metadata": {},
   "outputs": [],
   "source": [
    "#Maximazing windows\n",
    "driver.maximize_window()"
   ]
  },
  {
   "cell_type": "code",
   "execution_count": 67,
   "id": "708b39d0",
   "metadata": {},
   "outputs": [],
   "source": [
    "#Opening Amazon Website\n",
    "url='https://www.google.com/maps'\n",
    "driver.get(url)"
   ]
  },
  {
   "cell_type": "code",
   "execution_count": 68,
   "id": "6b87d7ae",
   "metadata": {},
   "outputs": [],
   "source": [
    "time.sleep(3)"
   ]
  },
  {
   "cell_type": "code",
   "execution_count": 69,
   "id": "86672e87",
   "metadata": {},
   "outputs": [],
   "source": [
    "textBox=driver.find_element(By.ID,\"searchboxinput\") \n",
    "textBox.click() \n",
    "time.sleep(1)\n",
    "textBox.send_keys(\"25.226287403079212, 86.97335285045676\")\n",
    "time.sleep(2)"
   ]
  },
  {
   "cell_type": "code",
   "execution_count": 70,
   "id": "268db2ce",
   "metadata": {},
   "outputs": [],
   "source": [
    "textsearch=driver.find_element(By.XPATH,\"/html/body/div[3]/div[9]/div[3]/div[1]/div[1]/div/div[2]/div[1]/button\").click()"
   ]
  },
  {
   "cell_type": "code",
   "execution_count": 71,
   "id": "2731e306",
   "metadata": {},
   "outputs": [
    {
     "data": {
      "text/plain": [
       "['25°13\\'34.6\"N 86°58\\'24.1\"E']"
      ]
     },
     "execution_count": 71,
     "metadata": {},
     "output_type": "execute_result"
    }
   ],
   "source": [
    "Location=[]\n",
    "loc=driver.find_elements(By.XPATH,\"/html/body/div[3]/div[9]/div[9]/div/div/div[1]/div[2]/div/div[1]/div/div/div[2]/div[1]/div[1]/div[1]/h1/span[1]\")\n",
    "for i in loc:\n",
    "    Location.append(i.text)\n",
    "    \n",
    "Location"
   ]
  },
  {
   "cell_type": "code",
   "execution_count": null,
   "id": "2dda5595",
   "metadata": {},
   "outputs": [],
   "source": [
    "driver.close()"
   ]
  }
 ],
 "metadata": {
  "kernelspec": {
   "display_name": "Python 3 (ipykernel)",
   "language": "python",
   "name": "python3"
  },
  "language_info": {
   "codemirror_mode": {
    "name": "ipython",
    "version": 3
   },
   "file_extension": ".py",
   "mimetype": "text/x-python",
   "name": "python",
   "nbconvert_exporter": "python",
   "pygments_lexer": "ipython3",
   "version": "3.9.12"
  }
 },
 "nbformat": 4,
 "nbformat_minor": 5
}
