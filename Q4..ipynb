{
 "cells": [
  {
   "cell_type": "markdown",
   "id": "f7dbc87c",
   "metadata": {},
   "source": [
    "So in this notebook we will scrape data frm https://www.flipkart.com/ website for Purchasing of Smartphone. We will scrape the  feilds for each job as mentioned below.\n",
    "\n",
    "“Brand Name”, “Smartphone name”, “Colour”, “RAM”, “Storage(ROM)”, “Primary Camera”, \n",
    "“Secondary Camera”, “Display Size”, “Battery Capacity”, “Price”, “Product URL”"
   ]
  },
  {
   "cell_type": "code",
   "execution_count": 1,
   "id": "388713f0",
   "metadata": {},
   "outputs": [],
   "source": [
    "import selenium\n",
    "from selenium import webdriver\n",
    "import pandas as pd \n",
    "from selenium.webdriver.common.by import By\n",
    "import warnings\n",
    "warnings.filterwarnings(\"ignore\")\n",
    "import time"
   ]
  },
  {
   "cell_type": "code",
   "execution_count": 2,
   "id": "6737d694",
   "metadata": {},
   "outputs": [],
   "source": [
    "# Importing Chromedriver\n",
    "driver=webdriver.Chrome(r'\"C:\\Users\\amits\\Desktop\\chromedriver_win32\\chromedriver.exe\"')"
   ]
  },
  {
   "cell_type": "code",
   "execution_count": 18,
   "id": "5b472a57",
   "metadata": {},
   "outputs": [],
   "source": [
    "url='https://www.flipkart.com'\n",
    "driver.get(url)"
   ]
  },
  {
   "cell_type": "code",
   "execution_count": 19,
   "id": "0cc29e5b",
   "metadata": {},
   "outputs": [],
   "source": [
    "search=driver.find_element(By.CLASS_NAME,\"_3704LK\")\n",
    "search.send_keys(\"Iphone 13\")"
   ]
  },
  {
   "cell_type": "code",
   "execution_count": 20,
   "id": "718cc40e",
   "metadata": {},
   "outputs": [],
   "source": [
    "search_butn=driver.find_element(By.CLASS_NAME,\"_34RNph\")\n",
    "search_butn.click()"
   ]
  },
  {
   "cell_type": "markdown",
   "id": "2d06cbcc",
   "metadata": {},
   "source": [
    "**Extracting**"
   ]
  },
  {
   "cell_type": "code",
   "execution_count": 21,
   "id": "162ab247",
   "metadata": {},
   "outputs": [
    {
     "data": {
      "text/plain": [
       "24"
      ]
     },
     "execution_count": 21,
     "metadata": {},
     "output_type": "execute_result"
    }
   ],
   "source": [
    "# Extacting all the web element having IPHONE Model.\n",
    "Apple_Model=[]\n",
    "model_tags= driver.find_elements(By.XPATH,\"//div[@class='_4rR01T']\")\n",
    "for i in model_tags:\n",
    "    Apple_Model.append(i.text.split(\"|\")[0])\n",
    "len(Apple_Model)# checking the length of Apple Model"
   ]
  },
  {
   "cell_type": "code",
   "execution_count": 22,
   "id": "7f952b1d",
   "metadata": {},
   "outputs": [
    {
     "data": {
      "text/plain": [
       "['APPLE iPhone 13 (Starlight, 128 GB)',\n",
       " 'APPLE iPhone 13 (Midnight, 128 GB)',\n",
       " 'APPLE iPhone 13 (Green, 128 GB)',\n",
       " 'APPLE iPhone 13 (Blue, 128 GB)',\n",
       " 'APPLE iPhone 13 (Pink, 128 GB)',\n",
       " 'APPLE iPhone 13 ((PRODUCT)RED, 128 GB)',\n",
       " 'APPLE iPhone 13 (Pink, 256 GB)',\n",
       " 'APPLE iPhone 13 (Green, 256 GB)',\n",
       " 'APPLE iPhone 13 ((PRODUCT)RED, 256 GB)',\n",
       " 'APPLE iPhone 13 (Starlight, 256 GB)',\n",
       " 'APPLE iPhone 13 (Blue, 256 GB)',\n",
       " 'APPLE iPhone 13 (Midnight, 256 GB)',\n",
       " 'APPLE iPhone 13 (Blue, 512 GB)',\n",
       " 'APPLE iPhone 13 (Midnight, 512 GB)',\n",
       " 'APPLE iPhone 13 (Starlight, 512 GB)',\n",
       " 'APPLE iPhone 13 ((PRODUCT)RED, 512 GB)',\n",
       " 'APPLE iPhone 13 (Green, 512 GB)',\n",
       " 'APPLE iPhone 13 (Pink, 512 GB)',\n",
       " 'APPLE iPhone 11 (Black, 64 GB)',\n",
       " 'APPLE iPhone 11 (White, 64 GB)',\n",
       " 'APPLE iPhone 11 (Black, 128 GB)',\n",
       " 'APPLE iPhone 11 (Purple, 64 GB)',\n",
       " 'APPLE iPhone 11 (White, 128 GB)',\n",
       " 'APPLE iPhone 12 (Purple, 128 GB)']"
      ]
     },
     "execution_count": 22,
     "metadata": {},
     "output_type": "execute_result"
    }
   ],
   "source": [
    "Apple_Model"
   ]
  },
  {
   "cell_type": "markdown",
   "id": "acbdde97",
   "metadata": {},
   "source": [
    "**Price of Iphone Model**"
   ]
  },
  {
   "cell_type": "code",
   "execution_count": 23,
   "id": "3a60a3e5",
   "metadata": {},
   "outputs": [
    {
     "data": {
      "text/plain": [
       "24"
      ]
     },
     "execution_count": 23,
     "metadata": {},
     "output_type": "execute_result"
    }
   ],
   "source": [
    "# Extacting all the web element having Price of IPHONE Model.\n",
    "Price=[]\n",
    "price_tags= driver.find_elements(By.XPATH,\"//div[@class='_30jeq3 _1_WHN1']\")\n",
    "for i in price_tags:\n",
    "    Price.append(i.text)\n",
    "len(Price)# checking the length of Price of Apple Model"
   ]
  },
  {
   "cell_type": "code",
   "execution_count": 24,
   "id": "7dd71662",
   "metadata": {},
   "outputs": [
    {
     "data": {
      "text/plain": [
       "['₹65,999',\n",
       " '₹65,999',\n",
       " '₹65,999',\n",
       " '₹65,999',\n",
       " '₹65,999',\n",
       " '₹65,999',\n",
       " '₹74,999',\n",
       " '₹74,999',\n",
       " '₹74,999',\n",
       " '₹74,999',\n",
       " '₹74,999',\n",
       " '₹74,999',\n",
       " '₹93,999',\n",
       " '₹93,999',\n",
       " '₹93,999',\n",
       " '₹93,999',\n",
       " '₹93,999',\n",
       " '₹93,999',\n",
       " '₹39,999',\n",
       " '₹39,999',\n",
       " '₹48,900',\n",
       " '₹39,999',\n",
       " '₹48,900',\n",
       " '₹53,999']"
      ]
     },
     "execution_count": 24,
     "metadata": {},
     "output_type": "execute_result"
    }
   ],
   "source": [
    "Price"
   ]
  },
  {
   "cell_type": "markdown",
   "id": "dbc44c0c",
   "metadata": {},
   "source": [
    "**Extracting camera specification**"
   ]
  },
  {
   "cell_type": "code",
   "execution_count": 25,
   "id": "f9667773",
   "metadata": {},
   "outputs": [
    {
     "data": {
      "text/plain": [
       "1"
      ]
     },
     "execution_count": 25,
     "metadata": {},
     "output_type": "execute_result"
    }
   ],
   "source": [
    "# Extacting all the web element having Camera of IPHONE Model.Using Full Xpath as the Name of the Elements is same .\n",
    "Camera=[]\n",
    "cam_tags= driver.find_elements(By.XPATH,\"/html/body/div/div/div[3]/div[1]/div[2]/div[2]/div/div/div/a/div[3]/div[1]/div[3]/ul/li[3]\")\n",
    "for i in cam_tags[0:24]:\n",
    "    Camera.append(i.text)\n",
    "len(Camera)# checking the length of Camera in Apple Model"
   ]
  },
  {
   "cell_type": "code",
   "execution_count": 26,
   "id": "b3720391",
   "metadata": {},
   "outputs": [
    {
     "data": {
      "text/plain": [
       "['12MP + 12MP | 12MP Front Camera']"
      ]
     },
     "execution_count": 26,
     "metadata": {},
     "output_type": "execute_result"
    }
   ],
   "source": [
    "Camera"
   ]
  },
  {
   "cell_type": "code",
   "execution_count": 27,
   "id": "bf0a9f0d",
   "metadata": {},
   "outputs": [],
   "source": [
    "cam=Camera*24"
   ]
  },
  {
   "cell_type": "code",
   "execution_count": 28,
   "id": "713c8237",
   "metadata": {},
   "outputs": [
    {
     "data": {
      "text/plain": [
       "['12MP + 12MP | 12MP Front Camera',\n",
       " '12MP + 12MP | 12MP Front Camera',\n",
       " '12MP + 12MP | 12MP Front Camera',\n",
       " '12MP + 12MP | 12MP Front Camera',\n",
       " '12MP + 12MP | 12MP Front Camera',\n",
       " '12MP + 12MP | 12MP Front Camera',\n",
       " '12MP + 12MP | 12MP Front Camera',\n",
       " '12MP + 12MP | 12MP Front Camera',\n",
       " '12MP + 12MP | 12MP Front Camera',\n",
       " '12MP + 12MP | 12MP Front Camera',\n",
       " '12MP + 12MP | 12MP Front Camera',\n",
       " '12MP + 12MP | 12MP Front Camera',\n",
       " '12MP + 12MP | 12MP Front Camera',\n",
       " '12MP + 12MP | 12MP Front Camera',\n",
       " '12MP + 12MP | 12MP Front Camera',\n",
       " '12MP + 12MP | 12MP Front Camera',\n",
       " '12MP + 12MP | 12MP Front Camera',\n",
       " '12MP + 12MP | 12MP Front Camera',\n",
       " '12MP + 12MP | 12MP Front Camera',\n",
       " '12MP + 12MP | 12MP Front Camera',\n",
       " '12MP + 12MP | 12MP Front Camera',\n",
       " '12MP + 12MP | 12MP Front Camera',\n",
       " '12MP + 12MP | 12MP Front Camera',\n",
       " '12MP + 12MP | 12MP Front Camera']"
      ]
     },
     "execution_count": 28,
     "metadata": {},
     "output_type": "execute_result"
    }
   ],
   "source": [
    "cam"
   ]
  },
  {
   "cell_type": "markdown",
   "id": "a31563e0",
   "metadata": {},
   "source": [
    "**Extracting Display Information**"
   ]
  },
  {
   "cell_type": "code",
   "execution_count": 29,
   "id": "e33060ca",
   "metadata": {},
   "outputs": [
    {
     "data": {
      "text/plain": [
       "1"
      ]
     },
     "execution_count": 29,
     "metadata": {},
     "output_type": "execute_result"
    }
   ],
   "source": [
    "# Extacting all the web element having Display of IPHONE Model.Using Full Xpath as the Name of the Elements is same .\n",
    "Display=[]\n",
    "dis_tags= driver.find_elements(By.XPATH,\"/html/body/div/div/div[3]/div[1]/div[2]/div[2]/div/div/div/a/div[3]/div[1]/div[3]/ul/li[2]\")\n",
    "for i in dis_tags:\n",
    "    Display.append(i.text)\n",
    "len(Display)# checking the length of Display in Apple Model"
   ]
  },
  {
   "cell_type": "code",
   "execution_count": 30,
   "id": "41f28032",
   "metadata": {},
   "outputs": [],
   "source": [
    "Display=Display*24"
   ]
  },
  {
   "cell_type": "code",
   "execution_count": 31,
   "id": "21da14b7",
   "metadata": {},
   "outputs": [
    {
     "data": {
      "text/plain": [
       "24"
      ]
     },
     "execution_count": 31,
     "metadata": {},
     "output_type": "execute_result"
    }
   ],
   "source": [
    "len(Display)"
   ]
  },
  {
   "cell_type": "markdown",
   "id": "63f836cb",
   "metadata": {},
   "source": [
    "**Extracting URL**"
   ]
  },
  {
   "cell_type": "code",
   "execution_count": 32,
   "id": "64ba1879",
   "metadata": {},
   "outputs": [
    {
     "name": "stdout",
     "output_type": "stream",
     "text": [
      "https://www.flipkart.com/apple-iphone-13-starlight-128-gb/p/itmc9604f122ae7f?pid=MOBG6VF5ADKHKXFX&lid=LSTMOBG6VF5ADKHKXFXQGX7PK&marketplace=FLIPKART&q=Iphone+13&store=tyy%2F4io&spotlightTagId=BestsellerId_tyy%2F4io&srno=s_1_1&otracker=search&otracker1=search&fm=organic&iid=667d0cd0-78d9-4a6a-ab78-5626f9a20d8d.MOBG6VF5ADKHKXFX.SEARCH&ppt=hp&ppn=homepage&ssid=qjfyg870740000001669294756150&qH=011b952b9e781a2a\n",
      "https://www.flipkart.com/apple-iphone-13-midnight-128-gb/p/itmca361aab1c5b0?pid=MOBG6VF5Q82T3XRS&lid=LSTMOBG6VF5Q82T3XRSOXJLM9&marketplace=FLIPKART&q=Iphone+13&store=tyy%2F4io&srno=s_1_2&otracker=search&otracker1=search&fm=organic&iid=667d0cd0-78d9-4a6a-ab78-5626f9a20d8d.MOBG6VF5Q82T3XRS.SEARCH&ppt=hp&ppn=homepage&ssid=qjfyg870740000001669294756150&qH=011b952b9e781a2a\n",
      "https://www.flipkart.com/apple-iphone-13-green-128-gb/p/itm18a55937b2607?pid=MOBGC9VGSU9DWGJZ&lid=LSTMOBGC9VGSU9DWGJZ0Q1T8E&marketplace=FLIPKART&q=Iphone+13&store=tyy%2F4io&srno=s_1_3&otracker=search&otracker1=search&fm=organic&iid=667d0cd0-78d9-4a6a-ab78-5626f9a20d8d.MOBGC9VGSU9DWGJZ.SEARCH&ppt=hp&ppn=homepage&ssid=qjfyg870740000001669294756150&qH=011b952b9e781a2a\n",
      "https://www.flipkart.com/apple-iphone-13-blue-128-gb/p/itm6c601e0a58b3c?pid=MOBG6VF5SMXPNQHG&lid=LSTMOBG6VF5SMXPNQHGL5FN51&marketplace=FLIPKART&q=Iphone+13&store=tyy%2F4io&srno=s_1_4&otracker=search&otracker1=search&fm=organic&iid=667d0cd0-78d9-4a6a-ab78-5626f9a20d8d.MOBG6VF5SMXPNQHG.SEARCH&ppt=hp&ppn=homepage&ssid=qjfyg870740000001669294756150&qH=011b952b9e781a2a\n",
      "https://www.flipkart.com/apple-iphone-13-pink-128-gb/p/itm6e30c6ee045d2?pid=MOBG6VF5GXVFTQ5Y&lid=LSTMOBG6VF5GXVFTQ5YSGQY4O&marketplace=FLIPKART&q=Iphone+13&store=tyy%2F4io&srno=s_1_5&otracker=search&otracker1=search&fm=organic&iid=667d0cd0-78d9-4a6a-ab78-5626f9a20d8d.MOBG6VF5GXVFTQ5Y.SEARCH&ppt=hp&ppn=homepage&ssid=qjfyg870740000001669294756150&qH=011b952b9e781a2a\n",
      "https://www.flipkart.com/apple-iphone-13-product-red-128-gb/p/itm99b5658d148b0?pid=MOBG6VF59ZFEPEBX&lid=LSTMOBG6VF59ZFEPEBXH3IWCE&marketplace=FLIPKART&q=Iphone+13&store=tyy%2F4io&srno=s_1_6&otracker=search&otracker1=search&fm=organic&iid=667d0cd0-78d9-4a6a-ab78-5626f9a20d8d.MOBG6VF59ZFEPEBX.SEARCH&ppt=hp&ppn=homepage&ssid=qjfyg870740000001669294756150&qH=011b952b9e781a2a\n",
      "https://www.flipkart.com/apple-iphone-13-pink-256-gb/p/itmc5ee8ec6cd737?pid=MOBG6VF5XAMZ2FKX&lid=LSTMOBG6VF5XAMZ2FKXWXB6MV&marketplace=FLIPKART&q=Iphone+13&store=tyy%2F4io&srno=s_1_7&otracker=search&otracker1=search&fm=organic&iid=667d0cd0-78d9-4a6a-ab78-5626f9a20d8d.MOBG6VF5XAMZ2FKX.SEARCH&ppt=hp&ppn=homepage&ssid=qjfyg870740000001669294756150&qH=011b952b9e781a2a\n",
      "https://www.flipkart.com/apple-iphone-13-green-256-gb/p/itm14914e5e84473?pid=MOBGC9VGPXQNTXDW&lid=LSTMOBGC9VGPXQNTXDWMOPMCI&marketplace=FLIPKART&q=Iphone+13&store=tyy%2F4io&srno=s_1_8&otracker=search&otracker1=search&fm=organic&iid=667d0cd0-78d9-4a6a-ab78-5626f9a20d8d.MOBGC9VGPXQNTXDW.SEARCH&ppt=hp&ppn=homepage&ssid=qjfyg870740000001669294756150&qH=011b952b9e781a2a\n",
      "https://www.flipkart.com/apple-iphone-13-product-red-256-gb/p/itme239bd6bf6934?pid=MOBG6VF5DYJ3GBZH&lid=LSTMOBG6VF5DYJ3GBZHPVIDIF&marketplace=FLIPKART&q=Iphone+13&store=tyy%2F4io&srno=s_1_9&otracker=search&otracker1=search&fm=organic&iid=667d0cd0-78d9-4a6a-ab78-5626f9a20d8d.MOBG6VF5DYJ3GBZH.SEARCH&ppt=hp&ppn=homepage&ssid=qjfyg870740000001669294756150&qH=011b952b9e781a2a\n",
      "https://www.flipkart.com/apple-iphone-13-starlight-256-gb/p/itm37b8de852304e?pid=MOBG6VF5NFYJ8KQX&lid=LSTMOBG6VF5NFYJ8KQX7FK2GA&marketplace=FLIPKART&q=Iphone+13&store=tyy%2F4io&srno=s_1_10&otracker=search&otracker1=search&fm=organic&iid=667d0cd0-78d9-4a6a-ab78-5626f9a20d8d.MOBG6VF5NFYJ8KQX.SEARCH&ppt=hp&ppn=homepage&ssid=qjfyg870740000001669294756150&qH=011b952b9e781a2a\n",
      "https://www.flipkart.com/apple-iphone-13-blue-256-gb/p/itmd68a015aa1e39?pid=MOBG6VF566ZTUVFR&lid=LSTMOBG6VF566ZTUVFR2RQLVU&marketplace=FLIPKART&q=Iphone+13&store=tyy%2F4io&srno=s_1_11&otracker=search&otracker1=search&fm=organic&iid=667d0cd0-78d9-4a6a-ab78-5626f9a20d8d.MOBG6VF566ZTUVFR.SEARCH&ppt=hp&ppn=homepage&ssid=qjfyg870740000001669294756150&qH=011b952b9e781a2a\n",
      "https://www.flipkart.com/apple-iphone-13-midnight-256-gb/p/itmfa27e6497b641?pid=MOBG6VF5AJGQ6HHE&lid=LSTMOBG6VF5AJGQ6HHEIDDQMK&marketplace=FLIPKART&q=Iphone+13&store=tyy%2F4io&srno=s_1_12&otracker=search&otracker1=search&fm=organic&iid=667d0cd0-78d9-4a6a-ab78-5626f9a20d8d.MOBG6VF5AJGQ6HHE.SEARCH&ppt=hp&ppn=homepage&ssid=qjfyg870740000001669294756150&qH=011b952b9e781a2a\n",
      "https://www.flipkart.com/apple-iphone-13-blue-512-gb/p/itma26798ee418a6?pid=MOBG6VF5CBZ6EPF2&lid=LSTMOBG6VF5CBZ6EPF2UESEY3&marketplace=FLIPKART&q=Iphone+13&store=tyy%2F4io&srno=s_1_13&otracker=search&otracker1=search&fm=organic&iid=667d0cd0-78d9-4a6a-ab78-5626f9a20d8d.MOBG6VF5CBZ6EPF2.SEARCH&ppt=hp&ppn=homepage&ssid=qjfyg870740000001669294756150&qH=011b952b9e781a2a\n",
      "https://www.flipkart.com/apple-iphone-13-midnight-512-gb/p/itm7d60d2e9ffd7c?pid=MOBG6VF5GXHZMYMH&lid=LSTMOBG6VF5GXHZMYMHL6HIY4&marketplace=FLIPKART&q=Iphone+13&store=tyy%2F4io&srno=s_1_14&otracker=search&otracker1=search&fm=organic&iid=667d0cd0-78d9-4a6a-ab78-5626f9a20d8d.MOBG6VF5GXHZMYMH.SEARCH&ppt=hp&ppn=homepage&ssid=qjfyg870740000001669294756150&qH=011b952b9e781a2a\n",
      "https://www.flipkart.com/apple-iphone-13-starlight-512-gb/p/itm1d663e7a79e95?pid=MOBG6VF5G3NJDHJ2&lid=LSTMOBG6VF5G3NJDHJ2PD3CDQ&marketplace=FLIPKART&q=Iphone+13&store=tyy%2F4io&srno=s_1_15&otracker=search&otracker1=search&fm=organic&iid=667d0cd0-78d9-4a6a-ab78-5626f9a20d8d.MOBG6VF5G3NJDHJ2.SEARCH&ppt=hp&ppn=homepage&ssid=qjfyg870740000001669294756150&qH=011b952b9e781a2a\n",
      "https://www.flipkart.com/apple-iphone-13-product-red-512-gb/p/itmf3f96f20817ae?pid=MOBG6VF56S584SAP&lid=LSTMOBG6VF56S584SAPUMOIR0&marketplace=FLIPKART&q=Iphone+13&store=tyy%2F4io&srno=s_1_16&otracker=search&otracker1=search&fm=organic&iid=667d0cd0-78d9-4a6a-ab78-5626f9a20d8d.MOBG6VF56S584SAP.SEARCH&ppt=hp&ppn=homepage&ssid=qjfyg870740000001669294756150&qH=011b952b9e781a2a\n",
      "https://www.flipkart.com/apple-iphone-13-green-512-gb/p/itmdd397c451bdae?pid=MOBGC9VGEZQUXGW5&lid=LSTMOBGC9VGEZQUXGW5RRBL4C&marketplace=FLIPKART&q=Iphone+13&store=tyy%2F4io&srno=s_1_17&otracker=search&otracker1=search&fm=organic&iid=667d0cd0-78d9-4a6a-ab78-5626f9a20d8d.MOBGC9VGEZQUXGW5.SEARCH&ppt=hp&ppn=homepage&ssid=qjfyg870740000001669294756150&qH=011b952b9e781a2a\n",
      "https://www.flipkart.com/apple-iphone-13-pink-512-gb/p/itm3762edcc79946?pid=MOBG6VF5AS6QUQWX&lid=LSTMOBG6VF5AS6QUQWXMKDSJL&marketplace=FLIPKART&q=Iphone+13&store=tyy%2F4io&srno=s_1_18&otracker=search&otracker1=search&fm=organic&iid=667d0cd0-78d9-4a6a-ab78-5626f9a20d8d.MOBG6VF5AS6QUQWX.SEARCH&ppt=hp&ppn=homepage&ssid=qjfyg870740000001669294756150&qH=011b952b9e781a2a\n",
      "https://www.flipkart.com/apple-iphone-11-black-64-gb/p/itm4e5041ba101fd?pid=MOBFWQ6BXGJCEYNY&lid=LSTMOBFWQ6BXGJCEYNYZXSHRJ&marketplace=FLIPKART&q=Iphone+13&store=tyy%2F4io&srno=s_1_19&otracker=search&otracker1=search&fm=organic&iid=667d0cd0-78d9-4a6a-ab78-5626f9a20d8d.MOBFWQ6BXGJCEYNY.SEARCH&ppt=hp&ppn=homepage&ssid=qjfyg870740000001669294756150&qH=011b952b9e781a2a\n",
      "https://www.flipkart.com/apple-iphone-11-white-64-gb/p/itmfc6a7091eb20b?pid=MOBFWQ6BVWVEH3XE&lid=LSTMOBFWQ6BVWVEH3XEMXQMLO&marketplace=FLIPKART&q=Iphone+13&store=tyy%2F4io&srno=s_1_20&otracker=search&otracker1=search&fm=organic&iid=667d0cd0-78d9-4a6a-ab78-5626f9a20d8d.MOBFWQ6BVWVEH3XE.SEARCH&ppt=hp&ppn=homepage&ssid=qjfyg870740000001669294756150&qH=011b952b9e781a2a\n",
      "https://www.flipkart.com/apple-iphone-11-black-128-gb/p/itm8244e8d955aba?pid=MOBFWQ6BKRYBP5X8&lid=LSTMOBFWQ6BKRYBP5X8IBG6BS&marketplace=FLIPKART&q=Iphone+13&store=tyy%2F4io&spotlightTagId=BestsellerId_tyy%2F4io&srno=s_1_21&otracker=search&otracker1=search&fm=organic&iid=667d0cd0-78d9-4a6a-ab78-5626f9a20d8d.MOBFWQ6BKRYBP5X8.SEARCH&ppt=hp&ppn=homepage&ssid=qjfyg870740000001669294756150&qH=011b952b9e781a2a\n",
      "https://www.flipkart.com/apple-iphone-11-purple-64-gb/p/itm2b8d03427ddac?pid=MOBFWQ6BTFFJKGKE&lid=LSTMOBFWQ6BTFFJKGKEPGQVOJ&marketplace=FLIPKART&q=Iphone+13&store=tyy%2F4io&srno=s_1_22&otracker=search&otracker1=search&fm=organic&iid=667d0cd0-78d9-4a6a-ab78-5626f9a20d8d.MOBFWQ6BTFFJKGKE.SEARCH&ppt=hp&ppn=homepage&ssid=qjfyg870740000001669294756150&qH=011b952b9e781a2a\n",
      "https://www.flipkart.com/apple-iphone-11-white-128-gb/p/itme32df47ea6742?pid=MOBFWQ6B7KKRXDDS&lid=LSTMOBFWQ6B7KKRXDDSUPVRTR&marketplace=FLIPKART&q=Iphone+13&store=tyy%2F4io&srno=s_1_23&otracker=search&otracker1=search&fm=organic&iid=667d0cd0-78d9-4a6a-ab78-5626f9a20d8d.MOBFWQ6B7KKRXDDS.SEARCH&ppt=hp&ppn=homepage&ssid=qjfyg870740000001669294756150&qH=011b952b9e781a2a\n",
      "https://www.flipkart.com/apple-iphone-12-purple-128-gb/p/itmebc78f1cb26d3?pid=MOBG2EPZK5ZD9KYS&lid=LSTMOBG2EPZK5ZD9KYSOG4BIP&marketplace=FLIPKART&q=Iphone+13&store=tyy%2F4io&srno=s_1_24&otracker=search&otracker1=search&fm=organic&iid=667d0cd0-78d9-4a6a-ab78-5626f9a20d8d.MOBG2EPZK5ZD9KYS.SEARCH&ppt=hp&ppn=homepage&ssid=qjfyg870740000001669294756150&qH=011b952b9e781a2a\n"
     ]
    },
    {
     "data": {
      "text/plain": [
       "['https://www.flipkart.com/apple-iphone-13-starlight-128-gb/p/itmc9604f122ae7f?pid=MOBG6VF5ADKHKXFX&lid=LSTMOBG6VF5ADKHKXFXQGX7PK&marketplace=FLIPKART&q=Iphone+13&store=tyy%2F4io&spotlightTagId=BestsellerId_tyy%2F4io&srno=s_1_1&otracker=search&otracker1=search&fm=organic&iid=667d0cd0-78d9-4a6a-ab78-5626f9a20d8d.MOBG6VF5ADKHKXFX.SEARCH&ppt=hp&ppn=homepage&ssid=qjfyg870740000001669294756150&qH=011b952b9e781a2a',\n",
       " 'https://www.flipkart.com/apple-iphone-13-midnight-128-gb/p/itmca361aab1c5b0?pid=MOBG6VF5Q82T3XRS&lid=LSTMOBG6VF5Q82T3XRSOXJLM9&marketplace=FLIPKART&q=Iphone+13&store=tyy%2F4io&srno=s_1_2&otracker=search&otracker1=search&fm=organic&iid=667d0cd0-78d9-4a6a-ab78-5626f9a20d8d.MOBG6VF5Q82T3XRS.SEARCH&ppt=hp&ppn=homepage&ssid=qjfyg870740000001669294756150&qH=011b952b9e781a2a',\n",
       " 'https://www.flipkart.com/apple-iphone-13-green-128-gb/p/itm18a55937b2607?pid=MOBGC9VGSU9DWGJZ&lid=LSTMOBGC9VGSU9DWGJZ0Q1T8E&marketplace=FLIPKART&q=Iphone+13&store=tyy%2F4io&srno=s_1_3&otracker=search&otracker1=search&fm=organic&iid=667d0cd0-78d9-4a6a-ab78-5626f9a20d8d.MOBGC9VGSU9DWGJZ.SEARCH&ppt=hp&ppn=homepage&ssid=qjfyg870740000001669294756150&qH=011b952b9e781a2a',\n",
       " 'https://www.flipkart.com/apple-iphone-13-blue-128-gb/p/itm6c601e0a58b3c?pid=MOBG6VF5SMXPNQHG&lid=LSTMOBG6VF5SMXPNQHGL5FN51&marketplace=FLIPKART&q=Iphone+13&store=tyy%2F4io&srno=s_1_4&otracker=search&otracker1=search&fm=organic&iid=667d0cd0-78d9-4a6a-ab78-5626f9a20d8d.MOBG6VF5SMXPNQHG.SEARCH&ppt=hp&ppn=homepage&ssid=qjfyg870740000001669294756150&qH=011b952b9e781a2a',\n",
       " 'https://www.flipkart.com/apple-iphone-13-pink-128-gb/p/itm6e30c6ee045d2?pid=MOBG6VF5GXVFTQ5Y&lid=LSTMOBG6VF5GXVFTQ5YSGQY4O&marketplace=FLIPKART&q=Iphone+13&store=tyy%2F4io&srno=s_1_5&otracker=search&otracker1=search&fm=organic&iid=667d0cd0-78d9-4a6a-ab78-5626f9a20d8d.MOBG6VF5GXVFTQ5Y.SEARCH&ppt=hp&ppn=homepage&ssid=qjfyg870740000001669294756150&qH=011b952b9e781a2a',\n",
       " 'https://www.flipkart.com/apple-iphone-13-product-red-128-gb/p/itm99b5658d148b0?pid=MOBG6VF59ZFEPEBX&lid=LSTMOBG6VF59ZFEPEBXH3IWCE&marketplace=FLIPKART&q=Iphone+13&store=tyy%2F4io&srno=s_1_6&otracker=search&otracker1=search&fm=organic&iid=667d0cd0-78d9-4a6a-ab78-5626f9a20d8d.MOBG6VF59ZFEPEBX.SEARCH&ppt=hp&ppn=homepage&ssid=qjfyg870740000001669294756150&qH=011b952b9e781a2a',\n",
       " 'https://www.flipkart.com/apple-iphone-13-pink-256-gb/p/itmc5ee8ec6cd737?pid=MOBG6VF5XAMZ2FKX&lid=LSTMOBG6VF5XAMZ2FKXWXB6MV&marketplace=FLIPKART&q=Iphone+13&store=tyy%2F4io&srno=s_1_7&otracker=search&otracker1=search&fm=organic&iid=667d0cd0-78d9-4a6a-ab78-5626f9a20d8d.MOBG6VF5XAMZ2FKX.SEARCH&ppt=hp&ppn=homepage&ssid=qjfyg870740000001669294756150&qH=011b952b9e781a2a',\n",
       " 'https://www.flipkart.com/apple-iphone-13-green-256-gb/p/itm14914e5e84473?pid=MOBGC9VGPXQNTXDW&lid=LSTMOBGC9VGPXQNTXDWMOPMCI&marketplace=FLIPKART&q=Iphone+13&store=tyy%2F4io&srno=s_1_8&otracker=search&otracker1=search&fm=organic&iid=667d0cd0-78d9-4a6a-ab78-5626f9a20d8d.MOBGC9VGPXQNTXDW.SEARCH&ppt=hp&ppn=homepage&ssid=qjfyg870740000001669294756150&qH=011b952b9e781a2a',\n",
       " 'https://www.flipkart.com/apple-iphone-13-product-red-256-gb/p/itme239bd6bf6934?pid=MOBG6VF5DYJ3GBZH&lid=LSTMOBG6VF5DYJ3GBZHPVIDIF&marketplace=FLIPKART&q=Iphone+13&store=tyy%2F4io&srno=s_1_9&otracker=search&otracker1=search&fm=organic&iid=667d0cd0-78d9-4a6a-ab78-5626f9a20d8d.MOBG6VF5DYJ3GBZH.SEARCH&ppt=hp&ppn=homepage&ssid=qjfyg870740000001669294756150&qH=011b952b9e781a2a',\n",
       " 'https://www.flipkart.com/apple-iphone-13-starlight-256-gb/p/itm37b8de852304e?pid=MOBG6VF5NFYJ8KQX&lid=LSTMOBG6VF5NFYJ8KQX7FK2GA&marketplace=FLIPKART&q=Iphone+13&store=tyy%2F4io&srno=s_1_10&otracker=search&otracker1=search&fm=organic&iid=667d0cd0-78d9-4a6a-ab78-5626f9a20d8d.MOBG6VF5NFYJ8KQX.SEARCH&ppt=hp&ppn=homepage&ssid=qjfyg870740000001669294756150&qH=011b952b9e781a2a',\n",
       " 'https://www.flipkart.com/apple-iphone-13-blue-256-gb/p/itmd68a015aa1e39?pid=MOBG6VF566ZTUVFR&lid=LSTMOBG6VF566ZTUVFR2RQLVU&marketplace=FLIPKART&q=Iphone+13&store=tyy%2F4io&srno=s_1_11&otracker=search&otracker1=search&fm=organic&iid=667d0cd0-78d9-4a6a-ab78-5626f9a20d8d.MOBG6VF566ZTUVFR.SEARCH&ppt=hp&ppn=homepage&ssid=qjfyg870740000001669294756150&qH=011b952b9e781a2a',\n",
       " 'https://www.flipkart.com/apple-iphone-13-midnight-256-gb/p/itmfa27e6497b641?pid=MOBG6VF5AJGQ6HHE&lid=LSTMOBG6VF5AJGQ6HHEIDDQMK&marketplace=FLIPKART&q=Iphone+13&store=tyy%2F4io&srno=s_1_12&otracker=search&otracker1=search&fm=organic&iid=667d0cd0-78d9-4a6a-ab78-5626f9a20d8d.MOBG6VF5AJGQ6HHE.SEARCH&ppt=hp&ppn=homepage&ssid=qjfyg870740000001669294756150&qH=011b952b9e781a2a',\n",
       " 'https://www.flipkart.com/apple-iphone-13-blue-512-gb/p/itma26798ee418a6?pid=MOBG6VF5CBZ6EPF2&lid=LSTMOBG6VF5CBZ6EPF2UESEY3&marketplace=FLIPKART&q=Iphone+13&store=tyy%2F4io&srno=s_1_13&otracker=search&otracker1=search&fm=organic&iid=667d0cd0-78d9-4a6a-ab78-5626f9a20d8d.MOBG6VF5CBZ6EPF2.SEARCH&ppt=hp&ppn=homepage&ssid=qjfyg870740000001669294756150&qH=011b952b9e781a2a',\n",
       " 'https://www.flipkart.com/apple-iphone-13-midnight-512-gb/p/itm7d60d2e9ffd7c?pid=MOBG6VF5GXHZMYMH&lid=LSTMOBG6VF5GXHZMYMHL6HIY4&marketplace=FLIPKART&q=Iphone+13&store=tyy%2F4io&srno=s_1_14&otracker=search&otracker1=search&fm=organic&iid=667d0cd0-78d9-4a6a-ab78-5626f9a20d8d.MOBG6VF5GXHZMYMH.SEARCH&ppt=hp&ppn=homepage&ssid=qjfyg870740000001669294756150&qH=011b952b9e781a2a',\n",
       " 'https://www.flipkart.com/apple-iphone-13-starlight-512-gb/p/itm1d663e7a79e95?pid=MOBG6VF5G3NJDHJ2&lid=LSTMOBG6VF5G3NJDHJ2PD3CDQ&marketplace=FLIPKART&q=Iphone+13&store=tyy%2F4io&srno=s_1_15&otracker=search&otracker1=search&fm=organic&iid=667d0cd0-78d9-4a6a-ab78-5626f9a20d8d.MOBG6VF5G3NJDHJ2.SEARCH&ppt=hp&ppn=homepage&ssid=qjfyg870740000001669294756150&qH=011b952b9e781a2a',\n",
       " 'https://www.flipkart.com/apple-iphone-13-product-red-512-gb/p/itmf3f96f20817ae?pid=MOBG6VF56S584SAP&lid=LSTMOBG6VF56S584SAPUMOIR0&marketplace=FLIPKART&q=Iphone+13&store=tyy%2F4io&srno=s_1_16&otracker=search&otracker1=search&fm=organic&iid=667d0cd0-78d9-4a6a-ab78-5626f9a20d8d.MOBG6VF56S584SAP.SEARCH&ppt=hp&ppn=homepage&ssid=qjfyg870740000001669294756150&qH=011b952b9e781a2a',\n",
       " 'https://www.flipkart.com/apple-iphone-13-green-512-gb/p/itmdd397c451bdae?pid=MOBGC9VGEZQUXGW5&lid=LSTMOBGC9VGEZQUXGW5RRBL4C&marketplace=FLIPKART&q=Iphone+13&store=tyy%2F4io&srno=s_1_17&otracker=search&otracker1=search&fm=organic&iid=667d0cd0-78d9-4a6a-ab78-5626f9a20d8d.MOBGC9VGEZQUXGW5.SEARCH&ppt=hp&ppn=homepage&ssid=qjfyg870740000001669294756150&qH=011b952b9e781a2a',\n",
       " 'https://www.flipkart.com/apple-iphone-13-pink-512-gb/p/itm3762edcc79946?pid=MOBG6VF5AS6QUQWX&lid=LSTMOBG6VF5AS6QUQWXMKDSJL&marketplace=FLIPKART&q=Iphone+13&store=tyy%2F4io&srno=s_1_18&otracker=search&otracker1=search&fm=organic&iid=667d0cd0-78d9-4a6a-ab78-5626f9a20d8d.MOBG6VF5AS6QUQWX.SEARCH&ppt=hp&ppn=homepage&ssid=qjfyg870740000001669294756150&qH=011b952b9e781a2a',\n",
       " 'https://www.flipkart.com/apple-iphone-11-black-64-gb/p/itm4e5041ba101fd?pid=MOBFWQ6BXGJCEYNY&lid=LSTMOBFWQ6BXGJCEYNYZXSHRJ&marketplace=FLIPKART&q=Iphone+13&store=tyy%2F4io&srno=s_1_19&otracker=search&otracker1=search&fm=organic&iid=667d0cd0-78d9-4a6a-ab78-5626f9a20d8d.MOBFWQ6BXGJCEYNY.SEARCH&ppt=hp&ppn=homepage&ssid=qjfyg870740000001669294756150&qH=011b952b9e781a2a',\n",
       " 'https://www.flipkart.com/apple-iphone-11-white-64-gb/p/itmfc6a7091eb20b?pid=MOBFWQ6BVWVEH3XE&lid=LSTMOBFWQ6BVWVEH3XEMXQMLO&marketplace=FLIPKART&q=Iphone+13&store=tyy%2F4io&srno=s_1_20&otracker=search&otracker1=search&fm=organic&iid=667d0cd0-78d9-4a6a-ab78-5626f9a20d8d.MOBFWQ6BVWVEH3XE.SEARCH&ppt=hp&ppn=homepage&ssid=qjfyg870740000001669294756150&qH=011b952b9e781a2a',\n",
       " 'https://www.flipkart.com/apple-iphone-11-black-128-gb/p/itm8244e8d955aba?pid=MOBFWQ6BKRYBP5X8&lid=LSTMOBFWQ6BKRYBP5X8IBG6BS&marketplace=FLIPKART&q=Iphone+13&store=tyy%2F4io&spotlightTagId=BestsellerId_tyy%2F4io&srno=s_1_21&otracker=search&otracker1=search&fm=organic&iid=667d0cd0-78d9-4a6a-ab78-5626f9a20d8d.MOBFWQ6BKRYBP5X8.SEARCH&ppt=hp&ppn=homepage&ssid=qjfyg870740000001669294756150&qH=011b952b9e781a2a',\n",
       " 'https://www.flipkart.com/apple-iphone-11-purple-64-gb/p/itm2b8d03427ddac?pid=MOBFWQ6BTFFJKGKE&lid=LSTMOBFWQ6BTFFJKGKEPGQVOJ&marketplace=FLIPKART&q=Iphone+13&store=tyy%2F4io&srno=s_1_22&otracker=search&otracker1=search&fm=organic&iid=667d0cd0-78d9-4a6a-ab78-5626f9a20d8d.MOBFWQ6BTFFJKGKE.SEARCH&ppt=hp&ppn=homepage&ssid=qjfyg870740000001669294756150&qH=011b952b9e781a2a',\n",
       " 'https://www.flipkart.com/apple-iphone-11-white-128-gb/p/itme32df47ea6742?pid=MOBFWQ6B7KKRXDDS&lid=LSTMOBFWQ6B7KKRXDDSUPVRTR&marketplace=FLIPKART&q=Iphone+13&store=tyy%2F4io&srno=s_1_23&otracker=search&otracker1=search&fm=organic&iid=667d0cd0-78d9-4a6a-ab78-5626f9a20d8d.MOBFWQ6B7KKRXDDS.SEARCH&ppt=hp&ppn=homepage&ssid=qjfyg870740000001669294756150&qH=011b952b9e781a2a',\n",
       " 'https://www.flipkart.com/apple-iphone-12-purple-128-gb/p/itmebc78f1cb26d3?pid=MOBG2EPZK5ZD9KYS&lid=LSTMOBG2EPZK5ZD9KYSOG4BIP&marketplace=FLIPKART&q=Iphone+13&store=tyy%2F4io&srno=s_1_24&otracker=search&otracker1=search&fm=organic&iid=667d0cd0-78d9-4a6a-ab78-5626f9a20d8d.MOBG2EPZK5ZD9KYS.SEARCH&ppt=hp&ppn=homepage&ssid=qjfyg870740000001669294756150&qH=011b952b9e781a2a']"
      ]
     },
     "execution_count": 32,
     "metadata": {},
     "output_type": "execute_result"
    }
   ],
   "source": [
    "Url=[]\n",
    "url=driver.find_elements(By.XPATH,\"//a[@class='_1fQZEK']\")\n",
    "for i in url[0:24]:\n",
    "    print(i.get_attribute('href'))\n",
    "    Url.append(i.get_attribute('href'))\n",
    "    \n",
    "len(Url)\n",
    "Url\n",
    "    "
   ]
  },
  {
   "cell_type": "code",
   "execution_count": 33,
   "id": "aaa69185",
   "metadata": {},
   "outputs": [
    {
     "data": {
      "text/html": [
       "<div>\n",
       "<style scoped>\n",
       "    .dataframe tbody tr th:only-of-type {\n",
       "        vertical-align: middle;\n",
       "    }\n",
       "\n",
       "    .dataframe tbody tr th {\n",
       "        vertical-align: top;\n",
       "    }\n",
       "\n",
       "    .dataframe thead th {\n",
       "        text-align: right;\n",
       "    }\n",
       "</style>\n",
       "<table border=\"1\" class=\"dataframe\">\n",
       "  <thead>\n",
       "    <tr style=\"text-align: right;\">\n",
       "      <th></th>\n",
       "      <th>Brand Name,Samrtphone Name,Colour,Storage</th>\n",
       "      <th>Primary Camera | Secondary Camera</th>\n",
       "      <th>Display Size</th>\n",
       "      <th>Price</th>\n",
       "      <th>Product Url</th>\n",
       "    </tr>\n",
       "  </thead>\n",
       "  <tbody>\n",
       "    <tr>\n",
       "      <th>0</th>\n",
       "      <td>APPLE iPhone 13 (Starlight, 128 GB)</td>\n",
       "      <td>12MP + 12MP | 12MP Front Camera</td>\n",
       "      <td>15.49 cm (6.1 inch) Super Retina XDR Display</td>\n",
       "      <td>₹65,999</td>\n",
       "      <td>https://www.flipkart.com/apple-iphone-13-starl...</td>\n",
       "    </tr>\n",
       "    <tr>\n",
       "      <th>1</th>\n",
       "      <td>APPLE iPhone 13 (Midnight, 128 GB)</td>\n",
       "      <td>12MP + 12MP | 12MP Front Camera</td>\n",
       "      <td>15.49 cm (6.1 inch) Super Retina XDR Display</td>\n",
       "      <td>₹65,999</td>\n",
       "      <td>https://www.flipkart.com/apple-iphone-13-midni...</td>\n",
       "    </tr>\n",
       "    <tr>\n",
       "      <th>2</th>\n",
       "      <td>APPLE iPhone 13 (Green, 128 GB)</td>\n",
       "      <td>12MP + 12MP | 12MP Front Camera</td>\n",
       "      <td>15.49 cm (6.1 inch) Super Retina XDR Display</td>\n",
       "      <td>₹65,999</td>\n",
       "      <td>https://www.flipkart.com/apple-iphone-13-green...</td>\n",
       "    </tr>\n",
       "    <tr>\n",
       "      <th>3</th>\n",
       "      <td>APPLE iPhone 13 (Blue, 128 GB)</td>\n",
       "      <td>12MP + 12MP | 12MP Front Camera</td>\n",
       "      <td>15.49 cm (6.1 inch) Super Retina XDR Display</td>\n",
       "      <td>₹65,999</td>\n",
       "      <td>https://www.flipkart.com/apple-iphone-13-blue-...</td>\n",
       "    </tr>\n",
       "    <tr>\n",
       "      <th>4</th>\n",
       "      <td>APPLE iPhone 13 (Pink, 128 GB)</td>\n",
       "      <td>12MP + 12MP | 12MP Front Camera</td>\n",
       "      <td>15.49 cm (6.1 inch) Super Retina XDR Display</td>\n",
       "      <td>₹65,999</td>\n",
       "      <td>https://www.flipkart.com/apple-iphone-13-pink-...</td>\n",
       "    </tr>\n",
       "    <tr>\n",
       "      <th>5</th>\n",
       "      <td>APPLE iPhone 13 ((PRODUCT)RED, 128 GB)</td>\n",
       "      <td>12MP + 12MP | 12MP Front Camera</td>\n",
       "      <td>15.49 cm (6.1 inch) Super Retina XDR Display</td>\n",
       "      <td>₹65,999</td>\n",
       "      <td>https://www.flipkart.com/apple-iphone-13-produ...</td>\n",
       "    </tr>\n",
       "    <tr>\n",
       "      <th>6</th>\n",
       "      <td>APPLE iPhone 13 (Pink, 256 GB)</td>\n",
       "      <td>12MP + 12MP | 12MP Front Camera</td>\n",
       "      <td>15.49 cm (6.1 inch) Super Retina XDR Display</td>\n",
       "      <td>₹74,999</td>\n",
       "      <td>https://www.flipkart.com/apple-iphone-13-pink-...</td>\n",
       "    </tr>\n",
       "    <tr>\n",
       "      <th>7</th>\n",
       "      <td>APPLE iPhone 13 (Green, 256 GB)</td>\n",
       "      <td>12MP + 12MP | 12MP Front Camera</td>\n",
       "      <td>15.49 cm (6.1 inch) Super Retina XDR Display</td>\n",
       "      <td>₹74,999</td>\n",
       "      <td>https://www.flipkart.com/apple-iphone-13-green...</td>\n",
       "    </tr>\n",
       "    <tr>\n",
       "      <th>8</th>\n",
       "      <td>APPLE iPhone 13 ((PRODUCT)RED, 256 GB)</td>\n",
       "      <td>12MP + 12MP | 12MP Front Camera</td>\n",
       "      <td>15.49 cm (6.1 inch) Super Retina XDR Display</td>\n",
       "      <td>₹74,999</td>\n",
       "      <td>https://www.flipkart.com/apple-iphone-13-produ...</td>\n",
       "    </tr>\n",
       "    <tr>\n",
       "      <th>9</th>\n",
       "      <td>APPLE iPhone 13 (Starlight, 256 GB)</td>\n",
       "      <td>12MP + 12MP | 12MP Front Camera</td>\n",
       "      <td>15.49 cm (6.1 inch) Super Retina XDR Display</td>\n",
       "      <td>₹74,999</td>\n",
       "      <td>https://www.flipkart.com/apple-iphone-13-starl...</td>\n",
       "    </tr>\n",
       "    <tr>\n",
       "      <th>10</th>\n",
       "      <td>APPLE iPhone 13 (Blue, 256 GB)</td>\n",
       "      <td>12MP + 12MP | 12MP Front Camera</td>\n",
       "      <td>15.49 cm (6.1 inch) Super Retina XDR Display</td>\n",
       "      <td>₹74,999</td>\n",
       "      <td>https://www.flipkart.com/apple-iphone-13-blue-...</td>\n",
       "    </tr>\n",
       "    <tr>\n",
       "      <th>11</th>\n",
       "      <td>APPLE iPhone 13 (Midnight, 256 GB)</td>\n",
       "      <td>12MP + 12MP | 12MP Front Camera</td>\n",
       "      <td>15.49 cm (6.1 inch) Super Retina XDR Display</td>\n",
       "      <td>₹74,999</td>\n",
       "      <td>https://www.flipkart.com/apple-iphone-13-midni...</td>\n",
       "    </tr>\n",
       "    <tr>\n",
       "      <th>12</th>\n",
       "      <td>APPLE iPhone 13 (Blue, 512 GB)</td>\n",
       "      <td>12MP + 12MP | 12MP Front Camera</td>\n",
       "      <td>15.49 cm (6.1 inch) Super Retina XDR Display</td>\n",
       "      <td>₹93,999</td>\n",
       "      <td>https://www.flipkart.com/apple-iphone-13-blue-...</td>\n",
       "    </tr>\n",
       "    <tr>\n",
       "      <th>13</th>\n",
       "      <td>APPLE iPhone 13 (Midnight, 512 GB)</td>\n",
       "      <td>12MP + 12MP | 12MP Front Camera</td>\n",
       "      <td>15.49 cm (6.1 inch) Super Retina XDR Display</td>\n",
       "      <td>₹93,999</td>\n",
       "      <td>https://www.flipkart.com/apple-iphone-13-midni...</td>\n",
       "    </tr>\n",
       "    <tr>\n",
       "      <th>14</th>\n",
       "      <td>APPLE iPhone 13 (Starlight, 512 GB)</td>\n",
       "      <td>12MP + 12MP | 12MP Front Camera</td>\n",
       "      <td>15.49 cm (6.1 inch) Super Retina XDR Display</td>\n",
       "      <td>₹93,999</td>\n",
       "      <td>https://www.flipkart.com/apple-iphone-13-starl...</td>\n",
       "    </tr>\n",
       "    <tr>\n",
       "      <th>15</th>\n",
       "      <td>APPLE iPhone 13 ((PRODUCT)RED, 512 GB)</td>\n",
       "      <td>12MP + 12MP | 12MP Front Camera</td>\n",
       "      <td>15.49 cm (6.1 inch) Super Retina XDR Display</td>\n",
       "      <td>₹93,999</td>\n",
       "      <td>https://www.flipkart.com/apple-iphone-13-produ...</td>\n",
       "    </tr>\n",
       "    <tr>\n",
       "      <th>16</th>\n",
       "      <td>APPLE iPhone 13 (Green, 512 GB)</td>\n",
       "      <td>12MP + 12MP | 12MP Front Camera</td>\n",
       "      <td>15.49 cm (6.1 inch) Super Retina XDR Display</td>\n",
       "      <td>₹93,999</td>\n",
       "      <td>https://www.flipkart.com/apple-iphone-13-green...</td>\n",
       "    </tr>\n",
       "    <tr>\n",
       "      <th>17</th>\n",
       "      <td>APPLE iPhone 13 (Pink, 512 GB)</td>\n",
       "      <td>12MP + 12MP | 12MP Front Camera</td>\n",
       "      <td>15.49 cm (6.1 inch) Super Retina XDR Display</td>\n",
       "      <td>₹93,999</td>\n",
       "      <td>https://www.flipkart.com/apple-iphone-13-pink-...</td>\n",
       "    </tr>\n",
       "    <tr>\n",
       "      <th>18</th>\n",
       "      <td>APPLE iPhone 11 (Black, 64 GB)</td>\n",
       "      <td>12MP + 12MP | 12MP Front Camera</td>\n",
       "      <td>15.49 cm (6.1 inch) Super Retina XDR Display</td>\n",
       "      <td>₹39,999</td>\n",
       "      <td>https://www.flipkart.com/apple-iphone-11-black...</td>\n",
       "    </tr>\n",
       "    <tr>\n",
       "      <th>19</th>\n",
       "      <td>APPLE iPhone 11 (White, 64 GB)</td>\n",
       "      <td>12MP + 12MP | 12MP Front Camera</td>\n",
       "      <td>15.49 cm (6.1 inch) Super Retina XDR Display</td>\n",
       "      <td>₹39,999</td>\n",
       "      <td>https://www.flipkart.com/apple-iphone-11-white...</td>\n",
       "    </tr>\n",
       "    <tr>\n",
       "      <th>20</th>\n",
       "      <td>APPLE iPhone 11 (Black, 128 GB)</td>\n",
       "      <td>12MP + 12MP | 12MP Front Camera</td>\n",
       "      <td>15.49 cm (6.1 inch) Super Retina XDR Display</td>\n",
       "      <td>₹48,900</td>\n",
       "      <td>https://www.flipkart.com/apple-iphone-11-black...</td>\n",
       "    </tr>\n",
       "    <tr>\n",
       "      <th>21</th>\n",
       "      <td>APPLE iPhone 11 (Purple, 64 GB)</td>\n",
       "      <td>12MP + 12MP | 12MP Front Camera</td>\n",
       "      <td>15.49 cm (6.1 inch) Super Retina XDR Display</td>\n",
       "      <td>₹39,999</td>\n",
       "      <td>https://www.flipkart.com/apple-iphone-11-purpl...</td>\n",
       "    </tr>\n",
       "    <tr>\n",
       "      <th>22</th>\n",
       "      <td>APPLE iPhone 11 (White, 128 GB)</td>\n",
       "      <td>12MP + 12MP | 12MP Front Camera</td>\n",
       "      <td>15.49 cm (6.1 inch) Super Retina XDR Display</td>\n",
       "      <td>₹48,900</td>\n",
       "      <td>https://www.flipkart.com/apple-iphone-11-white...</td>\n",
       "    </tr>\n",
       "    <tr>\n",
       "      <th>23</th>\n",
       "      <td>APPLE iPhone 12 (Purple, 128 GB)</td>\n",
       "      <td>12MP + 12MP | 12MP Front Camera</td>\n",
       "      <td>15.49 cm (6.1 inch) Super Retina XDR Display</td>\n",
       "      <td>₹53,999</td>\n",
       "      <td>https://www.flipkart.com/apple-iphone-12-purpl...</td>\n",
       "    </tr>\n",
       "  </tbody>\n",
       "</table>\n",
       "</div>"
      ],
      "text/plain": [
       "   Brand Name,Samrtphone Name,Colour,Storage  \\\n",
       "0        APPLE iPhone 13 (Starlight, 128 GB)   \n",
       "1         APPLE iPhone 13 (Midnight, 128 GB)   \n",
       "2            APPLE iPhone 13 (Green, 128 GB)   \n",
       "3             APPLE iPhone 13 (Blue, 128 GB)   \n",
       "4             APPLE iPhone 13 (Pink, 128 GB)   \n",
       "5     APPLE iPhone 13 ((PRODUCT)RED, 128 GB)   \n",
       "6             APPLE iPhone 13 (Pink, 256 GB)   \n",
       "7            APPLE iPhone 13 (Green, 256 GB)   \n",
       "8     APPLE iPhone 13 ((PRODUCT)RED, 256 GB)   \n",
       "9        APPLE iPhone 13 (Starlight, 256 GB)   \n",
       "10            APPLE iPhone 13 (Blue, 256 GB)   \n",
       "11        APPLE iPhone 13 (Midnight, 256 GB)   \n",
       "12            APPLE iPhone 13 (Blue, 512 GB)   \n",
       "13        APPLE iPhone 13 (Midnight, 512 GB)   \n",
       "14       APPLE iPhone 13 (Starlight, 512 GB)   \n",
       "15    APPLE iPhone 13 ((PRODUCT)RED, 512 GB)   \n",
       "16           APPLE iPhone 13 (Green, 512 GB)   \n",
       "17            APPLE iPhone 13 (Pink, 512 GB)   \n",
       "18            APPLE iPhone 11 (Black, 64 GB)   \n",
       "19            APPLE iPhone 11 (White, 64 GB)   \n",
       "20           APPLE iPhone 11 (Black, 128 GB)   \n",
       "21           APPLE iPhone 11 (Purple, 64 GB)   \n",
       "22           APPLE iPhone 11 (White, 128 GB)   \n",
       "23          APPLE iPhone 12 (Purple, 128 GB)   \n",
       "\n",
       "   Primary Camera | Secondary Camera   \\\n",
       "0     12MP + 12MP | 12MP Front Camera   \n",
       "1     12MP + 12MP | 12MP Front Camera   \n",
       "2     12MP + 12MP | 12MP Front Camera   \n",
       "3     12MP + 12MP | 12MP Front Camera   \n",
       "4     12MP + 12MP | 12MP Front Camera   \n",
       "5     12MP + 12MP | 12MP Front Camera   \n",
       "6     12MP + 12MP | 12MP Front Camera   \n",
       "7     12MP + 12MP | 12MP Front Camera   \n",
       "8     12MP + 12MP | 12MP Front Camera   \n",
       "9     12MP + 12MP | 12MP Front Camera   \n",
       "10    12MP + 12MP | 12MP Front Camera   \n",
       "11    12MP + 12MP | 12MP Front Camera   \n",
       "12    12MP + 12MP | 12MP Front Camera   \n",
       "13    12MP + 12MP | 12MP Front Camera   \n",
       "14    12MP + 12MP | 12MP Front Camera   \n",
       "15    12MP + 12MP | 12MP Front Camera   \n",
       "16    12MP + 12MP | 12MP Front Camera   \n",
       "17    12MP + 12MP | 12MP Front Camera   \n",
       "18    12MP + 12MP | 12MP Front Camera   \n",
       "19    12MP + 12MP | 12MP Front Camera   \n",
       "20    12MP + 12MP | 12MP Front Camera   \n",
       "21    12MP + 12MP | 12MP Front Camera   \n",
       "22    12MP + 12MP | 12MP Front Camera   \n",
       "23    12MP + 12MP | 12MP Front Camera   \n",
       "\n",
       "                                    Display Size    Price  \\\n",
       "0   15.49 cm (6.1 inch) Super Retina XDR Display  ₹65,999   \n",
       "1   15.49 cm (6.1 inch) Super Retina XDR Display  ₹65,999   \n",
       "2   15.49 cm (6.1 inch) Super Retina XDR Display  ₹65,999   \n",
       "3   15.49 cm (6.1 inch) Super Retina XDR Display  ₹65,999   \n",
       "4   15.49 cm (6.1 inch) Super Retina XDR Display  ₹65,999   \n",
       "5   15.49 cm (6.1 inch) Super Retina XDR Display  ₹65,999   \n",
       "6   15.49 cm (6.1 inch) Super Retina XDR Display  ₹74,999   \n",
       "7   15.49 cm (6.1 inch) Super Retina XDR Display  ₹74,999   \n",
       "8   15.49 cm (6.1 inch) Super Retina XDR Display  ₹74,999   \n",
       "9   15.49 cm (6.1 inch) Super Retina XDR Display  ₹74,999   \n",
       "10  15.49 cm (6.1 inch) Super Retina XDR Display  ₹74,999   \n",
       "11  15.49 cm (6.1 inch) Super Retina XDR Display  ₹74,999   \n",
       "12  15.49 cm (6.1 inch) Super Retina XDR Display  ₹93,999   \n",
       "13  15.49 cm (6.1 inch) Super Retina XDR Display  ₹93,999   \n",
       "14  15.49 cm (6.1 inch) Super Retina XDR Display  ₹93,999   \n",
       "15  15.49 cm (6.1 inch) Super Retina XDR Display  ₹93,999   \n",
       "16  15.49 cm (6.1 inch) Super Retina XDR Display  ₹93,999   \n",
       "17  15.49 cm (6.1 inch) Super Retina XDR Display  ₹93,999   \n",
       "18  15.49 cm (6.1 inch) Super Retina XDR Display  ₹39,999   \n",
       "19  15.49 cm (6.1 inch) Super Retina XDR Display  ₹39,999   \n",
       "20  15.49 cm (6.1 inch) Super Retina XDR Display  ₹48,900   \n",
       "21  15.49 cm (6.1 inch) Super Retina XDR Display  ₹39,999   \n",
       "22  15.49 cm (6.1 inch) Super Retina XDR Display  ₹48,900   \n",
       "23  15.49 cm (6.1 inch) Super Retina XDR Display  ₹53,999   \n",
       "\n",
       "                                          Product Url  \n",
       "0   https://www.flipkart.com/apple-iphone-13-starl...  \n",
       "1   https://www.flipkart.com/apple-iphone-13-midni...  \n",
       "2   https://www.flipkart.com/apple-iphone-13-green...  \n",
       "3   https://www.flipkart.com/apple-iphone-13-blue-...  \n",
       "4   https://www.flipkart.com/apple-iphone-13-pink-...  \n",
       "5   https://www.flipkart.com/apple-iphone-13-produ...  \n",
       "6   https://www.flipkart.com/apple-iphone-13-pink-...  \n",
       "7   https://www.flipkart.com/apple-iphone-13-green...  \n",
       "8   https://www.flipkart.com/apple-iphone-13-produ...  \n",
       "9   https://www.flipkart.com/apple-iphone-13-starl...  \n",
       "10  https://www.flipkart.com/apple-iphone-13-blue-...  \n",
       "11  https://www.flipkart.com/apple-iphone-13-midni...  \n",
       "12  https://www.flipkart.com/apple-iphone-13-blue-...  \n",
       "13  https://www.flipkart.com/apple-iphone-13-midni...  \n",
       "14  https://www.flipkart.com/apple-iphone-13-starl...  \n",
       "15  https://www.flipkart.com/apple-iphone-13-produ...  \n",
       "16  https://www.flipkart.com/apple-iphone-13-green...  \n",
       "17  https://www.flipkart.com/apple-iphone-13-pink-...  \n",
       "18  https://www.flipkart.com/apple-iphone-11-black...  \n",
       "19  https://www.flipkart.com/apple-iphone-11-white...  \n",
       "20  https://www.flipkart.com/apple-iphone-11-black...  \n",
       "21  https://www.flipkart.com/apple-iphone-11-purpl...  \n",
       "22  https://www.flipkart.com/apple-iphone-11-white...  \n",
       "23  https://www.flipkart.com/apple-iphone-12-purpl...  "
      ]
     },
     "execution_count": 33,
     "metadata": {},
     "output_type": "execute_result"
    }
   ],
   "source": [
    "df=pd.DataFrame({\"Brand Name,Samrtphone Name,Colour,Storage\":Apple_Model,\"Primary Camera | Secondary Camera \":cam,\"Display Size\":Display,\"Price\":Price,\"Product Url\":Url})\n",
    "df"
   ]
  },
  {
   "cell_type": "code",
   "execution_count": 34,
   "id": "0f424f39",
   "metadata": {},
   "outputs": [],
   "source": [
    "df.to_csv(r'C:\\Users\\amits\\Downloads\\Iphone.csv',header=True,index=True )"
   ]
  },
  {
   "cell_type": "code",
   "execution_count": null,
   "id": "62966518",
   "metadata": {},
   "outputs": [],
   "source": [
    "driver.close()"
   ]
  }
 ],
 "metadata": {
  "kernelspec": {
   "display_name": "Python 3 (ipykernel)",
   "language": "python",
   "name": "python3"
  },
  "language_info": {
   "codemirror_mode": {
    "name": "ipython",
    "version": 3
   },
   "file_extension": ".py",
   "mimetype": "text/x-python",
   "name": "python",
   "nbconvert_exporter": "python",
   "pygments_lexer": "ipython3",
   "version": "3.9.12"
  }
 },
 "nbformat": 4,
 "nbformat_minor": 5
}
