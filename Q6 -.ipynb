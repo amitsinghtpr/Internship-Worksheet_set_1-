{
 "cells": [
  {
   "cell_type": "markdown",
   "id": "0aac1792",
   "metadata": {},
   "source": [
    "Write a program to scrap details of all the funding deals for second quarter (i.e Jan 21 – March 21) \n",
    "from trak.in."
   ]
  },
  {
   "cell_type": "code",
   "execution_count": 1,
   "id": "fbfaa612",
   "metadata": {},
   "outputs": [],
   "source": [
    "#Importing important library.\n",
    "import selenium\n",
    "from selenium import webdriver\n",
    "import pandas as pd\n",
    "from selenium.webdriver.common.by import By\n",
    "import warnings\n",
    "warnings.filterwarnings(\"ignore\")\n",
    "import time"
   ]
  },
  {
   "cell_type": "code",
   "execution_count": 2,
   "id": "b1a707a3",
   "metadata": {},
   "outputs": [],
   "source": [
    "#Importing Chrome-webriver\n",
    "driver=webdriver.Chrome(r'\"C:\\Users\\amits\\Desktop\\chromedriver_win32\\chromedriver.exe\"')"
   ]
  },
  {
   "cell_type": "code",
   "execution_count": 3,
   "id": "fcb38495",
   "metadata": {},
   "outputs": [],
   "source": [
    "#Maximazing windows\n",
    "driver.maximize_window()"
   ]
  },
  {
   "cell_type": "code",
   "execution_count": 4,
   "id": "fd5151c0",
   "metadata": {},
   "outputs": [],
   "source": [
    "#Opening Amazon Website\n",
    "url='https://trak.in/india-startup-funding-investment-2015/'\n",
    "driver.get(url)"
   ]
  },
  {
   "cell_type": "markdown",
   "id": "7799a3c1",
   "metadata": {},
   "source": [
    "**Scrapping Data of March 21**"
   ]
  },
  {
   "cell_type": "code",
   "execution_count": 7,
   "id": "193326e6",
   "metadata": {},
   "outputs": [
    {
     "data": {
      "text/plain": [
       "['04/03/2021',\n",
       " '31/03/2021',\n",
       " '30/03/2021',\n",
       " '30/03/2021',\n",
       " '23/03/2021',\n",
       " '25/03/2021']"
      ]
     },
     "execution_count": 7,
     "metadata": {},
     "output_type": "execute_result"
    }
   ],
   "source": [
    "Date=[]\n",
    "date=driver.find_elements(By.XPATH,\"//td[@class='column-2']\")\n",
    "for i in date[5:11]:\n",
    "    Date.append(i.text)\n",
    "    \n",
    "Date\n"
   ]
  },
  {
   "cell_type": "code",
   "execution_count": 8,
   "id": "d3cad631",
   "metadata": {},
   "outputs": [
    {
     "data": {
      "text/plain": [
       "['DealShare', 'Uniphore', 'Dunzo', 'BYJU’S', 'SkilloVilla', 'CityMall']"
      ]
     },
     "execution_count": 8,
     "metadata": {},
     "output_type": "execute_result"
    }
   ],
   "source": [
    "Startup_Name=[]\n",
    "start=driver.find_elements(By.XPATH,\"//td[@class='column-3']\")\n",
    "for i in start[5:11]:\n",
    "    Startup_Name.append(i.text)\n",
    "    \n",
    "Startup_Name"
   ]
  },
  {
   "cell_type": "code",
   "execution_count": 11,
   "id": "a2f833a6",
   "metadata": {},
   "outputs": [
    {
     "data": {
      "text/plain": [
       "['E-commerce',\n",
       " 'Technology',\n",
       " 'E-commerce',\n",
       " 'Edu-tech',\n",
       " 'Edu-tech',\n",
       " 'E-commerce']"
      ]
     },
     "execution_count": 11,
     "metadata": {},
     "output_type": "execute_result"
    }
   ],
   "source": [
    "Industry=[]\n",
    "ind=driver.find_elements(By.XPATH,\"//td[@class='column-4']\")\n",
    "for i in ind[5:11]:\n",
    "    Industry.append(i.text)\n",
    "    \n",
    "Industry"
   ]
  },
  {
   "cell_type": "code",
   "execution_count": 13,
   "id": "bbf2f68d",
   "metadata": {},
   "outputs": [
    {
     "data": {
      "text/plain": [
       "['Online shopping platform',\n",
       " 'Conversational Service Automation (CSA)',\n",
       " 'Hyper-local delivery app',\n",
       " 'Online tutoring',\n",
       " 'Career and job-oriented upskilling.',\n",
       " 'Social ecommerce and online grocery platform']"
      ]
     },
     "execution_count": 13,
     "metadata": {},
     "output_type": "execute_result"
    }
   ],
   "source": [
    "Sub_div=[]\n",
    "sub=driver.find_elements(By.XPATH,\"//td[@class='column-5']\")\n",
    "for i in sub[5:11]:\n",
    "    Sub_div.append(i.text)\n",
    "    \n",
    "Sub_div"
   ]
  },
  {
   "cell_type": "code",
   "execution_count": 14,
   "id": "61310b3b",
   "metadata": {},
   "outputs": [
    {
     "data": {
      "text/plain": [
       "['Jaipur, Rajasthan',\n",
       " 'Palo Alto',\n",
       " 'Bengaluru',\n",
       " 'Bengaluru',\n",
       " 'Bengaluru',\n",
       " 'Gurgaon']"
      ]
     },
     "execution_count": 14,
     "metadata": {},
     "output_type": "execute_result"
    }
   ],
   "source": [
    "Location=[]\n",
    "loc=driver.find_elements(By.XPATH,\"//td[@class='column-6']\")\n",
    "for i in loc[5:11]:\n",
    "    Location.append(i.text)\n",
    "    \n",
    "Location"
   ]
  },
  {
   "cell_type": "code",
   "execution_count": 15,
   "id": "024f3431",
   "metadata": {},
   "outputs": [
    {
     "data": {
      "text/plain": [
       "['Innoven Capital',\n",
       " 'Sorenson Capital Partners',\n",
       " 'Krishtal Advisors Pte Ltd',\n",
       " 'MC Global Edtech, B Capital, Baron, others',\n",
       " 'Titan Capital, others',\n",
       " 'Accel Partners']"
      ]
     },
     "execution_count": 15,
     "metadata": {},
     "output_type": "execute_result"
    }
   ],
   "source": [
    "Investor_Name=[]\n",
    "inv=driver.find_elements(By.XPATH,\"//td[@class='column-7']\")\n",
    "for i in inv[5:11]:\n",
    "    Investor_Name.append(i.text)\n",
    "    \n",
    "Investor_Name"
   ]
  },
  {
   "cell_type": "code",
   "execution_count": 17,
   "id": "f0272d61",
   "metadata": {},
   "outputs": [
    {
     "data": {
      "text/plain": [
       "['Debt Financing', 'Series D', 'Series E', 'Series F', 'Seed', 'Series A']"
      ]
     },
     "execution_count": 17,
     "metadata": {},
     "output_type": "execute_result"
    }
   ],
   "source": [
    "Investment_type=[]\n",
    "inv=driver.find_elements(By.XPATH,\"//td[@class='column-8']\")\n",
    "for i in inv[5:11]:\n",
    "    Investment_type.append(i.text)\n",
    "    \n",
    "Investment_type"
   ]
  },
  {
   "cell_type": "code",
   "execution_count": 18,
   "id": "53ef18e8",
   "metadata": {},
   "outputs": [
    {
     "data": {
      "text/html": [
       "<div>\n",
       "<style scoped>\n",
       "    .dataframe tbody tr th:only-of-type {\n",
       "        vertical-align: middle;\n",
       "    }\n",
       "\n",
       "    .dataframe tbody tr th {\n",
       "        vertical-align: top;\n",
       "    }\n",
       "\n",
       "    .dataframe thead th {\n",
       "        text-align: right;\n",
       "    }\n",
       "</style>\n",
       "<table border=\"1\" class=\"dataframe\">\n",
       "  <thead>\n",
       "    <tr style=\"text-align: right;\">\n",
       "      <th></th>\n",
       "      <th>Date</th>\n",
       "      <th>Start-Up Name</th>\n",
       "      <th>Industry/Division</th>\n",
       "      <th>Sub-Division</th>\n",
       "      <th>Location</th>\n",
       "      <th>Investor Name</th>\n",
       "      <th>Investment Type</th>\n",
       "    </tr>\n",
       "  </thead>\n",
       "  <tbody>\n",
       "    <tr>\n",
       "      <th>0</th>\n",
       "      <td>04/03/2021</td>\n",
       "      <td>DealShare</td>\n",
       "      <td>E-commerce</td>\n",
       "      <td>Online shopping platform</td>\n",
       "      <td>Jaipur, Rajasthan</td>\n",
       "      <td>Innoven Capital</td>\n",
       "      <td>Debt Financing</td>\n",
       "    </tr>\n",
       "    <tr>\n",
       "      <th>1</th>\n",
       "      <td>31/03/2021</td>\n",
       "      <td>Uniphore</td>\n",
       "      <td>Technology</td>\n",
       "      <td>Conversational Service Automation (CSA)</td>\n",
       "      <td>Palo Alto</td>\n",
       "      <td>Sorenson Capital Partners</td>\n",
       "      <td>Series D</td>\n",
       "    </tr>\n",
       "    <tr>\n",
       "      <th>2</th>\n",
       "      <td>30/03/2021</td>\n",
       "      <td>Dunzo</td>\n",
       "      <td>E-commerce</td>\n",
       "      <td>Hyper-local delivery app</td>\n",
       "      <td>Bengaluru</td>\n",
       "      <td>Krishtal Advisors Pte Ltd</td>\n",
       "      <td>Series E</td>\n",
       "    </tr>\n",
       "    <tr>\n",
       "      <th>3</th>\n",
       "      <td>30/03/2021</td>\n",
       "      <td>BYJU’S</td>\n",
       "      <td>Edu-tech</td>\n",
       "      <td>Online tutoring</td>\n",
       "      <td>Bengaluru</td>\n",
       "      <td>MC Global Edtech, B Capital, Baron, others</td>\n",
       "      <td>Series F</td>\n",
       "    </tr>\n",
       "    <tr>\n",
       "      <th>4</th>\n",
       "      <td>23/03/2021</td>\n",
       "      <td>SkilloVilla</td>\n",
       "      <td>Edu-tech</td>\n",
       "      <td>Career and job-oriented upskilling.</td>\n",
       "      <td>Bengaluru</td>\n",
       "      <td>Titan Capital, others</td>\n",
       "      <td>Seed</td>\n",
       "    </tr>\n",
       "    <tr>\n",
       "      <th>5</th>\n",
       "      <td>25/03/2021</td>\n",
       "      <td>CityMall</td>\n",
       "      <td>E-commerce</td>\n",
       "      <td>Social ecommerce and online grocery platform</td>\n",
       "      <td>Gurgaon</td>\n",
       "      <td>Accel Partners</td>\n",
       "      <td>Series A</td>\n",
       "    </tr>\n",
       "  </tbody>\n",
       "</table>\n",
       "</div>"
      ],
      "text/plain": [
       "         Date Start-Up Name Industry/Division  \\\n",
       "0  04/03/2021     DealShare        E-commerce   \n",
       "1  31/03/2021      Uniphore        Technology   \n",
       "2  30/03/2021         Dunzo        E-commerce   \n",
       "3  30/03/2021        BYJU’S          Edu-tech   \n",
       "4  23/03/2021   SkilloVilla          Edu-tech   \n",
       "5  25/03/2021      CityMall        E-commerce   \n",
       "\n",
       "                                   Sub-Division           Location  \\\n",
       "0                      Online shopping platform  Jaipur, Rajasthan   \n",
       "1       Conversational Service Automation (CSA)          Palo Alto   \n",
       "2                      Hyper-local delivery app          Bengaluru   \n",
       "3                               Online tutoring          Bengaluru   \n",
       "4           Career and job-oriented upskilling.          Bengaluru   \n",
       "5  Social ecommerce and online grocery platform            Gurgaon   \n",
       "\n",
       "                                Investor Name Investment Type  \n",
       "0                             Innoven Capital  Debt Financing  \n",
       "1                   Sorenson Capital Partners        Series D  \n",
       "2                   Krishtal Advisors Pte Ltd        Series E  \n",
       "3  MC Global Edtech, B Capital, Baron, others        Series F  \n",
       "4                       Titan Capital, others            Seed  \n",
       "5                              Accel Partners        Series A  "
      ]
     },
     "execution_count": 18,
     "metadata": {},
     "output_type": "execute_result"
    }
   ],
   "source": [
    "March=pd.DataFrame({\"Date\":Date,\"Start-Up Name\":Startup_Name,\"Industry/Division\":Industry,\"Sub-Division\":Sub_div,\"Location\":Location,\"Investor Name\":Investor_Name,\"Investment Type\":Investment_type})\n",
    "March"
   ]
  },
  {
   "cell_type": "markdown",
   "id": "ebb821b2",
   "metadata": {},
   "source": [
    "**Scrapping Data of January2021**"
   ]
  },
  {
   "cell_type": "code",
   "execution_count": 20,
   "id": "b2942bb8",
   "metadata": {},
   "outputs": [
    {
     "data": {
      "text/plain": [
       "['15/01/2021',\n",
       " '28/01/2021',\n",
       " '19/01/2021',\n",
       " '19/01/2021',\n",
       " '18/01/2021',\n",
       " '18/01/2021',\n",
       " '11/01/2021',\n",
       " '13/01/2021']"
      ]
     },
     "execution_count": 20,
     "metadata": {},
     "output_type": "execute_result"
    }
   ],
   "source": [
    "Date=[]\n",
    "date=driver.find_elements(By.XPATH,\"//td[@class='column-2']\")\n",
    "for i in date[21:29]:\n",
    "    Date.append(i.text)\n",
    "    \n",
    "Date\n"
   ]
  },
  {
   "cell_type": "code",
   "execution_count": 21,
   "id": "dfff7386",
   "metadata": {},
   "outputs": [
    {
     "data": {
      "text/plain": [
       "['Digit Insurance',\n",
       " 'Bombay Shaving Company',\n",
       " 'DeHaat',\n",
       " 'Darwinbox',\n",
       " 'mfine',\n",
       " 'Udayy',\n",
       " 'True Elements',\n",
       " 'Saveo']"
      ]
     },
     "execution_count": 21,
     "metadata": {},
     "output_type": "execute_result"
    }
   ],
   "source": [
    "Startup_Name=[]\n",
    "start=driver.find_elements(By.XPATH,\"//td[@class='column-3']\")\n",
    "for i in start[21:29]:\n",
    "    Startup_Name.append(i.text)\n",
    "    \n",
    "Startup_Name"
   ]
  },
  {
   "cell_type": "code",
   "execution_count": 22,
   "id": "56018b00",
   "metadata": {},
   "outputs": [
    {
     "data": {
      "text/plain": [
       "['Financial Services',\n",
       " 'Consumer Goods Company',\n",
       " 'AgriTech Startup',\n",
       " 'SaaS',\n",
       " 'Health Tech Startup',\n",
       " 'EdTech',\n",
       " 'Food Startup',\n",
       " 'B2B E-commerce']"
      ]
     },
     "execution_count": 22,
     "metadata": {},
     "output_type": "execute_result"
    }
   ],
   "source": [
    "Industry=[]\n",
    "ind=driver.find_elements(By.XPATH,\"//td[@class='column-4']\")\n",
    "for i in ind[21:29]:\n",
    "    Industry.append(i.text)\n",
    "    \n",
    "Industry"
   ]
  },
  {
   "cell_type": "code",
   "execution_count": 23,
   "id": "1c269855",
   "metadata": {},
   "outputs": [
    {
     "data": {
      "text/plain": [
       "['Insurance Services',\n",
       " 'Shave care, beard care, and skincare products',\n",
       " 'online marketplace for farm products and services',\n",
       " 'HR Tech',\n",
       " 'AI-powered telemedicine mobile app',\n",
       " 'Online learning platform for kids in class 1-5',\n",
       " 'Whole Food plant based Nashta',\n",
       " 'Pharmacies']"
      ]
     },
     "execution_count": 23,
     "metadata": {},
     "output_type": "execute_result"
    }
   ],
   "source": [
    "Sub_div=[]\n",
    "sub=driver.find_elements(By.XPATH,\"//td[@class='column-5']\")\n",
    "for i in sub[21:29]:\n",
    "    Sub_div.append(i.text)\n",
    "    \n",
    "Sub_div"
   ]
  },
  {
   "cell_type": "code",
   "execution_count": 24,
   "id": "80dc1da4",
   "metadata": {},
   "outputs": [
    {
     "data": {
      "text/plain": [
       "['Bengaluru',\n",
       " 'New Delhi',\n",
       " 'Patna',\n",
       " 'Mumbai',\n",
       " 'Bengaluru',\n",
       " 'Gurgaon',\n",
       " 'Pune',\n",
       " 'Bengaluru']"
      ]
     },
     "execution_count": 24,
     "metadata": {},
     "output_type": "execute_result"
    }
   ],
   "source": [
    "Location=[]\n",
    "loc=driver.find_elements(By.XPATH,\"//td[@class='column-6']\")\n",
    "for i in loc[21:29]:\n",
    "    Location.append(i.text)\n",
    "    \n",
    "Location"
   ]
  },
  {
   "cell_type": "code",
   "execution_count": 25,
   "id": "d89bc110",
   "metadata": {},
   "outputs": [
    {
     "data": {
      "text/plain": [
       "['A91 Partners, Faering Capital, TVS Capital Funds',\n",
       " 'Reckitt Benckiser',\n",
       " 'Prosus Ventures',\n",
       " 'Salesforce Ventures',\n",
       " 'Heritas Capital Management',\n",
       " 'Sequoia Capital',\n",
       " 'SIDBI Venture Capital',\n",
       " 'Matrix Partners India, RTP Global, others']"
      ]
     },
     "execution_count": 25,
     "metadata": {},
     "output_type": "execute_result"
    }
   ],
   "source": [
    "Investor_Name=[]\n",
    "inv=driver.find_elements(By.XPATH,\"//td[@class='column-7']\")\n",
    "for i in inv[21:29]:\n",
    "    Investor_Name.append(i.text)\n",
    "    \n",
    "Investor_Name"
   ]
  },
  {
   "cell_type": "code",
   "execution_count": 26,
   "id": "7eb8d521",
   "metadata": {},
   "outputs": [
    {
     "data": {
      "text/plain": [
       "['Venture',\n",
       " 'Venture',\n",
       " 'Series C',\n",
       " 'Seed',\n",
       " 'Venture Round',\n",
       " 'Seed Funding',\n",
       " 'Series',\n",
       " 'Seed']"
      ]
     },
     "execution_count": 26,
     "metadata": {},
     "output_type": "execute_result"
    }
   ],
   "source": [
    "Investment_type=[]\n",
    "inv=driver.find_elements(By.XPATH,\"//td[@class='column-8']\")\n",
    "for i in inv[21:29]:\n",
    "    Investment_type.append(i.text)\n",
    "    \n",
    "Investment_type"
   ]
  },
  {
   "cell_type": "code",
   "execution_count": 27,
   "id": "15f1556d",
   "metadata": {},
   "outputs": [
    {
     "data": {
      "text/html": [
       "<div>\n",
       "<style scoped>\n",
       "    .dataframe tbody tr th:only-of-type {\n",
       "        vertical-align: middle;\n",
       "    }\n",
       "\n",
       "    .dataframe tbody tr th {\n",
       "        vertical-align: top;\n",
       "    }\n",
       "\n",
       "    .dataframe thead th {\n",
       "        text-align: right;\n",
       "    }\n",
       "</style>\n",
       "<table border=\"1\" class=\"dataframe\">\n",
       "  <thead>\n",
       "    <tr style=\"text-align: right;\">\n",
       "      <th></th>\n",
       "      <th>Date</th>\n",
       "      <th>Start-Up Name</th>\n",
       "      <th>Industry/Division</th>\n",
       "      <th>Sub-Division</th>\n",
       "      <th>Location</th>\n",
       "      <th>Investor Name</th>\n",
       "      <th>Investment Type</th>\n",
       "    </tr>\n",
       "  </thead>\n",
       "  <tbody>\n",
       "    <tr>\n",
       "      <th>0</th>\n",
       "      <td>15/01/2021</td>\n",
       "      <td>Digit Insurance</td>\n",
       "      <td>Financial Services</td>\n",
       "      <td>Insurance Services</td>\n",
       "      <td>Bengaluru</td>\n",
       "      <td>A91 Partners, Faering Capital, TVS Capital Funds</td>\n",
       "      <td>Venture</td>\n",
       "    </tr>\n",
       "    <tr>\n",
       "      <th>1</th>\n",
       "      <td>28/01/2021</td>\n",
       "      <td>Bombay Shaving Company</td>\n",
       "      <td>Consumer Goods Company</td>\n",
       "      <td>Shave care, beard care, and skincare products</td>\n",
       "      <td>New Delhi</td>\n",
       "      <td>Reckitt Benckiser</td>\n",
       "      <td>Venture</td>\n",
       "    </tr>\n",
       "    <tr>\n",
       "      <th>2</th>\n",
       "      <td>19/01/2021</td>\n",
       "      <td>DeHaat</td>\n",
       "      <td>AgriTech Startup</td>\n",
       "      <td>online marketplace for farm products and services</td>\n",
       "      <td>Patna</td>\n",
       "      <td>Prosus Ventures</td>\n",
       "      <td>Series C</td>\n",
       "    </tr>\n",
       "    <tr>\n",
       "      <th>3</th>\n",
       "      <td>19/01/2021</td>\n",
       "      <td>Darwinbox</td>\n",
       "      <td>SaaS</td>\n",
       "      <td>HR Tech</td>\n",
       "      <td>Mumbai</td>\n",
       "      <td>Salesforce Ventures</td>\n",
       "      <td>Seed</td>\n",
       "    </tr>\n",
       "    <tr>\n",
       "      <th>4</th>\n",
       "      <td>18/01/2021</td>\n",
       "      <td>mfine</td>\n",
       "      <td>Health Tech Startup</td>\n",
       "      <td>AI-powered telemedicine mobile app</td>\n",
       "      <td>Bengaluru</td>\n",
       "      <td>Heritas Capital Management</td>\n",
       "      <td>Venture Round</td>\n",
       "    </tr>\n",
       "    <tr>\n",
       "      <th>5</th>\n",
       "      <td>18/01/2021</td>\n",
       "      <td>Udayy</td>\n",
       "      <td>EdTech</td>\n",
       "      <td>Online learning platform for kids in class 1-5</td>\n",
       "      <td>Gurgaon</td>\n",
       "      <td>Sequoia Capital</td>\n",
       "      <td>Seed Funding</td>\n",
       "    </tr>\n",
       "    <tr>\n",
       "      <th>6</th>\n",
       "      <td>11/01/2021</td>\n",
       "      <td>True Elements</td>\n",
       "      <td>Food Startup</td>\n",
       "      <td>Whole Food plant based Nashta</td>\n",
       "      <td>Pune</td>\n",
       "      <td>SIDBI Venture Capital</td>\n",
       "      <td>Series</td>\n",
       "    </tr>\n",
       "    <tr>\n",
       "      <th>7</th>\n",
       "      <td>13/01/2021</td>\n",
       "      <td>Saveo</td>\n",
       "      <td>B2B E-commerce</td>\n",
       "      <td>Pharmacies</td>\n",
       "      <td>Bengaluru</td>\n",
       "      <td>Matrix Partners India, RTP Global, others</td>\n",
       "      <td>Seed</td>\n",
       "    </tr>\n",
       "  </tbody>\n",
       "</table>\n",
       "</div>"
      ],
      "text/plain": [
       "         Date           Start-Up Name       Industry/Division  \\\n",
       "0  15/01/2021         Digit Insurance      Financial Services   \n",
       "1  28/01/2021  Bombay Shaving Company  Consumer Goods Company   \n",
       "2  19/01/2021                  DeHaat        AgriTech Startup   \n",
       "3  19/01/2021               Darwinbox                    SaaS   \n",
       "4  18/01/2021                   mfine     Health Tech Startup   \n",
       "5  18/01/2021                   Udayy                  EdTech   \n",
       "6  11/01/2021           True Elements            Food Startup   \n",
       "7  13/01/2021                   Saveo          B2B E-commerce   \n",
       "\n",
       "                                        Sub-Division   Location  \\\n",
       "0                                 Insurance Services  Bengaluru   \n",
       "1      Shave care, beard care, and skincare products  New Delhi   \n",
       "2  online marketplace for farm products and services      Patna   \n",
       "3                                            HR Tech     Mumbai   \n",
       "4                 AI-powered telemedicine mobile app  Bengaluru   \n",
       "5     Online learning platform for kids in class 1-5    Gurgaon   \n",
       "6                      Whole Food plant based Nashta       Pune   \n",
       "7                                         Pharmacies  Bengaluru   \n",
       "\n",
       "                                      Investor Name Investment Type  \n",
       "0  A91 Partners, Faering Capital, TVS Capital Funds         Venture  \n",
       "1                                 Reckitt Benckiser         Venture  \n",
       "2                                   Prosus Ventures        Series C  \n",
       "3                               Salesforce Ventures            Seed  \n",
       "4                        Heritas Capital Management   Venture Round  \n",
       "5                                   Sequoia Capital    Seed Funding  \n",
       "6                             SIDBI Venture Capital          Series  \n",
       "7         Matrix Partners India, RTP Global, others            Seed  "
      ]
     },
     "execution_count": 27,
     "metadata": {},
     "output_type": "execute_result"
    }
   ],
   "source": [
    "January=pd.DataFrame({\"Date\":Date,\"Start-Up Name\":Startup_Name,\"Industry/Division\":Industry,\"Sub-Division\":Sub_div,\"Location\":Location,\"Investor Name\":Investor_Name,\"Investment Type\":Investment_type})\n",
    "January"
   ]
  },
  {
   "cell_type": "code",
   "execution_count": null,
   "id": "535ef1af",
   "metadata": {},
   "outputs": [],
   "source": []
  }
 ],
 "metadata": {
  "kernelspec": {
   "display_name": "Python 3 (ipykernel)",
   "language": "python",
   "name": "python3"
  },
  "language_info": {
   "codemirror_mode": {
    "name": "ipython",
    "version": 3
   },
   "file_extension": ".py",
   "mimetype": "text/x-python",
   "name": "python",
   "nbconvert_exporter": "python",
   "pygments_lexer": "ipython3",
   "version": "3.9.12"
  }
 },
 "nbformat": 4,
 "nbformat_minor": 5
}
