{
 "cells": [
  {
   "cell_type": "code",
   "execution_count": 1,
   "id": "fa06ee75",
   "metadata": {},
   "outputs": [],
   "source": [
    "#Importing important library.\n",
    "import selenium\n",
    "from selenium import webdriver\n",
    "import pandas as pd\n",
    "from selenium.webdriver.common.by import By\n",
    "import warnings\n",
    "warnings.filterwarnings(\"ignore\")\n",
    "import time"
   ]
  },
  {
   "cell_type": "code",
   "execution_count": 2,
   "id": "046f009f",
   "metadata": {},
   "outputs": [],
   "source": [
    "#Importing Chrome-webriver\n",
    "driver=webdriver.Chrome(r'\"C:\\Users\\amits\\Desktop\\chromedriver_win32\\chromedriver.exe\"')"
   ]
  },
  {
   "cell_type": "code",
   "execution_count": 3,
   "id": "653282d1",
   "metadata": {},
   "outputs": [],
   "source": [
    "#Maximazing windows\n",
    "driver.maximize_window()"
   ]
  },
  {
   "cell_type": "code",
   "execution_count": 4,
   "id": "f0f91627",
   "metadata": {},
   "outputs": [],
   "source": [
    "#Opening Amazon Website\n",
    "url='https://www.amazon.in'\n",
    "driver.get(url)"
   ]
  },
  {
   "cell_type": "code",
   "execution_count": 5,
   "id": "bd568840",
   "metadata": {},
   "outputs": [],
   "source": [
    "serch_box=driver.find_element(By.ID,'twotabsearchtextbox').send_keys('Dell laptops under 50k')\n"
   ]
  },
  {
   "cell_type": "code",
   "execution_count": 6,
   "id": "9b070641",
   "metadata": {},
   "outputs": [],
   "source": [
    "srch_btn=driver.find_element(By.ID,'nav-search-submit-button').click()"
   ]
  },
  {
   "cell_type": "code",
   "execution_count": 7,
   "id": "5b64f6c2",
   "metadata": {},
   "outputs": [],
   "source": [
    "driver.implicitly_wait(5)"
   ]
  },
  {
   "cell_type": "code",
   "execution_count": 8,
   "id": "e7f0b82c",
   "metadata": {},
   "outputs": [],
   "source": [
    "driver.find_element(By.XPATH,\"//span[text()='Dell']\").click()"
   ]
  },
  {
   "cell_type": "markdown",
   "id": "7799430c",
   "metadata": {},
   "source": [
    "**Scrapping Product Name**"
   ]
  },
  {
   "cell_type": "code",
   "execution_count": 9,
   "id": "950ff476",
   "metadata": {},
   "outputs": [
    {
     "name": "stdout",
     "output_type": "stream",
     "text": [
      "Scrapping Page 1\n",
      "Scrapping Page 2\n",
      "Scrapping Page 3\n"
     ]
    }
   ],
   "source": [
    "Product_Name=[]\n",
    "for i in range(3):\n",
    "    print(\"Scrapping Page\",i+1)\n",
    "    \n",
    "    Name=driver.find_elements(By.XPATH,\"//span[@class='a-size-medium a-color-base a-text-normal']\")\n",
    "\n",
    "    for i in Name:\n",
    "        \n",
    "        Product_Name.append(i.text)\n",
    "        \n",
    "    next_butn=driver.find_element(By.XPATH,\"//a[@class='s-pagination-item s-pagination-next s-pagination-button s-pagination-separator']\")\n",
    "    next_butn.click()\n"
   ]
  },
  {
   "cell_type": "code",
   "execution_count": 10,
   "id": "9060c725",
   "metadata": {},
   "outputs": [
    {
     "data": {
      "text/plain": [
       "56"
      ]
     },
     "execution_count": 10,
     "metadata": {},
     "output_type": "execute_result"
    }
   ],
   "source": [
    "len(Product_Name)"
   ]
  },
  {
   "cell_type": "code",
   "execution_count": 11,
   "id": "52b0f775",
   "metadata": {},
   "outputs": [
    {
     "data": {
      "text/plain": [
       "['Dell Inspiron 3525 Laptop, AMD Ryzen 5-5625U, 8GB, 512GB SSD, Win 11 + MSO\\'21, 15.6\" (39.62Cms) FHD WVA AG 120Hz 250 nits, Platinum Silver (D560789WIN9S, 1.68Kgs)',\n",
       " \"Dell 15 (2022) Amd Ryzen 5-3450U, 8Gb/1Tb Ssd, Windows 11+Mso'21, 15.6 Inches (39.61 Cms) Fhd Display, Platinum Silver (D560713Win9S, Inspiron 3515)\",\n",
       " \"Dell New Vostro 3400 Laptop, Intel I5-1135G7, Windows 11 + Office'21, 8Gb Gddr4, 512Gb Ssd, 14 Inches (35.56Cms) Fhd Ag, Accent Black (D552256Win9B, 1.59Kgs)\",\n",
       " 'Dell New 2022 Inspiron 3511 NB || Intel Core i3-11th Gen || 8 GB Ram || 1TB HDD+256GB SSD || Windows 11 Home+Office 2021 || FHD Display || Black Color|| 1 Yr Warranty',\n",
       " \"Dell 15 (2021) AMD Ryzen 5-3450U 15.6 inches FHD Display Laptop, 8GB, 512GB SSD, Windows 11 + MS Office'21, AMD Vega Graphics, Platinum Silver Color, Backlit KB (Inspiron 3515, D560704WIN9S), 1.8Kg\",\n",
       " \"Dell Inspiron 3511 Laptop, Intel I5-1135G7, 8Gb, 256Gb Ssd, Windows 11 + Ms Office'21, 15.6 Inches (39.62Cms) Fhd Display, Carbon Black (Inspiron 3511, D560662Win9Be, 1.8Kgs)\",\n",
       " 'Dell Inspiron 3501 15 inches FHD Laptop (Intel 11th Gen i5-1135G7/8GB/1TB HDD/256GB SSD/Windows 10 Home + MS Office/2GB Graphics/Soft Mint), 1.7kg',\n",
       " 'Dell Vostro 3401 Intel i3-1115G4 Laptop, 8GB DDR4, 256GB SSD, 14 Inches(35cm) FHD Display, Integrated Graphics, Windows 10 + MSO, Black (D552190WIN9BE), 1.59Kg',\n",
       " \"Dell New Vostro 3400 Laptop Intel I5-1135G7, 16Gb Ddr4, 512Gb Ssd, Windows 11+Mso'21, 14 Inches (35.56 Cms) Fhd Ag, Dune,1.59Kgs (D552214Win9D)\",\n",
       " 'Dell 15 (2021) AMD Ryzen 3-3250U Laptop, 8GB, 1TB HDD, Windows 10 + MS Office, Radeon Graphics, 15.6 inches FHD Display, Soft Mint Color (Inspiron 3505, D560617WIN9SE), 1.83kg',\n",
       " 'Dell Vostro 3510 Laptop - 15.6 inches | 8GB RAM 256GB SSD, 1TB HDD, Intel Core i3-1115G4- 11th Generation, UHD Graphics, Backlit KB -Windows 11, MS Office H&S 2021 (Titan Grey)',\n",
       " 'Dell New 15 Intel i3-1115G4 15.6 inches (39 cm)FHD Display Laptop, 8GB, 256GB SSD, Windows 10 + MS Office, Integrated Graphics, Carbon Color (Inspiron 3511, D560581WIN9BE), 1.8kg',\n",
       " \"Dell New Vostro 3510 Laptop, Intel I3-1005G1, Windows 11 + Office'21, 8Gb Gddr4, 512Gb Ssd, 15.6 Inches (39.62Cms) Fhd Wva Ag, Carbon (Icc-D585033Win8) 1.8Kgs\",\n",
       " 'Dell 15 (2021) AMD Ryzen 5-3450U Laptop, 8GB DDR4, 256GB SSD, Windows 10 + MS Office, Vega Graphics, 15.6 inches (39.6cm)FHD Display, Soft Mint (Inspiron 3505, D560616WIN9SE), 1.83kg',\n",
       " '(Renewed) Dell Latitude Laptop E3490 Intel Core i3 - 8130U Processor 8th Gen, 8 GB Ram & 256 GB SSD, 14 Inches (Ultra Slim) Notebook Computer',\n",
       " 'Dell New Windows 11 Inspiron 3525 Laptop, Intel Athlon Silver 3050U, Win11 + Office 21, 8GB GDDR4, 256GB SSD, Radeon Graphics, 15.6\" (39.62Cms) HD AG - D560766WIN9BE1.68Kgs',\n",
       " 'Dell Vostro 3420 Laptop - Intel i3-1115G4, 8GB DDR4 and 512GB SSD, Windows 11 + MSO\\'21, 14.0\"/35.56Cms, FHD WVA AG 250 nits (Carbon Black, D552276WIN9BE, 1.48Kgs)',\n",
       " 'Dell Vostro 3510 Laptop 15.6 Inches Fhd Core I5 1135G7- 11Th Gen 8Gb Ram + 512 Ssd Intel Uhd Graphics Windows 11+Ms Office H&S 2021 -Backlit Kb- Titan Grey.',\n",
       " \"Dell New Inspiron 3511 Laptop Intel I3-1115G4 15.6 Inches (39.62Cms) Anti Glare Fhd, 8Gb Ddr4, 1Tb, Windows 11 + Ms Office'21, Carbon Black, 1.8Kgs (D560646Win9B)\",\n",
       " \"Dell 15 (2021) Ryzen 3-3250U, 8Gb, 512Gb Ssd, Windows 11 + Ms Office'21, AMD Vega Graphics, 15.6 Inches (39.62 Cms) Fhd Display, Platinum Silver Color, Backlit Kb (Inspiron 3515, D560712Win9S)\",\n",
       " 'Dell New 2021 Inspiron 3511 NB || Intel Core i3-11th Gen || 16 GB Ram || 1TB HDD+256GB SSD || Windows 11 Home+Office 2021 || 32 GB Pendrive sandisk|| FHD Display|Black Color || 1 Yr Warranty',\n",
       " 'Dell Inspiron 5518 Intel Ci5-11300H 15.6 inches(39.6cm) FHD AG 250nits Display Laptop (16GB / 512GB SSD / Integrated Graphics / Windows 10 + MSO / Backlit KB + FPR / Silver) D560479WIN9S, 1.63kg',\n",
       " 'Dell Vostro 3400 11th Gen Intel i5-1135G7 14 inches FHD Anti Glare Display Laptop (8GB / 512 SSD / Integrated Graphics / Windows 10 + Office H&S/ Dune Color /1.64Kg/Backlit Keyboard) D552157WIN9DE',\n",
       " 'Dell Vostro 3400 Intel i3-1115G4 14 inches(35.5cm) FHD Display Laptop (4GB / 1TB HDD + 256GB SSD / Integrated Graphics / Windows 10 + MSO / Dune Color) D552164WIN9DE, 1.59kg',\n",
       " \"Dell New Inspiron 3511 Laptop, Intel I3-1115G4, Windows 11 + Office'21, 8Gb Gddr4, 512Gb Ssd, 15.6 Inches (39.62Cms) Fhd Wva Ag, Platinum Silver (D560749Win9S, 1.8Kgs)\",\n",
       " \"Dell 15 (2022) Intel I3-1115G4, 8Gb/512Gb Ssd, Windows 11+Mso'21, 15.6 Inches (39.61 Cms) Fhd Display, Platinum Silver (D560656Win9S, Inspiron 3511)\",\n",
       " 'Dell Inspiron 3511 Windows 11 Laptop, Intel i3-1115G4, 8GB DDR4 & 512GB SSD, Win 11 + MSO\\'21, 15.6\" (39.62Cms) FHD WVA AG, Carbon Black - D560801WIN9B, 1.8Kgs',\n",
       " 'Dell Inspiron 3511 Laptop, Intel i3-1115G4, 8GB, 512GB SSD, Win 11 + MSO, 15.6\" (39.62Cms) FHD WVA AG Narrow Border, Carbon Black (D560842WIN9B, 1.8Kgs)',\n",
       " 'Dell Vostro 3400 Laptop, Intel i5-1135G7, 8GB DDR4, 512GB SSD, NVIDIA MX330 2GB GDDR5, Win 11 + Office H&S 2021, 14.0\" (35.56 Cms) FHD WVA AG, Dune Color (D552304WIN9DE, 1.59Kgs)',\n",
       " 'Dell Inspiron 3511 Laptop, Intel i3-1115G4, 15.6\" (39.6Cms) FHD WVA AG Narrow Border, 8GB, 256GB SSD, Win11 + MSO\\'21, Platinum Silver Color (D560649WIN9S, 1.8Kgs)',\n",
       " '(Renewed) Dell Latitude E5470 Intel Core i5 6th Gen.6200u Processor 14.1 Inches HD Screen Notebook Computer (8 GB Ram & 256 GB SSD, Windows 10 Pro, 1.71Kg)',\n",
       " 'Dell Windows Inspiron 3515 Laptop, AMD Ryzen 5-3450U, Win 11 + MSO\\'21, 8GB GDDR4, 512Gb SSD, Vega Graphics, 15.6\" (39.62Cms) FHD Anti-Glare, Carbon Black - D560790WIN9BE, 1.8Kgs',\n",
       " 'Dell Vostro 3425 Laptop, Windows 11 AMD Ryzen 3-5425U, 8GB DDR4 & 512GB SSD, Win 11 + MSO\\'21, 14.0\" (35.56Cms) FHD WVA AG 250 nits, Carbon Black - D552309WIN9BE, 1.48Kgs',\n",
       " 'Dell Inspiron 3520 Laptop, Intel i5-1235U, 8GB, 512GB SSD, 15.6\" (39.62Cms) FHD WVA AG 120Hz 250 nits, Win 11 + MSO\\'21, Black (D560871WIN9B, 1.65Kgs)',\n",
       " 'Dell Vostro 3420 Laptop, Intel i3-1115G4, 8GB DDR4 & 256GB SSD, Win 11 + MSO\\'21, 14.0\", 35.56Cms FHD WVA AG 250 nits, Carbon Black (D552299WIN9BE, 1.48Kgs) Windows 11',\n",
       " \"Dell New 14 AMD Ryzen 3-3250U 14 inches(35cm) FHD Display Laptop (8GB, 1TB HDD, Windows 11 + MS Office'21, Vega Graphics, Accent Black, Vostro 3405, D552234WIN9B), 1.59Kg\",\n",
       " 'Dell Inspiron 3521 Laptop - Intel PQC-N5030, Windows 11 + Office 21, 8GB GDDR4, 256GB SSD, 15.6\"/39.62Cms HD AG Narrow Border (D560756WIN9BE, Carbon Black, 1.61Kgs)',\n",
       " 'Dell 14 (2021) AMD Ryzen 5-3450U Laptop 8Gb, 256Gb Ssd, Windows 10 + Ms Office, Vega Graphics, 14.0 Inches (35.56 Cms) Fhd Display/ Dune Color (Vostro 3405, D552202Win9D)',\n",
       " 'Dell New Inspiron 3515 Windows Laptop, AMD Ryzen3-3250U, Win11 + Office\\' 21, 8GB GDDR4, 1TB HDD + 256GB SSD, 15.6\" (39.62Cms) FHD AG, Carbon Black - D560798WIN9BE, 1.8Kgs',\n",
       " 'Dell 15 (2021) AMD Ryzen 3-3250U Laptop, 8GB DDR4, 256GB SSD, Windows 10 + MS Office, Radeon Graphics, 15.6 inches FHD Display, Carbon Black (Inspiron 3515, D560523WIN9BE), 1.8kg',\n",
       " 'Dell Vostro 3400 14 inches(35.5cm) FHD Display Laptop (Intel i5-1135G7/8GB/512GB SSD/Nvidia 2GB MX330 Graphics/Windows 10 + MSO/Dune Color) D552183WIN9DE',\n",
       " 'Dell 14 (2021) Intel i3-1125G4 14 inches FHD Display 2 in 1 Touch Screen Laptop (8Gb RAM, 256Gb SSD, Windows 10 + MSO, Backlit KB + FPR, Silver Color (Inspiron 5410, D560563WIN9S), 1.5Kg)',\n",
       " 'Dell Inspiron 3511Laptop - Intel i3-1115G4, 8GB, 512GB SSD, 15.6\"/39.62Cms FHD WVA AG, Windows 11 + Office 21 (Carbon Black, 1.8Kgs, D560743WIN9B)',\n",
       " \"Dell New 15 PQC-N5030 Intel Inspiron 3510 15.6 inches(39.6cm) HD Display Laptop (4GB, 256GB SSD, Windows 11 + MS Office'21, Integrated Graphics, Carbon Black (D560717WIN9B), 1.8Kg)\",\n",
       " 'Dell Vostro 3400 14 inches FHD Anti Glare Display Laptop/ Intel i5-1135G7 / 8GB / 512 SSD / Nvidia 2GB MX330 Graphics / Windows 10 + Office H&S/ Dune Color D552156WIN9DE, 1.64kg',\n",
       " 'Dell Inspiron 3493 Intel 10th Gen i3-1005G1 14 inches(35cm) HD Thin and Light Laptop (4GB/1TB HDD/Windows 10 + MS Office/HD Graphics/Silver) D560193WIN9SE, 1.7Kg',\n",
       " 'Dell Inspiron 3511---Intel Core i3-11th Gen || 8 GB Ram || 1TB HDD + 512 GB SSD || Windows 11 Home + Office 2021 || FHD Display || Silver Color || 1 Year Dell Onsite',\n",
       " 'Dell 14 (2021) AMD Ryzen 5-3450U Laptop 8GB, 256GB SSD, Windows 10 + MS Office, Vega Graphics, 14.0 inches(35cm) FHD Display/ Dune Color (Vostro 3405, D552180WIN9D), 1.59kg',\n",
       " '(Renewed) Dell Intel 5th Gen Core i5 5300U 14-Inch (35.56 cms) Laptop (8 GB/256 GB SSD/Windows 10/Intel HD Graphics/Black/), Latitude E5450',\n",
       " 'Dell Inspiron 3501 Intel i3-1005G1 15.6 inches(39.6cm) FHD Anti Glare Display Laptop (4GB / 256 SSD / Integrated Graphics / 1 Yr NBD / Windows 10 + MSO / Accent Black) D560397WIN9BE, 1.96kg',\n",
       " 'Dell Inspiron 3501 39.62 cm (15.6 Inches) Fhd Display Laptop (11Th Gen Intel I3-1115G4/ 8Gb/1 Tb HDD/ Integrated Graphics/ Windows 10 + Mso/ Soft Mint Color) D560424Win9S',\n",
       " 'Dell Windows Vostro 3510 Laptop, Intel Core i3, Win 11 + MS Office 21, 8GB DDR4, 256GB SSD, 15.6\" (39.62Cms) FHD WVA Anti-Glare, Carbon ICC-D585035WIN8, 1.8Kgs',\n",
       " 'Dell Vostro 3400 14 inches(35cm) FHD Anti Glare Display Laptop (11th Gen Intel i5-1135G7 / 8GB / 1TB / Integrated Graphics / Windows 10 + MS Office / Black/ 1.58Kg) D552154WIN9BE',\n",
       " '(Renewed) Dell 5th Gen Intel Core i3 14.5 inches 1366x768 Gaming Laptop (4 GB/500 GB/Windows 10/MS Office/Black/2.04 Kg), Dell Latitude E5450_cr',\n",
       " '(Renewed) Dell Latitude E5470 14 Inches Laptop (Intel Core I5 6Th Gen/8Gb/256 Gb Sdd/Windows 10/Ms Office Pro 2019/Integrated Graphics), Black',\n",
       " 'Dell Vostro 3510 Laptop 15.6 Inches Fhd Core I3 1135G4- 11Th Gen 8Gb Ram + 512 Ssd Intel Uhd Graphics Windows 11+Ms Office H&S 2021 -Business Laptop - Titan Grey -1.69Kg']"
      ]
     },
     "execution_count": 11,
     "metadata": {},
     "output_type": "execute_result"
    }
   ],
   "source": [
    "Product_Name"
   ]
  },
  {
   "cell_type": "code",
   "execution_count": 12,
   "id": "3ec07fd2",
   "metadata": {},
   "outputs": [],
   "source": [
    "driver.implicitly_wait(10)"
   ]
  },
  {
   "cell_type": "code",
   "execution_count": 13,
   "id": "44c69134",
   "metadata": {},
   "outputs": [],
   "source": [
    "driver.back()\n",
    "driver.back()\n",
    "driver.back()"
   ]
  },
  {
   "cell_type": "code",
   "execution_count": 14,
   "id": "70d1fbae",
   "metadata": {},
   "outputs": [],
   "source": [
    "driver.find_element(By.XPATH,\"//span[text()='Dell']\").click()"
   ]
  },
  {
   "cell_type": "markdown",
   "id": "680d0327",
   "metadata": {},
   "source": [
    "**Scapping Price Range**"
   ]
  },
  {
   "cell_type": "code",
   "execution_count": 15,
   "id": "81f7a4de",
   "metadata": {},
   "outputs": [
    {
     "name": "stdout",
     "output_type": "stream",
     "text": [
      "Scrapping Price of Page 1\n",
      "Scrapping Price of Page 2\n",
      "Scrapping Price of Page 3\n"
     ]
    }
   ],
   "source": [
    "Price=[]\n",
    "for i in range(3):\n",
    "    print(\"Scrapping Price of Page\",i+1)\n",
    "    \n",
    "    Name=driver.find_elements(By.XPATH,\"//span[@class='a-price-whole']\")\n",
    "\n",
    "    for i in Name:\n",
    "        \n",
    "        Price.append(i.text)\n",
    "        \n",
    "    next_butn=driver.find_element(By.XPATH,\"//a[@class='s-pagination-item s-pagination-next s-pagination-button s-pagination-separator']\")\n",
    "    next_butn.click()\n"
   ]
  },
  {
   "cell_type": "code",
   "execution_count": 16,
   "id": "b776c312",
   "metadata": {},
   "outputs": [
    {
     "data": {
      "text/plain": [
       "40"
      ]
     },
     "execution_count": 16,
     "metadata": {},
     "output_type": "execute_result"
    }
   ],
   "source": [
    "len(Price)"
   ]
  },
  {
   "cell_type": "code",
   "execution_count": 17,
   "id": "de2570dd",
   "metadata": {},
   "outputs": [
    {
     "data": {
      "text/plain": [
       "['41,876',\n",
       " '49,390',\n",
       " '53,500',\n",
       " '39,799',\n",
       " '48,500',\n",
       " '60,500',\n",
       " '66,500',\n",
       " '41,090',\n",
       " '61,100',\n",
       " '36,490',\n",
       " '48,750',\n",
       " '41,380',\n",
       " '41,950',\n",
       " '43,090',\n",
       " '50,300',\n",
       " '53,990',\n",
       " '30,900',\n",
       " '39,990',\n",
       " '60,000',\n",
       " '38,280',\n",
       " '41,600',\n",
       " '46,324',\n",
       " '71,250',\n",
       " '56,120',\n",
       " '42,850',\n",
       " '41,499',\n",
       " '44,200',\n",
       " '39,075',\n",
       " '30,524',\n",
       " '19,990',\n",
       " '35,990',\n",
       " '53,700',\n",
       " '39,990',\n",
       " '55,990',\n",
       " '38,990',\n",
       " '79,000',\n",
       " '35,990',\n",
       " '41,650',\n",
       " '60,300',\n",
       " '33,599']"
      ]
     },
     "execution_count": 17,
     "metadata": {},
     "output_type": "execute_result"
    }
   ],
   "source": [
    "Price"
   ]
  },
  {
   "cell_type": "code",
   "execution_count": 18,
   "id": "e1f83a8b",
   "metadata": {},
   "outputs": [],
   "source": [
    "driver.implicitly_wait(10)"
   ]
  },
  {
   "cell_type": "code",
   "execution_count": 19,
   "id": "bec8ade5",
   "metadata": {},
   "outputs": [],
   "source": [
    "driver.back()\n",
    "driver.back()\n",
    "driver.back()"
   ]
  },
  {
   "cell_type": "markdown",
   "id": "09b9ede9",
   "metadata": {},
   "source": [
    "**Scrapping Expected Delivery**"
   ]
  },
  {
   "cell_type": "code",
   "execution_count": 20,
   "id": "e036af2c",
   "metadata": {},
   "outputs": [
    {
     "name": "stdout",
     "output_type": "stream",
     "text": [
      "Scrapping Expected Delivery of Product From Page 1\n",
      "Scrapping Expected Delivery of Product From Page 2\n",
      "Scrapping Expected Delivery of Product From Page 3\n"
     ]
    },
    {
     "data": {
      "text/plain": [
       "0"
      ]
     },
     "execution_count": 20,
     "metadata": {},
     "output_type": "execute_result"
    }
   ],
   "source": [
    "Expected_Delivery=[]\n",
    "for i in range(3):\n",
    "    print(\"Scrapping Expected Delivery of Product From Page\",i+1)\n",
    "    \n",
    "    Name=driver.find_elements(By.XPATH,\"//span[@class='a-text-bold']\")\n",
    "\n",
    "    for i in Name:\n",
    "        \n",
    "        Expected_Delivery.append(i.text)\n",
    "        \n",
    "    next_butn=driver.find_element(By.XPATH,\"//a[@class='s-pagination-item s-pagination-next s-pagination-button s-pagination-separator']\")\n",
    "    next_butn.click()\n",
    "len(Expected_Delivery)"
   ]
  },
  {
   "cell_type": "code",
   "execution_count": 21,
   "id": "a353eea0",
   "metadata": {},
   "outputs": [
    {
     "name": "stdout",
     "output_type": "stream",
     "text": [
      "--------------------------------------------------\n"
     ]
    }
   ],
   "source": [
    "Deliv=print('-'*50)"
   ]
  },
  {
   "cell_type": "code",
   "execution_count": 22,
   "id": "5170ee7d",
   "metadata": {},
   "outputs": [],
   "source": [
    "Expected_Delivery.append(Deliv)"
   ]
  },
  {
   "cell_type": "code",
   "execution_count": 23,
   "id": "907cdc66",
   "metadata": {},
   "outputs": [
    {
     "data": {
      "text/plain": [
       "[None]"
      ]
     },
     "execution_count": 23,
     "metadata": {},
     "output_type": "execute_result"
    }
   ],
   "source": [
    "Expected_Delivery"
   ]
  },
  {
   "cell_type": "code",
   "execution_count": 34,
   "id": "25274178",
   "metadata": {},
   "outputs": [
    {
     "data": {
      "text/plain": [
       "50"
      ]
     },
     "execution_count": 34,
     "metadata": {},
     "output_type": "execute_result"
    }
   ],
   "source": [
    "Delivery=Expected_Delivery*25*2\n",
    "len(Delivery)"
   ]
  },
  {
   "cell_type": "code",
   "execution_count": 25,
   "id": "457ced2b",
   "metadata": {},
   "outputs": [],
   "source": [
    "driver.implicitly_wait(15)"
   ]
  },
  {
   "cell_type": "code",
   "execution_count": 26,
   "id": "5470eb11",
   "metadata": {},
   "outputs": [],
   "source": [
    "driver.back()\n",
    "driver.back()\n",
    "driver.back()"
   ]
  },
  {
   "cell_type": "markdown",
   "id": "f1c52165",
   "metadata": {},
   "source": [
    "**Scrapping Availability**"
   ]
  },
  {
   "cell_type": "code",
   "execution_count": 27,
   "id": "ab626266",
   "metadata": {},
   "outputs": [
    {
     "data": {
      "text/plain": [
       "0"
      ]
     },
     "execution_count": 27,
     "metadata": {},
     "output_type": "execute_result"
    }
   ],
   "source": [
    "Available=[]\n",
    "avail=driver.find_elements(By.XPATH,\"//span[@class='a-size-base a-color-success']\")\n",
    "for i in avail:\n",
    "    Available.append(i.text)\n",
    "    \n",
    "len(Available)"
   ]
  },
  {
   "cell_type": "code",
   "execution_count": 28,
   "id": "01f9bbc2",
   "metadata": {},
   "outputs": [
    {
     "name": "stdout",
     "output_type": "stream",
     "text": [
      "-\n"
     ]
    }
   ],
   "source": [
    "Avail=print('-')\n",
    "Available.append(Avail)\n",
    "Available=Available*50"
   ]
  },
  {
   "cell_type": "code",
   "execution_count": 29,
   "id": "8be18066",
   "metadata": {},
   "outputs": [
    {
     "data": {
      "text/plain": [
       "50"
      ]
     },
     "execution_count": 29,
     "metadata": {},
     "output_type": "execute_result"
    }
   ],
   "source": [
    "len(Available)"
   ]
  },
  {
   "cell_type": "markdown",
   "id": "c1463f12",
   "metadata": {},
   "source": [
    "**Product URL**"
   ]
  },
  {
   "cell_type": "code",
   "execution_count": 37,
   "id": "b5df1d6c",
   "metadata": {},
   "outputs": [
    {
     "name": "stdout",
     "output_type": "stream",
     "text": [
      "Scrapping URL 1\n"
     ]
    },
    {
     "ename": "NoSuchWindowException",
     "evalue": "Message: no such window: target window already closed\nfrom unknown error: web view not found\n  (Session info: chrome=107.0.5304.107)\nStacktrace:\nBacktrace:\n\tOrdinal0 [0x0105ACD3+2075859]\n\tOrdinal0 [0x00FEEE61+1633889]\n\tOrdinal0 [0x00EEB7BD+571325]\n\tOrdinal0 [0x00ED2E1A+470554]\n\tOrdinal0 [0x00F3AA0B+895499]\n\tOrdinal0 [0x00F4AC96+961686]\n\tOrdinal0 [0x00F37136+880950]\n\tOrdinal0 [0x00F0FEFD+720637]\n\tOrdinal0 [0x00F10F3F+724799]\n\tGetHandleVerifier [0x0130EED2+2769538]\n\tGetHandleVerifier [0x01300D95+2711877]\n\tGetHandleVerifier [0x010EA03A+521194]\n\tGetHandleVerifier [0x010E8DA0+516432]\n\tOrdinal0 [0x00FF682C+1665068]\n\tOrdinal0 [0x00FFB128+1683752]\n\tOrdinal0 [0x00FFB215+1683989]\n\tOrdinal0 [0x01006484+1729668]\n\tBaseThreadInitThunk [0x75AF7BA9+25]\n\tRtlInitializeExceptionChain [0x77C2BB9B+107]\n\tRtlClearBits [0x77C2BB1F+191]\n",
     "output_type": "error",
     "traceback": [
      "\u001b[1;31m---------------------------------------------------------------------------\u001b[0m",
      "\u001b[1;31mNoSuchWindowException\u001b[0m                     Traceback (most recent call last)",
      "Input \u001b[1;32mIn [37]\u001b[0m, in \u001b[0;36m<cell line: 2>\u001b[1;34m()\u001b[0m\n\u001b[0;32m      2\u001b[0m \u001b[38;5;28;01mfor\u001b[39;00m i \u001b[38;5;129;01min\u001b[39;00m \u001b[38;5;28mrange\u001b[39m(\u001b[38;5;241m3\u001b[39m):\n\u001b[0;32m      3\u001b[0m     \u001b[38;5;28mprint\u001b[39m(\u001b[38;5;124m\"\u001b[39m\u001b[38;5;124mScrapping URL\u001b[39m\u001b[38;5;124m\"\u001b[39m,i\u001b[38;5;241m+\u001b[39m\u001b[38;5;241m1\u001b[39m)\n\u001b[1;32m----> 5\u001b[0m     Name\u001b[38;5;241m=\u001b[39m\u001b[43mdriver\u001b[49m\u001b[38;5;241;43m.\u001b[39;49m\u001b[43mfind_elements\u001b[49m\u001b[43m(\u001b[49m\u001b[43mBy\u001b[49m\u001b[38;5;241;43m.\u001b[39;49m\u001b[43mXPATH\u001b[49m\u001b[43m,\u001b[49m\u001b[38;5;124;43m\"\u001b[39;49m\u001b[38;5;124;43m//a[@class=\u001b[39;49m\u001b[38;5;124;43m'\u001b[39;49m\u001b[38;5;124;43ma-link-normal s-underline-text s-underline-link-text s-link-style a-text-normal\u001b[39;49m\u001b[38;5;124;43m'\u001b[39;49m\u001b[38;5;124;43m]\u001b[39;49m\u001b[38;5;124;43m\"\u001b[39;49m\u001b[43m)\u001b[49m\n\u001b[0;32m      6\u001b[0m     \u001b[38;5;28;01mfor\u001b[39;00m i \u001b[38;5;129;01min\u001b[39;00m Name:\n\u001b[0;32m     10\u001b[0m         \u001b[38;5;28mprint\u001b[39m(i\u001b[38;5;241m.\u001b[39mget_attribute(\u001b[38;5;124m'\u001b[39m\u001b[38;5;124mhref\u001b[39m\u001b[38;5;124m'\u001b[39m))\n",
      "File \u001b[1;32m~\\anaconda3\\lib\\site-packages\\selenium\\webdriver\\remote\\webdriver.py:892\u001b[0m, in \u001b[0;36mWebDriver.find_elements\u001b[1;34m(self, by, value)\u001b[0m\n\u001b[0;32m    888\u001b[0m     value \u001b[38;5;241m=\u001b[39m \u001b[38;5;124m'\u001b[39m\u001b[38;5;124m[name=\u001b[39m\u001b[38;5;124m\"\u001b[39m\u001b[38;5;132;01m%s\u001b[39;00m\u001b[38;5;124m\"\u001b[39m\u001b[38;5;124m]\u001b[39m\u001b[38;5;124m'\u001b[39m \u001b[38;5;241m%\u001b[39m value\n\u001b[0;32m    890\u001b[0m \u001b[38;5;66;03m# Return empty list if driver returns null\u001b[39;00m\n\u001b[0;32m    891\u001b[0m \u001b[38;5;66;03m# See https://github.com/SeleniumHQ/selenium/issues/4555\u001b[39;00m\n\u001b[1;32m--> 892\u001b[0m \u001b[38;5;28;01mreturn\u001b[39;00m \u001b[38;5;28;43mself\u001b[39;49m\u001b[38;5;241;43m.\u001b[39;49m\u001b[43mexecute\u001b[49m\u001b[43m(\u001b[49m\u001b[43mCommand\u001b[49m\u001b[38;5;241;43m.\u001b[39;49m\u001b[43mFIND_ELEMENTS\u001b[49m\u001b[43m,\u001b[49m\u001b[43m \u001b[49m\u001b[43m{\u001b[49m\u001b[38;5;124;43m\"\u001b[39;49m\u001b[38;5;124;43musing\u001b[39;49m\u001b[38;5;124;43m\"\u001b[39;49m\u001b[43m:\u001b[49m\u001b[43m \u001b[49m\u001b[43mby\u001b[49m\u001b[43m,\u001b[49m\u001b[43m \u001b[49m\u001b[38;5;124;43m\"\u001b[39;49m\u001b[38;5;124;43mvalue\u001b[39;49m\u001b[38;5;124;43m\"\u001b[39;49m\u001b[43m:\u001b[49m\u001b[43m \u001b[49m\u001b[43mvalue\u001b[49m\u001b[43m}\u001b[49m\u001b[43m)\u001b[49m[\u001b[38;5;124m\"\u001b[39m\u001b[38;5;124mvalue\u001b[39m\u001b[38;5;124m\"\u001b[39m] \u001b[38;5;129;01mor\u001b[39;00m []\n",
      "File \u001b[1;32m~\\anaconda3\\lib\\site-packages\\selenium\\webdriver\\remote\\webdriver.py:444\u001b[0m, in \u001b[0;36mWebDriver.execute\u001b[1;34m(self, driver_command, params)\u001b[0m\n\u001b[0;32m    442\u001b[0m response \u001b[38;5;241m=\u001b[39m \u001b[38;5;28mself\u001b[39m\u001b[38;5;241m.\u001b[39mcommand_executor\u001b[38;5;241m.\u001b[39mexecute(driver_command, params)\n\u001b[0;32m    443\u001b[0m \u001b[38;5;28;01mif\u001b[39;00m response:\n\u001b[1;32m--> 444\u001b[0m     \u001b[38;5;28;43mself\u001b[39;49m\u001b[38;5;241;43m.\u001b[39;49m\u001b[43merror_handler\u001b[49m\u001b[38;5;241;43m.\u001b[39;49m\u001b[43mcheck_response\u001b[49m\u001b[43m(\u001b[49m\u001b[43mresponse\u001b[49m\u001b[43m)\u001b[49m\n\u001b[0;32m    445\u001b[0m     response[\u001b[38;5;124m\"\u001b[39m\u001b[38;5;124mvalue\u001b[39m\u001b[38;5;124m\"\u001b[39m] \u001b[38;5;241m=\u001b[39m \u001b[38;5;28mself\u001b[39m\u001b[38;5;241m.\u001b[39m_unwrap_value(response\u001b[38;5;241m.\u001b[39mget(\u001b[38;5;124m\"\u001b[39m\u001b[38;5;124mvalue\u001b[39m\u001b[38;5;124m\"\u001b[39m, \u001b[38;5;28;01mNone\u001b[39;00m))\n\u001b[0;32m    446\u001b[0m     \u001b[38;5;28;01mreturn\u001b[39;00m response\n",
      "File \u001b[1;32m~\\anaconda3\\lib\\site-packages\\selenium\\webdriver\\remote\\errorhandler.py:249\u001b[0m, in \u001b[0;36mErrorHandler.check_response\u001b[1;34m(self, response)\u001b[0m\n\u001b[0;32m    247\u001b[0m         alert_text \u001b[38;5;241m=\u001b[39m value[\u001b[38;5;124m\"\u001b[39m\u001b[38;5;124malert\u001b[39m\u001b[38;5;124m\"\u001b[39m]\u001b[38;5;241m.\u001b[39mget(\u001b[38;5;124m\"\u001b[39m\u001b[38;5;124mtext\u001b[39m\u001b[38;5;124m\"\u001b[39m)\n\u001b[0;32m    248\u001b[0m     \u001b[38;5;28;01mraise\u001b[39;00m exception_class(message, screen, stacktrace, alert_text)  \u001b[38;5;66;03m# type: ignore[call-arg]  # mypy is not smart enough here\u001b[39;00m\n\u001b[1;32m--> 249\u001b[0m \u001b[38;5;28;01mraise\u001b[39;00m exception_class(message, screen, stacktrace)\n",
      "\u001b[1;31mNoSuchWindowException\u001b[0m: Message: no such window: target window already closed\nfrom unknown error: web view not found\n  (Session info: chrome=107.0.5304.107)\nStacktrace:\nBacktrace:\n\tOrdinal0 [0x0105ACD3+2075859]\n\tOrdinal0 [0x00FEEE61+1633889]\n\tOrdinal0 [0x00EEB7BD+571325]\n\tOrdinal0 [0x00ED2E1A+470554]\n\tOrdinal0 [0x00F3AA0B+895499]\n\tOrdinal0 [0x00F4AC96+961686]\n\tOrdinal0 [0x00F37136+880950]\n\tOrdinal0 [0x00F0FEFD+720637]\n\tOrdinal0 [0x00F10F3F+724799]\n\tGetHandleVerifier [0x0130EED2+2769538]\n\tGetHandleVerifier [0x01300D95+2711877]\n\tGetHandleVerifier [0x010EA03A+521194]\n\tGetHandleVerifier [0x010E8DA0+516432]\n\tOrdinal0 [0x00FF682C+1665068]\n\tOrdinal0 [0x00FFB128+1683752]\n\tOrdinal0 [0x00FFB215+1683989]\n\tOrdinal0 [0x01006484+1729668]\n\tBaseThreadInitThunk [0x75AF7BA9+25]\n\tRtlInitializeExceptionChain [0x77C2BB9B+107]\n\tRtlClearBits [0x77C2BB1F+191]\n"
     ]
    }
   ],
   "source": [
    "url=[]\n",
    "for i in range(3):\n",
    "    print(\"Scrapping URL\",i+1)\n",
    "    \n",
    "    Name=driver.find_elements(By.XPATH,\"//a[@class='a-link-normal s-underline-text s-underline-link-text s-link-style a-text-normal']\")\n",
    "    for i in Name:\n",
    "        \n",
    "        \n",
    "        \n",
    "        print(i.get_attribute('href'))\n",
    "        "
   ]
  },
  {
   "cell_type": "code",
   "execution_count": 33,
   "id": "11bd11ab",
   "metadata": {},
   "outputs": [
    {
     "data": {
      "text/plain": [
       "30"
      ]
     },
     "execution_count": 33,
     "metadata": {},
     "output_type": "execute_result"
    }
   ],
   "source": [
    "len(Name)"
   ]
  },
  {
   "cell_type": "code",
   "execution_count": null,
   "id": "f2721b24",
   "metadata": {},
   "outputs": [],
   "source": [
    "driver.close()"
   ]
  }
 ],
 "metadata": {
  "kernelspec": {
   "display_name": "Python 3 (ipykernel)",
   "language": "python",
   "name": "python3"
  },
  "language_info": {
   "codemirror_mode": {
    "name": "ipython",
    "version": 3
   },
   "file_extension": ".py",
   "mimetype": "text/x-python",
   "name": "python",
   "nbconvert_exporter": "python",
   "pygments_lexer": "ipython3",
   "version": "3.9.12"
  }
 },
 "nbformat": 4,
 "nbformat_minor": 5
}
