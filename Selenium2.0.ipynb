{
 "cells": [
  {
   "cell_type": "markdown",
   "id": "ae058069",
   "metadata": {},
   "source": [
    "So in this notebook we will scrape data frm https://www.naukri.com/ website for Web Development  job role for Hyderabad Location. We will scrape 4 feilds for each job as mentioned below.\n",
    "\n",
    "1) job title. 2) Company Name. 3) Location Of Job. 4)Experienced required."
   ]
  },
  {
   "cell_type": "code",
   "execution_count": 1,
   "id": "e766cc6e",
   "metadata": {},
   "outputs": [],
   "source": [
    "#Importing all important library"
   ]
  },
  {
   "cell_type": "code",
   "execution_count": 2,
   "id": "d672c3ac",
   "metadata": {},
   "outputs": [],
   "source": [
    "import selenium"
   ]
  },
  {
   "cell_type": "code",
   "execution_count": 3,
   "id": "83115bbb",
   "metadata": {},
   "outputs": [],
   "source": [
    "from selenium import webdriver"
   ]
  },
  {
   "cell_type": "code",
   "execution_count": 4,
   "id": "71fe53d5",
   "metadata": {},
   "outputs": [],
   "source": [
    "import pandas as pd "
   ]
  },
  {
   "cell_type": "code",
   "execution_count": 5,
   "id": "0005de96",
   "metadata": {},
   "outputs": [],
   "source": [
    "from selenium.webdriver.common.by import By"
   ]
  },
  {
   "cell_type": "code",
   "execution_count": 6,
   "id": "9d562891",
   "metadata": {},
   "outputs": [],
   "source": [
    "import warnings\n",
    "warnings.filterwarnings(\"ignore\")\n",
    "import time"
   ]
  },
  {
   "cell_type": "code",
   "execution_count": 7,
   "id": "6473dba9",
   "metadata": {},
   "outputs": [],
   "source": [
    "# Importing Chromedriver\n",
    "driver=webdriver.Chrome(r'\"C:\\Users\\amits\\Desktop\\chromedriver_win32\\chromedriver.exe\"')"
   ]
  },
  {
   "cell_type": "code",
   "execution_count": 8,
   "id": "4c423b43",
   "metadata": {},
   "outputs": [],
   "source": [
    "# maximizing window\n",
    "driver.maximize_window()  "
   ]
  },
  {
   "cell_type": "code",
   "execution_count": 14,
   "id": "c29d36bf",
   "metadata": {},
   "outputs": [],
   "source": [
    "# opening the web url via automated chrome window.\n",
    "url='https://www.naukri.com'\n",
    "driver.get(url)"
   ]
  },
  {
   "cell_type": "code",
   "execution_count": 15,
   "id": "a5a28045",
   "metadata": {},
   "outputs": [],
   "source": [
    "# find web element for search job bar.\n",
    "search=driver.find_element(By.CLASS_NAME,\"suggestor-input\")\n",
    "search.send_keys(\"Web Development\")"
   ]
  },
  {
   "cell_type": "code",
   "execution_count": 16,
   "id": "322feb9b",
   "metadata": {},
   "outputs": [],
   "source": [
    "#finding web element for the loction bar.\n",
    "search_loc=driver.find_element(By.XPATH,'/html/body/div[1]/div[6]/div/div/div[5]/div/div/div/input')\n",
    "search_loc.send_keys(\"Hyderabad\")"
   ]
  },
  {
   "cell_type": "code",
   "execution_count": 17,
   "id": "9ac8e410",
   "metadata": {},
   "outputs": [],
   "source": [
    "Search_butn=driver.find_element(By.CLASS_NAME,\"qsbSubmit\")\n",
    "Search_butn.click()"
   ]
  },
  {
   "cell_type": "code",
   "execution_count": 19,
   "id": "455e3af2",
   "metadata": {},
   "outputs": [
    {
     "data": {
      "text/plain": [
       "20"
      ]
     },
     "execution_count": 19,
     "metadata": {},
     "output_type": "execute_result"
    }
   ],
   "source": [
    "# Extacting all the web element having job titles.\n",
    "job_titles=[]\n",
    "title_tags= driver.find_elements(By.XPATH,\"//a[@class='title fw500 ellipsis']\")\n",
    "for i in title_tags:\n",
    "    job_titles.append(i.text)\n",
    "len(job_titles)# checking the length of job title"
   ]
  },
  {
   "cell_type": "code",
   "execution_count": 22,
   "id": "2721d768",
   "metadata": {},
   "outputs": [
    {
     "data": {
      "text/plain": [
       "['Full Stack Web Development Internship',\n",
       " 'Web Development',\n",
       " 'Project Manager Web design and Development',\n",
       " 'BUSINESS DEVELOPMENT MANAGER - WEB DESIGNING',\n",
       " 'Software Development Engineer - Amazon Web Services',\n",
       " 'Full Stack Developer - Web Apps - React.js/Node.js/Javascript',\n",
       " 'Full Stack Developer - Web Apps - React.js/Node.js/JavaScript',\n",
       " 'Full Stack Developer - Web Apps - React.js/Node.js/JavaScript',\n",
       " 'Web Developer',\n",
       " 'Senior Full Stack Web Developer (MERN Stack - ReactJS, Typescript and',\n",
       " 'ArcGIS JavaScript Developer - Responsive Web Application Interface',\n",
       " 'Dot Net Full Stack Development Application Developer',\n",
       " 'Dot Net Full Stack Development Application Developer',\n",
       " 'React Native Developer - Frontend Web & Mobile App Components',\n",
       " 'Senior Ui Web Developer',\n",
       " 'Web Developer || Hybrid model || Angular || C# || Hyderabad & Gurgaon',\n",
       " 'Web Developer || Hybrid model || Angular || C# || Hyderabad & Gurgaon',\n",
       " 'Frontend Web Developer - UI Platform - HTML/CSS',\n",
       " 'Full Stack Web Developer',\n",
       " 'Senior Web/UI Developer - Health Tech Startup']"
      ]
     },
     "execution_count": 22,
     "metadata": {},
     "output_type": "execute_result"
    }
   ],
   "source": [
    "job_titles # Scrapping all the  20 job detail"
   ]
  },
  {
   "cell_type": "code",
   "execution_count": 25,
   "id": "74fbcff8",
   "metadata": {},
   "outputs": [
    {
     "data": {
      "text/plain": [
       "['Hyderabad/Secunderabad',\n",
       " 'Hyderabad/Secunderabad',\n",
       " 'Hyderabad',\n",
       " 'Hyderabad',\n",
       " 'Hybrid - Hyderabad/Secunderabad, Bangalore/Bengaluru, Delhi / NCR, Mumbai (All Areas)',\n",
       " 'Hyderabad/Secunderabad, Mumbai, Pune, Delhi / NCR, Bangalore/Bengaluru',\n",
       " 'Hyderabad/Secunderabad, Kolkata, Mumbai, Pune, Chennai, Ahmedabad, Delhi / NCR, Bangalore/Bengaluru',\n",
       " 'Hyderabad/Secunderabad, Kolkata, Mumbai, Lucknow, Chennai, Ahmedabad, Delhi / NCR, Bangalore/Bengaluru',\n",
       " 'Hyderabad/Secunderabad',\n",
       " 'Hyderabad/Secunderabad',\n",
       " 'Temp. WFH - Hyderabad/Secunderabad, Kolkata, Mumbai, Lucknow, Ahmedabad, Chennai, Bangalore/Bengaluru, Delhi / NCR',\n",
       " 'Hyderabad/Secunderabad',\n",
       " 'Hyderabad/Secunderabad',\n",
       " 'Hyderabad/Secunderabad, Noida, Pune, Gurgaon/Gurugram, Bangalore/Bengaluru',\n",
       " 'Hyderabad/Secunderabad',\n",
       " 'Hyderabad/Secunderabad, Gurgaon/Gurugram, Delhi / NCR',\n",
       " 'Hyderabad/Secunderabad, Gurgaon/Gurugram, Delhi / NCR',\n",
       " 'Hyderabad/Secunderabad, Kolkata, Mumbai, Pune, Chennai, Bangalore/Bengaluru',\n",
       " 'Temp. WFH - Hyderabad/Secunderabad, Pune, Chennai',\n",
       " 'Hyderabad/Secunderabad, Kolkata, Mumbai, Pune, Chennai, Bangalore/Bengaluru']"
      ]
     },
     "execution_count": 25,
     "metadata": {},
     "output_type": "execute_result"
    }
   ],
   "source": [
    "# Extracting all web elements having company Names\n",
    "job_location=[]\n",
    "location_tags=driver.find_elements(By.XPATH,\"//span[@class='ellipsis fleft fs12 lh16 locWdth']\")\n",
    "for i in location_tags:\n",
    "    job_location.append(i.text)\n",
    "    \n",
    "job_location"
   ]
  },
  {
   "cell_type": "code",
   "execution_count": 26,
   "id": "d5258a95",
   "metadata": {},
   "outputs": [
    {
     "data": {
      "text/plain": [
       "['Freshprints',\n",
       " 'Abbigale Cloud Services',\n",
       " 'Inovies Consulting Pvt Ltd',\n",
       " 'Zoronix Technologies',\n",
       " 'Amazon ',\n",
       " 'Bondburry Recruitment',\n",
       " 'Bondburry Recruitment',\n",
       " 'Bondburry Recruitment Pvt Ltd',\n",
       " 'Turbomodus',\n",
       " 'M/S SADGURU INFORMATION SYSTEMS PVT LTD',\n",
       " 'Serving Skill',\n",
       " 'Accenture',\n",
       " 'Accenture',\n",
       " 'Axtria India Pvt. Ltd.',\n",
       " 'Lab2100 Digital Solutions',\n",
       " 'O3 Hire',\n",
       " 'O3 Hire',\n",
       " 'HyrEzy Talent Solutions',\n",
       " 'Fintech Infosystems',\n",
       " 'HyrEzy Talent Solutions']"
      ]
     },
     "execution_count": 26,
     "metadata": {},
     "output_type": "execute_result"
    }
   ],
   "source": [
    "#Lets extract all web elements having company Names\n",
    "company_name=[]\n",
    "company_tags=driver.find_elements(By.XPATH,\"//a[@class='subTitle ellipsis fleft']\")\n",
    "for i in company_tags:\n",
    "    company_name.append(i.text)\n",
    "    \n",
    "company_name"
   ]
  },
  {
   "cell_type": "code",
   "execution_count": 27,
   "id": "e9e8cd1f",
   "metadata": {},
   "outputs": [
    {
     "data": {
      "text/plain": [
       "['0-1 Yrs',\n",
       " '2-5 Yrs',\n",
       " '5-9 Yrs',\n",
       " '2-5 Yrs',\n",
       " '4-9 Yrs',\n",
       " '3-5 Yrs',\n",
       " '3-5 Yrs',\n",
       " '3-5 Yrs',\n",
       " '0-3 Yrs',\n",
       " '4-7 Yrs',\n",
       " '3-8 Yrs',\n",
       " '4-6 Yrs',\n",
       " '4-6 Yrs',\n",
       " '3-6 Yrs',\n",
       " '7-12 Yrs',\n",
       " '3-8 Yrs',\n",
       " '3-8 Yrs',\n",
       " '3-6 Yrs',\n",
       " '0-2 Yrs',\n",
       " '3-5 Yrs']"
      ]
     },
     "execution_count": 27,
     "metadata": {},
     "output_type": "execute_result"
    }
   ],
   "source": [
    "#Extrating all the web elements having Work Experienced\n",
    "Work_Experience=[]\n",
    "exp_tags=driver.find_elements(By.XPATH,\"//span[@class='ellipsis fleft fs12 lh16 expwdth']\")\n",
    "for i in exp_tags:\n",
    "    Work_Experience.append(i.text)\n",
    "    \n",
    "Work_Experience"
   ]
  },
  {
   "cell_type": "code",
   "execution_count": 29,
   "id": "cbae05f6",
   "metadata": {},
   "outputs": [
    {
     "name": "stdout",
     "output_type": "stream",
     "text": [
      "20 20 20 20\n"
     ]
    }
   ],
   "source": [
    "#Checking the length of all th fields. \n",
    "print(len(job_titles),len(job_location),len(company_name),len(Work_Experience))"
   ]
  },
  {
   "cell_type": "code",
   "execution_count": 30,
   "id": "ff60ad54",
   "metadata": {},
   "outputs": [],
   "source": [
    "#Creating DataFrame of all reqired feild while Scapping the site.\n",
    "Naukri=pd.DataFrame({\"Job Titles\":job_titles,\"Company Name\":company_name,\"Location Of Job\":job_location,\"Experienced Required\":Work_Experience})"
   ]
  },
  {
   "cell_type": "code",
   "execution_count": 31,
   "id": "08cab57e",
   "metadata": {},
   "outputs": [
    {
     "data": {
      "text/html": [
       "<div>\n",
       "<style scoped>\n",
       "    .dataframe tbody tr th:only-of-type {\n",
       "        vertical-align: middle;\n",
       "    }\n",
       "\n",
       "    .dataframe tbody tr th {\n",
       "        vertical-align: top;\n",
       "    }\n",
       "\n",
       "    .dataframe thead th {\n",
       "        text-align: right;\n",
       "    }\n",
       "</style>\n",
       "<table border=\"1\" class=\"dataframe\">\n",
       "  <thead>\n",
       "    <tr style=\"text-align: right;\">\n",
       "      <th></th>\n",
       "      <th>Job Titles</th>\n",
       "      <th>Company Name</th>\n",
       "      <th>Location Of Job</th>\n",
       "      <th>Experienced Required</th>\n",
       "    </tr>\n",
       "  </thead>\n",
       "  <tbody>\n",
       "    <tr>\n",
       "      <th>0</th>\n",
       "      <td>Full Stack Web Development Internship</td>\n",
       "      <td>Freshprints</td>\n",
       "      <td>Hyderabad/Secunderabad</td>\n",
       "      <td>0-1 Yrs</td>\n",
       "    </tr>\n",
       "    <tr>\n",
       "      <th>1</th>\n",
       "      <td>Web Development</td>\n",
       "      <td>Abbigale Cloud Services</td>\n",
       "      <td>Hyderabad/Secunderabad</td>\n",
       "      <td>2-5 Yrs</td>\n",
       "    </tr>\n",
       "    <tr>\n",
       "      <th>2</th>\n",
       "      <td>Project Manager Web design and Development</td>\n",
       "      <td>Inovies Consulting Pvt Ltd</td>\n",
       "      <td>Hyderabad</td>\n",
       "      <td>5-9 Yrs</td>\n",
       "    </tr>\n",
       "    <tr>\n",
       "      <th>3</th>\n",
       "      <td>BUSINESS DEVELOPMENT MANAGER - WEB DESIGNING</td>\n",
       "      <td>Zoronix Technologies</td>\n",
       "      <td>Hyderabad</td>\n",
       "      <td>2-5 Yrs</td>\n",
       "    </tr>\n",
       "    <tr>\n",
       "      <th>4</th>\n",
       "      <td>Software Development Engineer - Amazon Web Ser...</td>\n",
       "      <td>Amazon</td>\n",
       "      <td>Hybrid - Hyderabad/Secunderabad, Bangalore/Ben...</td>\n",
       "      <td>4-9 Yrs</td>\n",
       "    </tr>\n",
       "    <tr>\n",
       "      <th>5</th>\n",
       "      <td>Full Stack Developer - Web Apps - React.js/Nod...</td>\n",
       "      <td>Bondburry Recruitment</td>\n",
       "      <td>Hyderabad/Secunderabad, Mumbai, Pune, Delhi / ...</td>\n",
       "      <td>3-5 Yrs</td>\n",
       "    </tr>\n",
       "    <tr>\n",
       "      <th>6</th>\n",
       "      <td>Full Stack Developer - Web Apps - React.js/Nod...</td>\n",
       "      <td>Bondburry Recruitment</td>\n",
       "      <td>Hyderabad/Secunderabad, Kolkata, Mumbai, Pune,...</td>\n",
       "      <td>3-5 Yrs</td>\n",
       "    </tr>\n",
       "    <tr>\n",
       "      <th>7</th>\n",
       "      <td>Full Stack Developer - Web Apps - React.js/Nod...</td>\n",
       "      <td>Bondburry Recruitment Pvt Ltd</td>\n",
       "      <td>Hyderabad/Secunderabad, Kolkata, Mumbai, Luckn...</td>\n",
       "      <td>3-5 Yrs</td>\n",
       "    </tr>\n",
       "    <tr>\n",
       "      <th>8</th>\n",
       "      <td>Web Developer</td>\n",
       "      <td>Turbomodus</td>\n",
       "      <td>Hyderabad/Secunderabad</td>\n",
       "      <td>0-3 Yrs</td>\n",
       "    </tr>\n",
       "    <tr>\n",
       "      <th>9</th>\n",
       "      <td>Senior Full Stack Web Developer (MERN Stack - ...</td>\n",
       "      <td>M/S SADGURU INFORMATION SYSTEMS PVT LTD</td>\n",
       "      <td>Hyderabad/Secunderabad</td>\n",
       "      <td>4-7 Yrs</td>\n",
       "    </tr>\n",
       "    <tr>\n",
       "      <th>10</th>\n",
       "      <td>ArcGIS JavaScript Developer - Responsive Web A...</td>\n",
       "      <td>Serving Skill</td>\n",
       "      <td>Temp. WFH - Hyderabad/Secunderabad, Kolkata, M...</td>\n",
       "      <td>3-8 Yrs</td>\n",
       "    </tr>\n",
       "    <tr>\n",
       "      <th>11</th>\n",
       "      <td>Dot Net Full Stack Development Application Dev...</td>\n",
       "      <td>Accenture</td>\n",
       "      <td>Hyderabad/Secunderabad</td>\n",
       "      <td>4-6 Yrs</td>\n",
       "    </tr>\n",
       "    <tr>\n",
       "      <th>12</th>\n",
       "      <td>Dot Net Full Stack Development Application Dev...</td>\n",
       "      <td>Accenture</td>\n",
       "      <td>Hyderabad/Secunderabad</td>\n",
       "      <td>4-6 Yrs</td>\n",
       "    </tr>\n",
       "    <tr>\n",
       "      <th>13</th>\n",
       "      <td>React Native Developer - Frontend Web &amp; Mobile...</td>\n",
       "      <td>Axtria India Pvt. Ltd.</td>\n",
       "      <td>Hyderabad/Secunderabad, Noida, Pune, Gurgaon/G...</td>\n",
       "      <td>3-6 Yrs</td>\n",
       "    </tr>\n",
       "    <tr>\n",
       "      <th>14</th>\n",
       "      <td>Senior Ui Web Developer</td>\n",
       "      <td>Lab2100 Digital Solutions</td>\n",
       "      <td>Hyderabad/Secunderabad</td>\n",
       "      <td>7-12 Yrs</td>\n",
       "    </tr>\n",
       "    <tr>\n",
       "      <th>15</th>\n",
       "      <td>Web Developer || Hybrid model || Angular || C#...</td>\n",
       "      <td>O3 Hire</td>\n",
       "      <td>Hyderabad/Secunderabad, Gurgaon/Gurugram, Delh...</td>\n",
       "      <td>3-8 Yrs</td>\n",
       "    </tr>\n",
       "    <tr>\n",
       "      <th>16</th>\n",
       "      <td>Web Developer || Hybrid model || Angular || C#...</td>\n",
       "      <td>O3 Hire</td>\n",
       "      <td>Hyderabad/Secunderabad, Gurgaon/Gurugram, Delh...</td>\n",
       "      <td>3-8 Yrs</td>\n",
       "    </tr>\n",
       "    <tr>\n",
       "      <th>17</th>\n",
       "      <td>Frontend Web Developer - UI Platform - HTML/CSS</td>\n",
       "      <td>HyrEzy Talent Solutions</td>\n",
       "      <td>Hyderabad/Secunderabad, Kolkata, Mumbai, Pune,...</td>\n",
       "      <td>3-6 Yrs</td>\n",
       "    </tr>\n",
       "    <tr>\n",
       "      <th>18</th>\n",
       "      <td>Full Stack Web Developer</td>\n",
       "      <td>Fintech Infosystems</td>\n",
       "      <td>Temp. WFH - Hyderabad/Secunderabad, Pune, Chennai</td>\n",
       "      <td>0-2 Yrs</td>\n",
       "    </tr>\n",
       "    <tr>\n",
       "      <th>19</th>\n",
       "      <td>Senior Web/UI Developer - Health Tech Startup</td>\n",
       "      <td>HyrEzy Talent Solutions</td>\n",
       "      <td>Hyderabad/Secunderabad, Kolkata, Mumbai, Pune,...</td>\n",
       "      <td>3-5 Yrs</td>\n",
       "    </tr>\n",
       "  </tbody>\n",
       "</table>\n",
       "</div>"
      ],
      "text/plain": [
       "                                           Job Titles  \\\n",
       "0               Full Stack Web Development Internship   \n",
       "1                                     Web Development   \n",
       "2          Project Manager Web design and Development   \n",
       "3        BUSINESS DEVELOPMENT MANAGER - WEB DESIGNING   \n",
       "4   Software Development Engineer - Amazon Web Ser...   \n",
       "5   Full Stack Developer - Web Apps - React.js/Nod...   \n",
       "6   Full Stack Developer - Web Apps - React.js/Nod...   \n",
       "7   Full Stack Developer - Web Apps - React.js/Nod...   \n",
       "8                                       Web Developer   \n",
       "9   Senior Full Stack Web Developer (MERN Stack - ...   \n",
       "10  ArcGIS JavaScript Developer - Responsive Web A...   \n",
       "11  Dot Net Full Stack Development Application Dev...   \n",
       "12  Dot Net Full Stack Development Application Dev...   \n",
       "13  React Native Developer - Frontend Web & Mobile...   \n",
       "14                            Senior Ui Web Developer   \n",
       "15  Web Developer || Hybrid model || Angular || C#...   \n",
       "16  Web Developer || Hybrid model || Angular || C#...   \n",
       "17    Frontend Web Developer - UI Platform - HTML/CSS   \n",
       "18                           Full Stack Web Developer   \n",
       "19      Senior Web/UI Developer - Health Tech Startup   \n",
       "\n",
       "                               Company Name  \\\n",
       "0                               Freshprints   \n",
       "1                   Abbigale Cloud Services   \n",
       "2                Inovies Consulting Pvt Ltd   \n",
       "3                      Zoronix Technologies   \n",
       "4                                   Amazon    \n",
       "5                     Bondburry Recruitment   \n",
       "6                     Bondburry Recruitment   \n",
       "7             Bondburry Recruitment Pvt Ltd   \n",
       "8                                Turbomodus   \n",
       "9   M/S SADGURU INFORMATION SYSTEMS PVT LTD   \n",
       "10                            Serving Skill   \n",
       "11                                Accenture   \n",
       "12                                Accenture   \n",
       "13                   Axtria India Pvt. Ltd.   \n",
       "14                Lab2100 Digital Solutions   \n",
       "15                                  O3 Hire   \n",
       "16                                  O3 Hire   \n",
       "17                  HyrEzy Talent Solutions   \n",
       "18                      Fintech Infosystems   \n",
       "19                  HyrEzy Talent Solutions   \n",
       "\n",
       "                                      Location Of Job Experienced Required  \n",
       "0                              Hyderabad/Secunderabad              0-1 Yrs  \n",
       "1                              Hyderabad/Secunderabad              2-5 Yrs  \n",
       "2                                           Hyderabad              5-9 Yrs  \n",
       "3                                           Hyderabad              2-5 Yrs  \n",
       "4   Hybrid - Hyderabad/Secunderabad, Bangalore/Ben...              4-9 Yrs  \n",
       "5   Hyderabad/Secunderabad, Mumbai, Pune, Delhi / ...              3-5 Yrs  \n",
       "6   Hyderabad/Secunderabad, Kolkata, Mumbai, Pune,...              3-5 Yrs  \n",
       "7   Hyderabad/Secunderabad, Kolkata, Mumbai, Luckn...              3-5 Yrs  \n",
       "8                              Hyderabad/Secunderabad              0-3 Yrs  \n",
       "9                              Hyderabad/Secunderabad              4-7 Yrs  \n",
       "10  Temp. WFH - Hyderabad/Secunderabad, Kolkata, M...              3-8 Yrs  \n",
       "11                             Hyderabad/Secunderabad              4-6 Yrs  \n",
       "12                             Hyderabad/Secunderabad              4-6 Yrs  \n",
       "13  Hyderabad/Secunderabad, Noida, Pune, Gurgaon/G...              3-6 Yrs  \n",
       "14                             Hyderabad/Secunderabad             7-12 Yrs  \n",
       "15  Hyderabad/Secunderabad, Gurgaon/Gurugram, Delh...              3-8 Yrs  \n",
       "16  Hyderabad/Secunderabad, Gurgaon/Gurugram, Delh...              3-8 Yrs  \n",
       "17  Hyderabad/Secunderabad, Kolkata, Mumbai, Pune,...              3-6 Yrs  \n",
       "18  Temp. WFH - Hyderabad/Secunderabad, Pune, Chennai              0-2 Yrs  \n",
       "19  Hyderabad/Secunderabad, Kolkata, Mumbai, Pune,...              3-5 Yrs  "
      ]
     },
     "execution_count": 31,
     "metadata": {},
     "output_type": "execute_result"
    }
   ],
   "source": [
    "Naukri"
   ]
  },
  {
   "cell_type": "code",
   "execution_count": null,
   "id": "6c7e6aee",
   "metadata": {},
   "outputs": [],
   "source": []
  }
 ],
 "metadata": {
  "kernelspec": {
   "display_name": "Python 3 (ipykernel)",
   "language": "python",
   "name": "python3"
  },
  "language_info": {
   "codemirror_mode": {
    "name": "ipython",
    "version": 3
   },
   "file_extension": ".py",
   "mimetype": "text/x-python",
   "name": "python",
   "nbconvert_exporter": "python",
   "pygments_lexer": "ipython3",
   "version": "3.9.12"
  }
 },
 "nbformat": 4,
 "nbformat_minor": 5
}
