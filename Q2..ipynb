{
 "cells": [
  {
   "cell_type": "code",
   "execution_count": 1,
   "id": "33c434e8",
   "metadata": {},
   "outputs": [],
   "source": [
    "#Importing important library.\n",
    "import selenium\n",
    "from selenium import webdriver\n",
    "import pandas as pd\n",
    "from selenium.webdriver.common.by import By\n",
    "import warnings\n",
    "warnings.filterwarnings(\"ignore\")\n",
    "import time\n",
    "from bs4 import BeautifulSoup#Importing Chrome-webriver\n"
   ]
  },
  {
   "cell_type": "code",
   "execution_count": 2,
   "id": "521ae520",
   "metadata": {},
   "outputs": [],
   "source": [
    "#Importing Chrome-webriver\n",
    "driver=webdriver.Chrome(r'\"C:\\Users\\amits\\Desktop\\chromedriver_win32\\chromedriver.exe\"')"
   ]
  },
  {
   "cell_type": "code",
   "execution_count": 3,
   "id": "6ac00c88",
   "metadata": {},
   "outputs": [],
   "source": [
    "#Maximazing windows\n",
    "driver.maximize_window()"
   ]
  },
  {
   "cell_type": "code",
   "execution_count": 4,
   "id": "7133d34e",
   "metadata": {},
   "outputs": [],
   "source": [
    "#Opening Amazon Website\n",
    "url='https://www.amazon.in'\n",
    "driver.get(url)"
   ]
  },
  {
   "cell_type": "code",
   "execution_count": 5,
   "id": "a8490b1d",
   "metadata": {},
   "outputs": [],
   "source": [
    "#Search Desired Content.\n",
    "serch_box=driver.find_element(By.ID,'twotabsearchtextbox').send_keys('Dell laptops under 50k')\n"
   ]
  },
  {
   "cell_type": "code",
   "execution_count": 6,
   "id": "46b85d47",
   "metadata": {},
   "outputs": [],
   "source": [
    "srch_btn=driver.find_element(By.ID,'nav-search-submit-button').click()"
   ]
  },
  {
   "cell_type": "code",
   "execution_count": 7,
   "id": "0099e089",
   "metadata": {},
   "outputs": [],
   "source": [
    "#wait\n",
    "driver.implicitly_wait(5)"
   ]
  },
  {
   "cell_type": "code",
   "execution_count": 8,
   "id": "13b1e144",
   "metadata": {},
   "outputs": [],
   "source": [
    "#As per Brand Need\n",
    "driver.find_element(By.XPATH,\"//span[text()='Dell']\").click()"
   ]
  },
  {
   "cell_type": "code",
   "execution_count": 9,
   "id": "7b67bf51",
   "metadata": {},
   "outputs": [],
   "source": [
    "#Getting Product Name\n",
    "Product_Name=[]\n",
    "Name=driver.find_elements(By.XPATH,\"//span[@class='a-size-medium a-color-base a-text-normal']\")\n",
    "for i in Name:\n",
    "    Product_Name.append(i.text)\n",
    "\n",
    "    time.sleep(3)"
   ]
  },
  {
   "cell_type": "code",
   "execution_count": 40,
   "id": "bd99b6fb",
   "metadata": {},
   "outputs": [],
   "source": [
    "Product_Name.append('Nan') #appending some none value to fulfil criteria of DataFrame."
   ]
  },
  {
   "cell_type": "code",
   "execution_count": 41,
   "id": "13eec9c6",
   "metadata": {},
   "outputs": [
    {
     "data": {
      "text/plain": [
       "30"
      ]
     },
     "execution_count": 41,
     "metadata": {},
     "output_type": "execute_result"
    }
   ],
   "source": [
    "len(Product_Name)"
   ]
  },
  {
   "cell_type": "code",
   "execution_count": 11,
   "id": "143766ef",
   "metadata": {},
   "outputs": [],
   "source": [
    "driver.implicitly_wait(10)# waiting"
   ]
  },
  {
   "cell_type": "code",
   "execution_count": 12,
   "id": "0fdfabc6",
   "metadata": {},
   "outputs": [],
   "source": [
    "#Scrapping the Price of the Products>\n",
    "Price=[]\n",
    "Name=driver.find_elements(By.XPATH,\"//span[@class='a-price-whole']\")\n",
    "    \n",
    "for i in Name:\n",
    "    Price.append(i.text)\n",
    "    time.sleep(3)"
   ]
  },
  {
   "cell_type": "code",
   "execution_count": 32,
   "id": "d200437a",
   "metadata": {},
   "outputs": [
    {
     "name": "stdout",
     "output_type": "stream",
     "text": [
      "-\n"
     ]
    }
   ],
   "source": [
    "p=print(\"-\")\n",
    "Price.append('NaN')      #Appending  some nan value again"
   ]
  },
  {
   "cell_type": "code",
   "execution_count": 33,
   "id": "756c0e14",
   "metadata": {},
   "outputs": [
    {
     "data": {
      "text/plain": [
       "30"
      ]
     },
     "execution_count": 33,
     "metadata": {},
     "output_type": "execute_result"
    }
   ],
   "source": [
    "len(Price)"
   ]
  },
  {
   "cell_type": "code",
   "execution_count": 15,
   "id": "2b80167e",
   "metadata": {},
   "outputs": [],
   "source": [
    "driver.implicitly_wait(20) # have paitence"
   ]
  },
  {
   "cell_type": "code",
   "execution_count": 16,
   "id": "912550a8",
   "metadata": {},
   "outputs": [
    {
     "data": {
      "text/plain": [
       "0"
      ]
     },
     "execution_count": 16,
     "metadata": {},
     "output_type": "execute_result"
    }
   ],
   "source": [
    "Expected_Delivery=[]  # have tried many times Expected delivery always Showed \n",
    "                       # 0 So completed criteria by filling NaN value.\n",
    "\n",
    "Name=driver.find_elements(By.XPATH,\"//span[@class='a-color-base puis-medium-weight-text']\")\n",
    "for i in Name:  \n",
    "    Expected_Delivery.append(i.text)\n",
    "len(Expected_Delivery)"
   ]
  },
  {
   "cell_type": "code",
   "execution_count": 17,
   "id": "1caa12e4",
   "metadata": {},
   "outputs": [
    {
     "name": "stdout",
     "output_type": "stream",
     "text": [
      "-\n"
     ]
    },
    {
     "data": {
      "text/plain": [
       "30"
      ]
     },
     "execution_count": 17,
     "metadata": {},
     "output_type": "execute_result"
    }
   ],
   "source": [
    "D=print('-')\n",
    "Expected_Delivery.append(D)\n",
    "Delivery=Expected_Delivery*30\n",
    "len(Delivery)"
   ]
  },
  {
   "cell_type": "code",
   "execution_count": 18,
   "id": "da1d004c",
   "metadata": {},
   "outputs": [
    {
     "data": {
      "text/plain": [
       "0"
      ]
     },
     "execution_count": 18,
     "metadata": {},
     "output_type": "execute_result"
    }
   ],
   "source": [
    "Available=[]\n",
    "avail=driver.find_elements(By.XPATH,\"//span[@class='a-size-base a-color-success']\")\n",
    "for i in avail:\n",
    "    Available.append(i.text) # availability also showed 0, so have to do the same.\n",
    "    \n",
    "len(Available)"
   ]
  },
  {
   "cell_type": "code",
   "execution_count": 19,
   "id": "6146928d",
   "metadata": {},
   "outputs": [
    {
     "name": "stdout",
     "output_type": "stream",
     "text": [
      "-\n"
     ]
    }
   ],
   "source": [
    "Avail=print('-')\n",
    "Available.append(Avail)\n",
    "Available=Available*30"
   ]
  },
  {
   "cell_type": "code",
   "execution_count": 20,
   "id": "a8f7a023",
   "metadata": {},
   "outputs": [
    {
     "data": {
      "text/plain": [
       "30"
      ]
     },
     "execution_count": 20,
     "metadata": {},
     "output_type": "execute_result"
    }
   ],
   "source": [
    "len(Available)"
   ]
  },
  {
   "cell_type": "code",
   "execution_count": null,
   "id": "4f018e9f",
   "metadata": {},
   "outputs": [],
   "source": []
  },
  {
   "cell_type": "code",
   "execution_count": null,
   "id": "e557e8fd",
   "metadata": {},
   "outputs": [],
   "source": []
  },
  {
   "cell_type": "code",
   "execution_count": 53,
   "id": "b130f023",
   "metadata": {
    "scrolled": false
   },
   "outputs": [
    {
     "name": "stdout",
     "output_type": "stream",
     "text": [
      "https://www.amazon.in/sspa/click?ie=UTF8&spc=MToyNzU2NTgwMzk0NDQyNTQ4OjE2NjkyNzkxOTQ6c3BfYXRmOjIwMDg2OTU1MjM2Nzk4OjowOjo&url=%2FDell-Inspiron-3525-39-62Cms-D560789WIN9S%2Fdp%2FB0BB7CDCYS%2Fref%3Dsr_1_1_sspa%3Fcrid%3D3M03ZDF8VH1NJ%26keywords%3DDell%2Blaptops%2Bunder%2B50k%26qid%3D1669279194%26qu%3DeyJxc2MiOiIzLjM3IiwicXNhIjoiMS4wMCIsInFzcCI6IjAuMDAifQ%253D%253D%26refinements%3Dp_89%253ADell%26rnid%3D3837712031%26s%3Dcomputers%26sprefix%3D%252Caps%252C208%26sr%3D1-1-spons%26sp_csd%3Dd2lkZ2V0TmFtZT1zcF9hdGY%26psc%3D1\n",
      "https://www.amazon.in/sspa/click?ie=UTF8&spc=MToyNzU2NTgwMzk0NDQyNTQ4OjE2NjkyNzkxOTQ6c3BfYXRmOjIwMDk2NjI1NDk4ODk4OjowOjo&url=%2FDell-5-3450U-Platinum-D560713Win9S-Inspiron%2Fdp%2FB09PVCQ7RC%2Fref%3Dsr_1_2_sspa%3Fcrid%3D3M03ZDF8VH1NJ%26keywords%3DDell%2Blaptops%2Bunder%2B50k%26qid%3D1669279194%26qu%3DeyJxc2MiOiIzLjM3IiwicXNhIjoiMS4wMCIsInFzcCI6IjAuMDAifQ%253D%253D%26refinements%3Dp_89%253ADell%26rnid%3D3837712031%26s%3Dcomputers%26sprefix%3D%252Caps%252C208%26sr%3D1-2-spons%26sp_csd%3Dd2lkZ2V0TmFtZT1zcF9hdGY%26psc%3D1%26smid%3DA1XQ7OTKA85S11\n",
      "https://www.amazon.in/Dell-Inspiron-i3-11th-Windows-Warranty/dp/B09J1PMVQZ/ref=sr_1_3?crid=3M03ZDF8VH1NJ&keywords=Dell+laptops+under+50k&qid=1669279194&qu=eyJxc2MiOiIzLjM3IiwicXNhIjoiMS4wMCIsInFzcCI6IjAuMDAifQ%3D%3D&refinements=p_89%3ADell&rnid=3837712031&s=computers&sprefix=%2Caps%2C208&sr=1-3\n",
      "https://www.amazon.in/Dell-Vostro-3420-Laptop-D552276WIN9BE/dp/B0B46CJ21J/ref=sr_1_4?crid=3M03ZDF8VH1NJ&keywords=Dell+laptops+under+50k&qid=1669279194&qu=eyJxc2MiOiIzLjM3IiwicXNhIjoiMS4wMCIsInFzcCI6IjAuMDAifQ%3D%3D&refinements=p_89%3ADell&rnid=3837712031&s=computers&sprefix=%2Caps%2C208&sr=1-4\n",
      "https://www.amazon.in/Dell-Inspiron-Graphics-Anti-Glare-D560766Win9Be/dp/B09TNWYR3Q/ref=sr_1_5?crid=3M03ZDF8VH1NJ&keywords=Dell+laptops+under+50k&qid=1669279194&qu=eyJxc2MiOiIzLjM3IiwicXNhIjoiMS4wMCIsInFzcCI6IjAuMDAifQ%3D%3D&refinements=p_89%3ADell&rnid=3837712031&s=computers&sprefix=%2Caps%2C208&sr=1-5\n",
      "https://www.amazon.in/Renewed-Dell-Latitude-Laptop-E5470/dp/B094CBQ32N/ref=sr_1_6?crid=3M03ZDF8VH1NJ&keywords=Dell+laptops+under+50k&qid=1669279194&qu=eyJxc2MiOiIzLjM3IiwicXNhIjoiMS4wMCIsInFzcCI6IjAuMDAifQ%3D%3D&refinements=p_89%3ADell&rnid=3837712031&s=computers&sprefix=%2Caps%2C208&sr=1-6\n",
      "https://www.amazon.in/Dell-Office21-Graphics-3515-D560704WIN9S/dp/B09NLSTF5Z/ref=sr_1_7?crid=3M03ZDF8VH1NJ&keywords=Dell+laptops+under+50k&qid=1669279194&qu=eyJxc2MiOiIzLjM3IiwicXNhIjoiMS4wMCIsInFzcCI6IjAuMDAifQ%3D%3D&refinements=p_89%3ADell&rnid=3837712031&s=computers&sprefix=%2Caps%2C208&sr=1-7\n",
      "https://www.amazon.in/Dell-Inspiron-3511-i3-1115G4-D560842WIN9B/dp/B0BB7FQBBS/ref=sr_1_8?crid=3M03ZDF8VH1NJ&keywords=Dell+laptops+under+50k&qid=1669279194&qu=eyJxc2MiOiIzLjM3IiwicXNhIjoiMS4wMCIsInFzcCI6IjAuMDAifQ%3D%3D&refinements=p_89%3ADell&rnid=3837712031&s=computers&sprefix=%2Caps%2C208&sr=1-8\n",
      "https://www.amazon.in/Dell-I5-1135G7-Office21-35-56Cms-D552256Win9B/dp/B09TNXYK56/ref=sr_1_9?crid=3M03ZDF8VH1NJ&keywords=Dell+laptops+under+50k&qid=1669279194&qu=eyJxc2MiOiIzLjM3IiwicXNhIjoiMS4wMCIsInFzcCI6IjAuMDAifQ%3D%3D&refinements=p_89%3ADell&rnid=3837712031&s=computers&sprefix=%2Caps%2C208&sr=1-9\n",
      "https://www.amazon.in/Dell-Inspiron-Windows-i3-1115G4-39-62Cms/dp/B0B468SB8G/ref=sr_1_10?crid=3M03ZDF8VH1NJ&keywords=Dell+laptops+under+50k&qid=1669279194&qu=eyJxc2MiOiIzLjM3IiwicXNhIjoiMS4wMCIsInFzcCI6IjAuMDAifQ%3D%3D&refinements=p_89%3ADell&rnid=3837712031&s=computers&sprefix=%2Caps%2C208&sr=1-10\n",
      "https://www.amazon.in/Dell-Inspiron-I3-1115G4-Office21-D560749Win9S/dp/B09TNZCPJY/ref=sr_1_11?crid=3M03ZDF8VH1NJ&keywords=Dell+laptops+under+50k&qid=1669279194&qu=eyJxc2MiOiIzLjM3IiwicXNhIjoiMS4wMCIsInFzcCI6IjAuMDAifQ%3D%3D&refinements=p_89%3ADell&rnid=3837712031&s=computers&sprefix=%2Caps%2C208&sr=1-11\n",
      "https://www.amazon.in/Dell-1135G7-Graphics-Windows-Backlit/dp/B09T5SJ4DP/ref=sr_1_12?crid=3M03ZDF8VH1NJ&keywords=Dell+laptops+under+50k&qid=1669279194&qu=eyJxc2MiOiIzLjM3IiwicXNhIjoiMS4wMCIsInFzcCI6IjAuMDAifQ%3D%3D&refinements=p_89%3ADell&rnid=3837712031&s=computers&sprefix=%2Caps%2C208&sr=1-12\n",
      "https://www.amazon.in/Dell-Inspiron-3501-i5-1135G7-Graphics/dp/B08QCKPLZX/ref=sr_1_13?crid=3M03ZDF8VH1NJ&keywords=Dell+laptops+under+50k&qid=1669279194&qu=eyJxc2MiOiIzLjM3IiwicXNhIjoiMS4wMCIsInFzcCI6IjAuMDAifQ%3D%3D&refinements=p_89%3ADell&rnid=3837712031&s=computers&sprefix=%2Caps%2C208&sr=1-13\n",
      "https://www.amazon.in/Dell-Inspiron-i3-11th-Pendrive-Warranty/dp/B09F5KMH9L/ref=sr_1_14?crid=3M03ZDF8VH1NJ&keywords=Dell+laptops+under+50k&qid=1669279194&qu=eyJxc2MiOiIzLjM3IiwicXNhIjoiMS4wMCIsInFzcCI6IjAuMDAifQ%3D%3D&refinements=p_89%3ADell&rnid=3837712031&s=computers&sprefix=%2Caps%2C208&sr=1-14\n",
      "https://www.amazon.in/sspa/click?ie=UTF8&spc=MToyNzU2NTgwMzk0NDQyNTQ4OjE2NjkyNzkxOTQ6c3BfbXRmOjIwMDkxNTkxNTI3Njk4OjowOjo&url=%2FRenewed-Dell-Latitude-Laptop-E3490%2Fdp%2FB0BDFL9RC2%2Fref%3Dsr_1_15_sspa%3Fcrid%3D3M03ZDF8VH1NJ%26keywords%3DDell%2Blaptops%2Bunder%2B50k%26qid%3D1669279194%26qu%3DeyJxc2MiOiIzLjM3IiwicXNhIjoiMS4wMCIsInFzcCI6IjAuMDAifQ%253D%253D%26refinements%3Dp_89%253ADell%26rnid%3D3837712031%26s%3Dcomputers%26sprefix%3D%252Caps%252C208%26sr%3D1-15-spons%26sp_csd%3Dd2lkZ2V0TmFtZT1zcF9tdGY%26psc%3D1\n",
      "https://www.amazon.in/Dell-I3-1005G1-Office21-39-62Cms-Icc-D585033Win8/dp/B09TNXCZ3T/ref=sr_1_16?crid=3M03ZDF8VH1NJ&keywords=Dell+laptops+under+50k&qid=1669279194&qu=eyJxc2MiOiIzLjM3IiwicXNhIjoiMS4wMCIsInFzcCI6IjAuMDAifQ%3D%3D&refinements=p_89%3ADell&rnid=3837712031&s=computers&sprefix=%2Caps%2C208&sr=1-16\n",
      "https://www.amazon.in/Dell-I5-1135G7-Windows-14%C2%80Inches-D552214Win9D/dp/B09PVCWKQD/ref=sr_1_17?crid=3M03ZDF8VH1NJ&keywords=Dell+laptops+under+50k&qid=1669279194&qu=eyJxc2MiOiIzLjM3IiwicXNhIjoiMS4wMCIsInFzcCI6IjAuMDAifQ%3D%3D&refinements=p_89%3ADell&rnid=3837712031&s=computers&sprefix=%2Caps%2C208&sr=1-17\n",
      "https://www.amazon.in/Dell-Vostro-3425-Windows-35-56Cms/dp/B0B5DQB1P9/ref=sr_1_18?crid=3M03ZDF8VH1NJ&keywords=Dell+laptops+under+50k&qid=1669279194&qu=eyJxc2MiOiIzLjM3IiwicXNhIjoiMS4wMCIsInFzcCI6IjAuMDAifQ%3D%3D&refinements=p_89%3ADell&rnid=3837712031&s=computers&sprefix=%2Caps%2C208&sr=1-18\n",
      "https://www.amazon.in/Dell-35-56cms-i5-1135G7-Integrated-D552157WIN9DE/dp/B08MPWFK22/ref=sr_1_19?crid=3M03ZDF8VH1NJ&keywords=Dell+laptops+under+50k&qid=1669279194&qu=eyJxc2MiOiIzLjM3IiwicXNhIjoiMS4wMCIsInFzcCI6IjAuMDAifQ%3D%3D&refinements=p_89%3ADell&rnid=3837712031&s=computers&sprefix=%2Caps%2C208&sr=1-19\n",
      "https://www.amazon.in/Dell-Inspiron-i5-1235U-39-62Cms-D560871WIN9B/dp/B0BH4SCYQ3/ref=sr_1_20?crid=3M03ZDF8VH1NJ&keywords=Dell+laptops+under+50k&qid=1669279194&qu=eyJxc2MiOiIzLjM3IiwicXNhIjoiMS4wMCIsInFzcCI6IjAuMDAifQ%3D%3D&refinements=p_89%3ADell&rnid=3837712031&s=computers&sprefix=%2Caps%2C208&sr=1-20\n",
      "https://www.amazon.in/Dell-Inspiron-Graphics-Anti-Glare-D560790WIN9BE/dp/B09TNY95RK/ref=sr_1_21?crid=3M03ZDF8VH1NJ&keywords=Dell+laptops+under+50k&qid=1669279194&qu=eyJxc2MiOiIzLjM3IiwicXNhIjoiMS4wMCIsInFzcCI6IjAuMDAifQ%3D%3D&refinements=p_89%3ADell&rnid=3837712031&s=computers&sprefix=%2Caps%2C208&sr=1-21\n",
      "https://www.amazon.in/Dell-Inspiron-3511-i5-1135G7-D560662WIN9BE/dp/B09NLS8HWD/ref=sr_1_22?crid=3M03ZDF8VH1NJ&keywords=Dell+laptops+under+50k&qid=1669279194&qu=eyJxc2MiOiIzLjM3IiwicXNhIjoiMS4wMCIsInFzcCI6IjAuMDAifQ%3D%3D&refinements=p_89%3ADell&rnid=3837712031&s=computers&sprefix=%2Caps%2C208&sr=1-22\n",
      "https://www.amazon.in/Dell-Vostro-i5-1135G7-D552304WIN9DE-1-59Kgs/dp/B0B8HCPT9F/ref=sr_1_23?crid=3M03ZDF8VH1NJ&keywords=Dell+laptops+under+50k&qid=1669279194&qu=eyJxc2MiOiIzLjM3IiwicXNhIjoiMS4wMCIsInFzcCI6IjAuMDAifQ%3D%3D&refinements=p_89%3ADell&rnid=3837712031&s=computers&sprefix=%2Caps%2C208&sr=1-23\n",
      "https://www.amazon.in/Dell-Vostro-3400-Integrated-D552190WIN9BE/dp/B097SZHHLC/ref=sr_1_24?crid=3M03ZDF8VH1NJ&keywords=Dell+laptops+under+50k&qid=1669279194&qu=eyJxc2MiOiIzLjM3IiwicXNhIjoiMS4wMCIsInFzcCI6IjAuMDAifQ%3D%3D&refinements=p_89%3ADell&rnid=3837712031&s=computers&sprefix=%2Caps%2C208&sr=1-24\n",
      "https://www.amazon.in/Dell-I3-1115G4-Platinum-D560656Win9S-Inspiron/dp/B09PVBYWNC/ref=sr_1_25?crid=3M03ZDF8VH1NJ&keywords=Dell+laptops+under+50k&qid=1669279194&qu=eyJxc2MiOiIzLjM3IiwicXNhIjoiMS4wMCIsInFzcCI6IjAuMDAifQ%3D%3D&refinements=p_89%3ADell&rnid=3837712031&s=computers&sprefix=%2Caps%2C208&sr=1-25\n",
      "https://www.amazon.in/Dell-Office21-Inspiron-3515-D560712WIN9S/dp/B09NLSH18N/ref=sr_1_26?crid=3M03ZDF8VH1NJ&keywords=Dell+laptops+under+50k&qid=1669279194&qu=eyJxc2MiOiIzLjM3IiwicXNhIjoiMS4wMCIsInFzcCI6IjAuMDAifQ%3D%3D&refinements=p_89%3ADell&rnid=3837712031&s=computers&sprefix=%2Caps%2C208&sr=1-26\n",
      "https://www.amazon.in/Dell-Vostro-i3-1115G4-Generation-Graphics/dp/B09QM6SJC1/ref=sr_1_27?crid=3M03ZDF8VH1NJ&keywords=Dell+laptops+under+50k&qid=1669279194&qu=eyJxc2MiOiIzLjM3IiwicXNhIjoiMS4wMCIsInFzcCI6IjAuMDAifQ%3D%3D&refinements=p_89%3ADell&rnid=3837712031&s=computers&sprefix=%2Caps%2C208&sr=1-27\n"
     ]
    }
   ],
   "source": [
    "url=driver.find_elements(By.XPATH,\"//a[@class='a-link-normal s-underline-text s-underline-link-text s-link-style a-text-normal']\")\n",
    "for i in url[0:28]:\n",
    "    \n",
    "    link=print(i.get_attribute('href'))"
   ]
  },
  {
   "cell_type": "code",
   "execution_count": 46,
   "id": "3b578ca5",
   "metadata": {},
   "outputs": [],
   "source": [
    "url.append('NaN')"
   ]
  },
  {
   "cell_type": "code",
   "execution_count": 47,
   "id": "1a46a85f",
   "metadata": {},
   "outputs": [
    {
     "data": {
      "text/plain": [
       "30"
      ]
     },
     "execution_count": 47,
     "metadata": {},
     "output_type": "execute_result"
    }
   ],
   "source": [
    "len(url)"
   ]
  },
  {
   "cell_type": "code",
   "execution_count": 59,
   "id": "52fcb18b",
   "metadata": {},
   "outputs": [
    {
     "ename": "SyntaxError",
     "evalue": "invalid syntax (3473903539.py, line 1)",
     "output_type": "error",
     "traceback": [
      "\u001b[1;36m  Input \u001b[1;32mIn [59]\u001b[1;36m\u001b[0m\n\u001b[1;33m    link=\u001b[0m\n\u001b[1;37m         ^\u001b[0m\n\u001b[1;31mSyntaxError\u001b[0m\u001b[1;31m:\u001b[0m invalid syntax\n"
     ]
    }
   ],
   "source": []
  },
  {
   "cell_type": "code",
   "execution_count": 25,
   "id": "584be3fb",
   "metadata": {},
   "outputs": [
    {
     "data": {
      "text/plain": [
       "1"
      ]
     },
     "execution_count": 25,
     "metadata": {},
     "output_type": "execute_result"
    }
   ],
   "source": [
    "Brand_Name=[]\n",
    "Brand=driver.find_elements(By.XPATH,\"//span[text()='Dell']\")\n",
    "for i in Brand:\n",
    "    Brand_Name.append(i.text)\n",
    "    \n",
    "len(Brand_Name)"
   ]
  },
  {
   "cell_type": "code",
   "execution_count": 26,
   "id": "c625f6c8",
   "metadata": {},
   "outputs": [
    {
     "data": {
      "text/plain": [
       "30"
      ]
     },
     "execution_count": 26,
     "metadata": {},
     "output_type": "execute_result"
    }
   ],
   "source": [
    "Brand_Name=Brand_Name*30\n",
    "Brand_Name\n",
    "len(Brand_Name)"
   ]
  },
  {
   "cell_type": "code",
   "execution_count": 49,
   "id": "7281df86",
   "metadata": {},
   "outputs": [],
   "source": [
    "Laptops=pd.DataFrame({\"Brand Name\":Brand_Name,\"Name of Product\":Product_Name,\"Price\":Price,\"Expected Delivery\":Delivery,\"Availability\":Available,\"Product Url\":url})"
   ]
  },
  {
   "cell_type": "code",
   "execution_count": 50,
   "id": "52ca3d78",
   "metadata": {},
   "outputs": [
    {
     "data": {
      "text/html": [
       "<div>\n",
       "<style scoped>\n",
       "    .dataframe tbody tr th:only-of-type {\n",
       "        vertical-align: middle;\n",
       "    }\n",
       "\n",
       "    .dataframe tbody tr th {\n",
       "        vertical-align: top;\n",
       "    }\n",
       "\n",
       "    .dataframe thead th {\n",
       "        text-align: right;\n",
       "    }\n",
       "</style>\n",
       "<table border=\"1\" class=\"dataframe\">\n",
       "  <thead>\n",
       "    <tr style=\"text-align: right;\">\n",
       "      <th></th>\n",
       "      <th>Brand Name</th>\n",
       "      <th>Name of Product</th>\n",
       "      <th>Price</th>\n",
       "      <th>Expected Delivery</th>\n",
       "      <th>Availability</th>\n",
       "      <th>Product Url</th>\n",
       "    </tr>\n",
       "  </thead>\n",
       "  <tbody>\n",
       "    <tr>\n",
       "      <th>0</th>\n",
       "      <td>Dell</td>\n",
       "      <td>Dell Inspiron 3525 Laptop, AMD Ryzen 5-5625U, ...</td>\n",
       "      <td>49,390</td>\n",
       "      <td>None</td>\n",
       "      <td>None</td>\n",
       "      <td>&lt;selenium.webdriver.remote.webelement.WebEleme...</td>\n",
       "    </tr>\n",
       "    <tr>\n",
       "      <th>1</th>\n",
       "      <td>Dell</td>\n",
       "      <td>Dell 15 (2022) Amd Ryzen 5-3450U, 8Gb/1Tb Ssd,...</td>\n",
       "      <td>54,890</td>\n",
       "      <td>None</td>\n",
       "      <td>None</td>\n",
       "      <td>&lt;selenium.webdriver.remote.webelement.WebEleme...</td>\n",
       "    </tr>\n",
       "    <tr>\n",
       "      <th>2</th>\n",
       "      <td>Dell</td>\n",
       "      <td>Dell New 2022 Inspiron 3511 NB || Intel Core i...</td>\n",
       "      <td>39,799</td>\n",
       "      <td>None</td>\n",
       "      <td>None</td>\n",
       "      <td>&lt;selenium.webdriver.remote.webelement.WebEleme...</td>\n",
       "    </tr>\n",
       "    <tr>\n",
       "      <th>3</th>\n",
       "      <td>Dell</td>\n",
       "      <td>Dell Vostro 3420 Laptop - Intel i3-1115G4, 8GB...</td>\n",
       "      <td>39,990</td>\n",
       "      <td>None</td>\n",
       "      <td>None</td>\n",
       "      <td>&lt;selenium.webdriver.remote.webelement.WebEleme...</td>\n",
       "    </tr>\n",
       "    <tr>\n",
       "      <th>4</th>\n",
       "      <td>Dell</td>\n",
       "      <td>Dell New Windows 11 Inspiron 3525 Laptop, Inte...</td>\n",
       "      <td>29,199</td>\n",
       "      <td>None</td>\n",
       "      <td>None</td>\n",
       "      <td>&lt;selenium.webdriver.remote.webelement.WebEleme...</td>\n",
       "    </tr>\n",
       "    <tr>\n",
       "      <th>5</th>\n",
       "      <td>Dell</td>\n",
       "      <td>(Renewed) Dell Latitude E5470 Intel Core i5 6t...</td>\n",
       "      <td>18,704</td>\n",
       "      <td>None</td>\n",
       "      <td>None</td>\n",
       "      <td>&lt;selenium.webdriver.remote.webelement.WebEleme...</td>\n",
       "    </tr>\n",
       "    <tr>\n",
       "      <th>6</th>\n",
       "      <td>Dell</td>\n",
       "      <td>Dell 15 (2021) AMD Ryzen 5-3450U 15.6 inches F...</td>\n",
       "      <td>39,990</td>\n",
       "      <td>None</td>\n",
       "      <td>None</td>\n",
       "      <td>&lt;selenium.webdriver.remote.webelement.WebEleme...</td>\n",
       "    </tr>\n",
       "    <tr>\n",
       "      <th>7</th>\n",
       "      <td>Dell</td>\n",
       "      <td>Dell Inspiron 3511 Laptop, Intel i3-1115G4, 8G...</td>\n",
       "      <td>53,500</td>\n",
       "      <td>None</td>\n",
       "      <td>None</td>\n",
       "      <td>&lt;selenium.webdriver.remote.webelement.WebEleme...</td>\n",
       "    </tr>\n",
       "    <tr>\n",
       "      <th>8</th>\n",
       "      <td>Dell</td>\n",
       "      <td>Dell New Vostro 3400 Laptop, Intel I5-1135G7, ...</td>\n",
       "      <td>39,075</td>\n",
       "      <td>None</td>\n",
       "      <td>None</td>\n",
       "      <td>&lt;selenium.webdriver.remote.webelement.WebEleme...</td>\n",
       "    </tr>\n",
       "    <tr>\n",
       "      <th>9</th>\n",
       "      <td>Dell</td>\n",
       "      <td>Dell Inspiron 3511 Windows 11 Laptop, Intel i3...</td>\n",
       "      <td>41,499</td>\n",
       "      <td>None</td>\n",
       "      <td>None</td>\n",
       "      <td>&lt;selenium.webdriver.remote.webelement.WebEleme...</td>\n",
       "    </tr>\n",
       "    <tr>\n",
       "      <th>10</th>\n",
       "      <td>Dell</td>\n",
       "      <td>Dell New Inspiron 3511 Laptop, Intel I3-1115G4...</td>\n",
       "      <td>60,000</td>\n",
       "      <td>None</td>\n",
       "      <td>None</td>\n",
       "      <td>&lt;selenium.webdriver.remote.webelement.WebEleme...</td>\n",
       "    </tr>\n",
       "    <tr>\n",
       "      <th>11</th>\n",
       "      <td>Dell</td>\n",
       "      <td>Dell Vostro 3510 Laptop 15.6 Inches Fhd Core I...</td>\n",
       "      <td>66,500</td>\n",
       "      <td>None</td>\n",
       "      <td>None</td>\n",
       "      <td>&lt;selenium.webdriver.remote.webelement.WebEleme...</td>\n",
       "    </tr>\n",
       "    <tr>\n",
       "      <th>12</th>\n",
       "      <td>Dell</td>\n",
       "      <td>Dell Inspiron 3501 15 inches FHD Laptop (Intel...</td>\n",
       "      <td>46,324</td>\n",
       "      <td>None</td>\n",
       "      <td>None</td>\n",
       "      <td>&lt;selenium.webdriver.remote.webelement.WebEleme...</td>\n",
       "    </tr>\n",
       "    <tr>\n",
       "      <th>13</th>\n",
       "      <td>Dell</td>\n",
       "      <td>Dell New 2021 Inspiron 3511 NB || Intel Core i...</td>\n",
       "      <td>19,990</td>\n",
       "      <td>None</td>\n",
       "      <td>None</td>\n",
       "      <td>&lt;selenium.webdriver.remote.webelement.WebEleme...</td>\n",
       "    </tr>\n",
       "    <tr>\n",
       "      <th>14</th>\n",
       "      <td>Dell</td>\n",
       "      <td>(Renewed) Dell Latitude Laptop E3490 Intel Cor...</td>\n",
       "      <td>41,950</td>\n",
       "      <td>None</td>\n",
       "      <td>None</td>\n",
       "      <td>&lt;selenium.webdriver.remote.webelement.WebEleme...</td>\n",
       "    </tr>\n",
       "    <tr>\n",
       "      <th>15</th>\n",
       "      <td>Dell</td>\n",
       "      <td>Dell New Vostro 3510 Laptop, Intel I3-1005G1, ...</td>\n",
       "      <td>61,000</td>\n",
       "      <td>None</td>\n",
       "      <td>None</td>\n",
       "      <td>&lt;selenium.webdriver.remote.webelement.WebEleme...</td>\n",
       "    </tr>\n",
       "    <tr>\n",
       "      <th>16</th>\n",
       "      <td>Dell</td>\n",
       "      <td>Dell New Vostro 3400 Laptop Intel I5-1135G7, 1...</td>\n",
       "      <td>40,490</td>\n",
       "      <td>None</td>\n",
       "      <td>None</td>\n",
       "      <td>&lt;selenium.webdriver.remote.webelement.WebEleme...</td>\n",
       "    </tr>\n",
       "    <tr>\n",
       "      <th>17</th>\n",
       "      <td>Dell</td>\n",
       "      <td>Dell Vostro 3425 Laptop, Windows 11 AMD Ryzen ...</td>\n",
       "      <td>56,120</td>\n",
       "      <td>None</td>\n",
       "      <td>None</td>\n",
       "      <td>&lt;selenium.webdriver.remote.webelement.WebEleme...</td>\n",
       "    </tr>\n",
       "    <tr>\n",
       "      <th>18</th>\n",
       "      <td>Dell</td>\n",
       "      <td>Dell Vostro 3400 11th Gen Intel i5-1135G7 14 i...</td>\n",
       "      <td>56,490</td>\n",
       "      <td>None</td>\n",
       "      <td>None</td>\n",
       "      <td>&lt;selenium.webdriver.remote.webelement.WebEleme...</td>\n",
       "    </tr>\n",
       "    <tr>\n",
       "      <th>19</th>\n",
       "      <td>Dell</td>\n",
       "      <td>Dell Inspiron 3520 Laptop, Intel i5-1235U, 8GB...</td>\n",
       "      <td>43,999</td>\n",
       "      <td>None</td>\n",
       "      <td>None</td>\n",
       "      <td>&lt;selenium.webdriver.remote.webelement.WebEleme...</td>\n",
       "    </tr>\n",
       "    <tr>\n",
       "      <th>20</th>\n",
       "      <td>Dell</td>\n",
       "      <td>Dell Windows Inspiron 3515 Laptop, AMD Ryzen 5...</td>\n",
       "      <td>60,500</td>\n",
       "      <td>None</td>\n",
       "      <td>None</td>\n",
       "      <td>&lt;selenium.webdriver.remote.webelement.WebEleme...</td>\n",
       "    </tr>\n",
       "    <tr>\n",
       "      <th>21</th>\n",
       "      <td>Dell</td>\n",
       "      <td>Dell Inspiron 3511 Laptop, Intel I5-1135G7, 8G...</td>\n",
       "      <td>55,990</td>\n",
       "      <td>None</td>\n",
       "      <td>None</td>\n",
       "      <td>&lt;selenium.webdriver.remote.webelement.WebEleme...</td>\n",
       "    </tr>\n",
       "    <tr>\n",
       "      <th>22</th>\n",
       "      <td>Dell</td>\n",
       "      <td>Dell Vostro 3400 Laptop, Intel i5-1135G7, 8GB ...</td>\n",
       "      <td>41,090</td>\n",
       "      <td>None</td>\n",
       "      <td>None</td>\n",
       "      <td>&lt;selenium.webdriver.remote.webelement.WebEleme...</td>\n",
       "    </tr>\n",
       "    <tr>\n",
       "      <th>23</th>\n",
       "      <td>Dell</td>\n",
       "      <td>Dell Vostro 3401 Intel i3-1115G4 Laptop, 8GB D...</td>\n",
       "      <td>44,200</td>\n",
       "      <td>None</td>\n",
       "      <td>None</td>\n",
       "      <td>&lt;selenium.webdriver.remote.webelement.WebEleme...</td>\n",
       "    </tr>\n",
       "    <tr>\n",
       "      <th>24</th>\n",
       "      <td>Dell</td>\n",
       "      <td>Dell 15 (2022) Intel I3-1115G4, 8Gb/512Gb Ssd,...</td>\n",
       "      <td>41,600</td>\n",
       "      <td>None</td>\n",
       "      <td>None</td>\n",
       "      <td>&lt;selenium.webdriver.remote.webelement.WebEleme...</td>\n",
       "    </tr>\n",
       "    <tr>\n",
       "      <th>25</th>\n",
       "      <td>Dell</td>\n",
       "      <td>Dell 15 (2021) Ryzen 3-3250U, 8Gb, 512Gb Ssd, ...</td>\n",
       "      <td>48,750</td>\n",
       "      <td>None</td>\n",
       "      <td>None</td>\n",
       "      <td>&lt;selenium.webdriver.remote.webelement.WebEleme...</td>\n",
       "    </tr>\n",
       "    <tr>\n",
       "      <th>26</th>\n",
       "      <td>Dell</td>\n",
       "      <td>Dell Vostro 3510 Laptop - 15.6 inches | 8GB RA...</td>\n",
       "      <td>None</td>\n",
       "      <td>None</td>\n",
       "      <td>None</td>\n",
       "      <td>&lt;selenium.webdriver.remote.webelement.WebEleme...</td>\n",
       "    </tr>\n",
       "    <tr>\n",
       "      <th>27</th>\n",
       "      <td>Dell</td>\n",
       "      <td>Nan</td>\n",
       "      <td>NaN</td>\n",
       "      <td>None</td>\n",
       "      <td>None</td>\n",
       "      <td>NaN</td>\n",
       "    </tr>\n",
       "    <tr>\n",
       "      <th>28</th>\n",
       "      <td>Dell</td>\n",
       "      <td>Nan</td>\n",
       "      <td>NaN</td>\n",
       "      <td>None</td>\n",
       "      <td>None</td>\n",
       "      <td>NaN</td>\n",
       "    </tr>\n",
       "    <tr>\n",
       "      <th>29</th>\n",
       "      <td>Dell</td>\n",
       "      <td>Nan</td>\n",
       "      <td>NaN</td>\n",
       "      <td>None</td>\n",
       "      <td>None</td>\n",
       "      <td>NaN</td>\n",
       "    </tr>\n",
       "  </tbody>\n",
       "</table>\n",
       "</div>"
      ],
      "text/plain": [
       "   Brand Name                                    Name of Product   Price  \\\n",
       "0        Dell  Dell Inspiron 3525 Laptop, AMD Ryzen 5-5625U, ...  49,390   \n",
       "1        Dell  Dell 15 (2022) Amd Ryzen 5-3450U, 8Gb/1Tb Ssd,...  54,890   \n",
       "2        Dell  Dell New 2022 Inspiron 3511 NB || Intel Core i...  39,799   \n",
       "3        Dell  Dell Vostro 3420 Laptop - Intel i3-1115G4, 8GB...  39,990   \n",
       "4        Dell  Dell New Windows 11 Inspiron 3525 Laptop, Inte...  29,199   \n",
       "5        Dell  (Renewed) Dell Latitude E5470 Intel Core i5 6t...  18,704   \n",
       "6        Dell  Dell 15 (2021) AMD Ryzen 5-3450U 15.6 inches F...  39,990   \n",
       "7        Dell  Dell Inspiron 3511 Laptop, Intel i3-1115G4, 8G...  53,500   \n",
       "8        Dell  Dell New Vostro 3400 Laptop, Intel I5-1135G7, ...  39,075   \n",
       "9        Dell  Dell Inspiron 3511 Windows 11 Laptop, Intel i3...  41,499   \n",
       "10       Dell  Dell New Inspiron 3511 Laptop, Intel I3-1115G4...  60,000   \n",
       "11       Dell  Dell Vostro 3510 Laptop 15.6 Inches Fhd Core I...  66,500   \n",
       "12       Dell  Dell Inspiron 3501 15 inches FHD Laptop (Intel...  46,324   \n",
       "13       Dell  Dell New 2021 Inspiron 3511 NB || Intel Core i...  19,990   \n",
       "14       Dell  (Renewed) Dell Latitude Laptop E3490 Intel Cor...  41,950   \n",
       "15       Dell  Dell New Vostro 3510 Laptop, Intel I3-1005G1, ...  61,000   \n",
       "16       Dell  Dell New Vostro 3400 Laptop Intel I5-1135G7, 1...  40,490   \n",
       "17       Dell  Dell Vostro 3425 Laptop, Windows 11 AMD Ryzen ...  56,120   \n",
       "18       Dell  Dell Vostro 3400 11th Gen Intel i5-1135G7 14 i...  56,490   \n",
       "19       Dell  Dell Inspiron 3520 Laptop, Intel i5-1235U, 8GB...  43,999   \n",
       "20       Dell  Dell Windows Inspiron 3515 Laptop, AMD Ryzen 5...  60,500   \n",
       "21       Dell  Dell Inspiron 3511 Laptop, Intel I5-1135G7, 8G...  55,990   \n",
       "22       Dell  Dell Vostro 3400 Laptop, Intel i5-1135G7, 8GB ...  41,090   \n",
       "23       Dell  Dell Vostro 3401 Intel i3-1115G4 Laptop, 8GB D...  44,200   \n",
       "24       Dell  Dell 15 (2022) Intel I3-1115G4, 8Gb/512Gb Ssd,...  41,600   \n",
       "25       Dell  Dell 15 (2021) Ryzen 3-3250U, 8Gb, 512Gb Ssd, ...  48,750   \n",
       "26       Dell  Dell Vostro 3510 Laptop - 15.6 inches | 8GB RA...    None   \n",
       "27       Dell                                                Nan     NaN   \n",
       "28       Dell                                                Nan     NaN   \n",
       "29       Dell                                                Nan     NaN   \n",
       "\n",
       "   Expected Delivery Availability  \\\n",
       "0               None         None   \n",
       "1               None         None   \n",
       "2               None         None   \n",
       "3               None         None   \n",
       "4               None         None   \n",
       "5               None         None   \n",
       "6               None         None   \n",
       "7               None         None   \n",
       "8               None         None   \n",
       "9               None         None   \n",
       "10              None         None   \n",
       "11              None         None   \n",
       "12              None         None   \n",
       "13              None         None   \n",
       "14              None         None   \n",
       "15              None         None   \n",
       "16              None         None   \n",
       "17              None         None   \n",
       "18              None         None   \n",
       "19              None         None   \n",
       "20              None         None   \n",
       "21              None         None   \n",
       "22              None         None   \n",
       "23              None         None   \n",
       "24              None         None   \n",
       "25              None         None   \n",
       "26              None         None   \n",
       "27              None         None   \n",
       "28              None         None   \n",
       "29              None         None   \n",
       "\n",
       "                                          Product Url  \n",
       "0   <selenium.webdriver.remote.webelement.WebEleme...  \n",
       "1   <selenium.webdriver.remote.webelement.WebEleme...  \n",
       "2   <selenium.webdriver.remote.webelement.WebEleme...  \n",
       "3   <selenium.webdriver.remote.webelement.WebEleme...  \n",
       "4   <selenium.webdriver.remote.webelement.WebEleme...  \n",
       "5   <selenium.webdriver.remote.webelement.WebEleme...  \n",
       "6   <selenium.webdriver.remote.webelement.WebEleme...  \n",
       "7   <selenium.webdriver.remote.webelement.WebEleme...  \n",
       "8   <selenium.webdriver.remote.webelement.WebEleme...  \n",
       "9   <selenium.webdriver.remote.webelement.WebEleme...  \n",
       "10  <selenium.webdriver.remote.webelement.WebEleme...  \n",
       "11  <selenium.webdriver.remote.webelement.WebEleme...  \n",
       "12  <selenium.webdriver.remote.webelement.WebEleme...  \n",
       "13  <selenium.webdriver.remote.webelement.WebEleme...  \n",
       "14  <selenium.webdriver.remote.webelement.WebEleme...  \n",
       "15  <selenium.webdriver.remote.webelement.WebEleme...  \n",
       "16  <selenium.webdriver.remote.webelement.WebEleme...  \n",
       "17  <selenium.webdriver.remote.webelement.WebEleme...  \n",
       "18  <selenium.webdriver.remote.webelement.WebEleme...  \n",
       "19  <selenium.webdriver.remote.webelement.WebEleme...  \n",
       "20  <selenium.webdriver.remote.webelement.WebEleme...  \n",
       "21  <selenium.webdriver.remote.webelement.WebEleme...  \n",
       "22  <selenium.webdriver.remote.webelement.WebEleme...  \n",
       "23  <selenium.webdriver.remote.webelement.WebEleme...  \n",
       "24  <selenium.webdriver.remote.webelement.WebEleme...  \n",
       "25  <selenium.webdriver.remote.webelement.WebEleme...  \n",
       "26  <selenium.webdriver.remote.webelement.WebEleme...  \n",
       "27                                                NaN  \n",
       "28                                                NaN  \n",
       "29                                                NaN  "
      ]
     },
     "execution_count": 50,
     "metadata": {},
     "output_type": "execute_result"
    }
   ],
   "source": [
    "Laptops"
   ]
  },
  {
   "cell_type": "code",
   "execution_count": 51,
   "id": "dab19f34",
   "metadata": {},
   "outputs": [],
   "source": [
    "driver.close()\n",
    "\n",
    "\n"
   ]
  },
  {
   "cell_type": "code",
   "execution_count": null,
   "id": "a76fbd08",
   "metadata": {},
   "outputs": [],
   "source": []
  }
 ],
 "metadata": {
  "kernelspec": {
   "display_name": "Python 3 (ipykernel)",
   "language": "python",
   "name": "python3"
  },
  "language_info": {
   "codemirror_mode": {
    "name": "ipython",
    "version": 3
   },
   "file_extension": ".py",
   "mimetype": "text/x-python",
   "name": "python",
   "nbconvert_exporter": "python",
   "pygments_lexer": "ipython3",
   "version": "3.9.12"
  }
 },
 "nbformat": 4,
 "nbformat_minor": 5
}
