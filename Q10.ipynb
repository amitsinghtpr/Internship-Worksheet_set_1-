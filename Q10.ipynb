{
 "cells": [
  {
   "cell_type": "markdown",
   "id": "74da265c",
   "metadata": {},
   "source": [
    " Write a python program to scrape a data for all available Hostels from https://www.hostelworld.com/ in \n",
    "“London” location. You have to scrape hostel name, distance from city centre, ratings, total reviews, \n",
    "overall reviews, privates from price, dorms from price, facilities and property description"
   ]
  },
  {
   "cell_type": "code",
   "execution_count": 1,
   "id": "77a1f2be",
   "metadata": {},
   "outputs": [],
   "source": [
    "#Importing important library.\n",
    "import selenium\n",
    "from selenium import webdriver\n",
    "import pandas as pd\n",
    "from selenium.webdriver.common.by import By\n",
    "import warnings\n",
    "warnings.filterwarnings(\"ignore\")\n",
    "import time"
   ]
  },
  {
   "cell_type": "code",
   "execution_count": 2,
   "id": "19b0c501",
   "metadata": {},
   "outputs": [],
   "source": [
    "# Importing Chromedriver\n",
    "driver=webdriver.Chrome(r'\"C:\\Users\\amits\\Desktop\\chromedriver_win32\\chromedriver.exe\"')"
   ]
  },
  {
   "cell_type": "code",
   "execution_count": 18,
   "id": "bd63cb86",
   "metadata": {},
   "outputs": [],
   "source": [
    "url='https://www.hostelworld.com'\n",
    "driver.get(url)"
   ]
  },
  {
   "cell_type": "code",
   "execution_count": 19,
   "id": "a1221def",
   "metadata": {},
   "outputs": [],
   "source": [
    "search_box=driver.find_element(By.ID,\"search-input-field\")\n",
    "\n"
   ]
  },
  {
   "cell_type": "code",
   "execution_count": 20,
   "id": "2a9cc3a5",
   "metadata": {},
   "outputs": [],
   "source": [
    "search_box.click()"
   ]
  },
  {
   "cell_type": "code",
   "execution_count": 21,
   "id": "b6548b3c",
   "metadata": {},
   "outputs": [],
   "source": [
    "search_box.send_keys(\"London\")\n"
   ]
  },
  {
   "cell_type": "code",
   "execution_count": 24,
   "id": "447eb0be",
   "metadata": {},
   "outputs": [],
   "source": [
    "box=driver.find_element(By.XPATH,\"//div[@class='label']\").click()"
   ]
  },
  {
   "cell_type": "code",
   "execution_count": 25,
   "id": "9d27db0c",
   "metadata": {},
   "outputs": [],
   "source": [
    "btn=driver.find_element(By.XPATH,\"//button[@class='button primary large']\").click()"
   ]
  },
  {
   "cell_type": "code",
   "execution_count": 26,
   "id": "c06a2385",
   "metadata": {},
   "outputs": [
    {
     "data": {
      "text/plain": [
       "[\"St Christopher's Village\",\n",
       " 'Generator London',\n",
       " 'Phoenix Hostel',\n",
       " \"St Christopher's Inn - London Bridge\",\n",
       " 'Saint James Backpackers',\n",
       " \"St Christopher's Greenwich\",\n",
       " 'London Waterloo Hostel',\n",
       " 'Elmwood Hotel',\n",
       " 'London House Hotel',\n",
       " 'Kip Hotel',\n",
       " 'Colliers Hotel',\n",
       " 'Beaconsfield',\n",
       " 'Park Hotel',\n",
       " 'Wellesley Hotel']"
      ]
     },
     "execution_count": 26,
     "metadata": {},
     "output_type": "execute_result"
    }
   ],
   "source": [
    "Hostel_Name=[]\n",
    "hos=driver.find_elements(By.XPATH,\"//h2[@class='title title-6']\")\n",
    "for i in hos[0:14]:\n",
    "    Hostel_Name.append(i.text)\n",
    "    \n",
    "Hostel_Name"
   ]
  },
  {
   "cell_type": "code",
   "execution_count": 27,
   "id": "7bf72f54",
   "metadata": {},
   "outputs": [
    {
     "data": {
      "text/plain": [
       "14"
      ]
     },
     "execution_count": 27,
     "metadata": {},
     "output_type": "execute_result"
    }
   ],
   "source": [
    "len(Hostel_Name)"
   ]
  },
  {
   "cell_type": "code",
   "execution_count": 28,
   "id": "cb5fa64f",
   "metadata": {},
   "outputs": [
    {
     "data": {
      "text/plain": [
       "['Hostel - 1.8km from city centre',\n",
       " 'Hostel - 1.8km from city centre Show on Map',\n",
       " 'Hostel - 3km from city centre Show on Map',\n",
       " 'Hostel - 4.2km from city centre Show on Map',\n",
       " 'Hostel - 1.8km from city centre Show on Map',\n",
       " 'Hostel - 5.5km from city centre Show on Map',\n",
       " 'Hostel - 7.6km from city centre Show on Map',\n",
       " 'Hostel - 0.7km from city centre Show on Map',\n",
       " 'Hotel - 3.2km from city centre Show on Map',\n",
       " 'Hotel - 5.3km from city centre Show on Map',\n",
       " 'Hotel - 6.8km from city centre Show on Map',\n",
       " 'Hotel - 2.1km from city centre Show on Map',\n",
       " 'Hotel - 8.6km from city centre Show on Map',\n",
       " 'Hotel - 4.9km from city centre Show on Map']"
      ]
     },
     "execution_count": 28,
     "metadata": {},
     "output_type": "execute_result"
    }
   ],
   "source": [
    "Distance=[]\n",
    "dis=driver.find_elements(By.XPATH,\"//div[@class='subtitle body-3']\")\n",
    "for i in dis[0:14]:\n",
    "    Distance.append(i.text)\n",
    "    \n",
    "Distance"
   ]
  },
  {
   "cell_type": "code",
   "execution_count": 83,
   "id": "b92053c1",
   "metadata": {},
   "outputs": [
    {
     "data": {
      "text/plain": [
       "14"
      ]
     },
     "execution_count": 83,
     "metadata": {},
     "output_type": "execute_result"
    }
   ],
   "source": [
    "len(Distance)"
   ]
  },
  {
   "cell_type": "code",
   "execution_count": 43,
   "id": "e874b566",
   "metadata": {},
   "outputs": [
    {
     "data": {
      "text/plain": [
       "14"
      ]
     },
     "execution_count": 43,
     "metadata": {},
     "output_type": "execute_result"
    }
   ],
   "source": [
    "len(Distance)"
   ]
  },
  {
   "cell_type": "code",
   "execution_count": 32,
   "id": "da3f0683",
   "metadata": {},
   "outputs": [
    {
     "data": {
      "text/plain": [
       "['8.1', '7.7', '7.1', '8.0', '7.3', '6.7', '6.5', '9.4', '7.1', '6.3']"
      ]
     },
     "execution_count": 32,
     "metadata": {},
     "output_type": "execute_result"
    }
   ],
   "source": [
    "Rating=[]\n",
    "rate=driver.find_elements(By.XPATH,\"//div[@class='score orange big']\")\n",
    "for i in rate[0:14]:\n",
    "    Rating.append(i.text)\n",
    "    \n",
    "Rating"
   ]
  },
  {
   "cell_type": "code",
   "execution_count": 34,
   "id": "8bd152a4",
   "metadata": {},
   "outputs": [
    {
     "data": {
      "text/plain": [
       "'-'"
      ]
     },
     "execution_count": 34,
     "metadata": {},
     "output_type": "execute_result"
    }
   ],
   "source": [
    "u=(\"-\")\n",
    "u"
   ]
  },
  {
   "cell_type": "code",
   "execution_count": 41,
   "id": "cc965c68",
   "metadata": {},
   "outputs": [],
   "source": [
    "Rating.append(u) #appending u 4 times to fill data with nan value"
   ]
  },
  {
   "cell_type": "code",
   "execution_count": 42,
   "id": "95fd783d",
   "metadata": {},
   "outputs": [
    {
     "data": {
      "text/plain": [
       "14"
      ]
     },
     "execution_count": 42,
     "metadata": {},
     "output_type": "execute_result"
    }
   ],
   "source": [
    "len(Rating)"
   ]
  },
  {
   "cell_type": "code",
   "execution_count": 45,
   "id": "596783c1",
   "metadata": {},
   "outputs": [
    {
     "data": {
      "text/plain": [
       "['11699 Total Reviews',\n",
       " '7259 Total Reviews',\n",
       " '3864 Total Reviews',\n",
       " '3399 Total Reviews',\n",
       " '1847 Total Reviews',\n",
       " '3278 Total Reviews',\n",
       " '2518 Total Reviews',\n",
       " '119 Total Reviews',\n",
       " '1382 Total Reviews',\n",
       " '55 Total Reviews',\n",
       " '9 Total Reviews',\n",
       " '28 Total Reviews',\n",
       " '0 Total Reviews',\n",
       " '0 Total Reviews']"
      ]
     },
     "execution_count": 45,
     "metadata": {},
     "output_type": "execute_result"
    }
   ],
   "source": [
    "Overall_rating=[]\n",
    "over=driver.find_elements(By.XPATH,\"//div[@class='reviews']\")\n",
    "for i in over[0:14]:\n",
    "    Overall_rating.append(i.text)\n",
    "    \n",
    "Overall_rating"
   ]
  },
  {
   "cell_type": "code",
   "execution_count": 54,
   "id": "9ab3e8c1",
   "metadata": {},
   "outputs": [
    {
     "data": {
      "text/plain": [
       "['No Privates Available',\n",
       " 'No Privates Available',\n",
       " 'No Privates Available',\n",
       " 'No Privates Available',\n",
       " 'No Privates Available']"
      ]
     },
     "execution_count": 54,
     "metadata": {},
     "output_type": "execute_result"
    }
   ],
   "source": [
    "Private=[]\n",
    "pri=driver.find_elements(By.XPATH,\"//p[@class='no-price body-3 no-privates']\",)\n",
    "for i in pri[0:28]:\n",
    "    Private.append(i.text)"
   ]
  },
  {
   "cell_type": "code",
   "execution_count": 81,
   "id": "cd526591",
   "metadata": {},
   "outputs": [
    {
     "data": {
      "text/plain": [
       "['No Privates Available',\n",
       " 'Rs13855',\n",
       " 'No Privates Available',\n",
       " 'Rs15994',\n",
       " 'No Private Available',\n",
       " 'Rs15331',\n",
       " 'Rs27149',\n",
       " 'Rs12364',\n",
       " 'Rs15232',\n",
       " 'Rs11441',\n",
       " 'Rs8902',\n",
       " 'Rs22090']"
      ]
     },
     "execution_count": 81,
     "metadata": {},
     "output_type": "execute_result"
    }
   ],
   "source": [
    "Private"
   ]
  },
  {
   "cell_type": "code",
   "execution_count": 85,
   "id": "b1ef0078",
   "metadata": {},
   "outputs": [],
   "source": [
    "Private.insert(10,\"Nan\")"
   ]
  },
  {
   "cell_type": "code",
   "execution_count": 86,
   "id": "0d3cc7be",
   "metadata": {},
   "outputs": [
    {
     "data": {
      "text/plain": [
       "14"
      ]
     },
     "execution_count": 86,
     "metadata": {},
     "output_type": "execute_result"
    }
   ],
   "source": [
    "len(Private)"
   ]
  },
  {
   "cell_type": "code",
   "execution_count": 87,
   "id": "4d684dbd",
   "metadata": {},
   "outputs": [
    {
     "data": {
      "text/plain": [
       "['Free WiFi\\nFollows Covid-19 sanitation guidance',\n",
       " 'Free WiFi\\nFollows Covid-19 sanitation guidance',\n",
       " 'Free WiFi\\nFollows Covid-19 sanitation guidance',\n",
       " 'Free WiFi\\nFree Breakfast\\nFollows Covid-19 sanitation guidance',\n",
       " 'Free WiFi\\nFollows Covid-19 sanitation guidance',\n",
       " '',\n",
       " 'Free WiFi',\n",
       " 'Free WiFi',\n",
       " 'Follows Covid-19 sanitation guidance',\n",
       " 'Free WiFi',\n",
       " 'Free WiFi',\n",
       " 'Free WiFi']"
      ]
     },
     "execution_count": 87,
     "metadata": {},
     "output_type": "execute_result"
    }
   ],
   "source": [
    "facilities=[]\n",
    "fac=driver.find_elements(By.XPATH,\"//div[@class='facilities-label facilities']\")\n",
    "for i in fac[0:14]:\n",
    "    facilities.append(i.text)\n",
    "    \n",
    "facilities"
   ]
  },
  {
   "cell_type": "code",
   "execution_count": 93,
   "id": "3d7ff880",
   "metadata": {},
   "outputs": [
    {
     "data": {
      "text/plain": [
       "14"
      ]
     },
     "execution_count": 93,
     "metadata": {},
     "output_type": "execute_result"
    }
   ],
   "source": [
    "len(facilities)"
   ]
  },
  {
   "cell_type": "code",
   "execution_count": 89,
   "id": "dc575d7f",
   "metadata": {},
   "outputs": [
    {
     "data": {
      "text/plain": [
       "'-'"
      ]
     },
     "execution_count": 89,
     "metadata": {},
     "output_type": "execute_result"
    }
   ],
   "source": [
    "i=\"-\"\n",
    "i"
   ]
  },
  {
   "cell_type": "code",
   "execution_count": 92,
   "id": "abff8349",
   "metadata": {},
   "outputs": [],
   "source": [
    "facilities.append(i)"
   ]
  },
  {
   "cell_type": "code",
   "execution_count": 94,
   "id": "6b35a872",
   "metadata": {},
   "outputs": [
    {
     "data": {
      "text/html": [
       "<div>\n",
       "<style scoped>\n",
       "    .dataframe tbody tr th:only-of-type {\n",
       "        vertical-align: middle;\n",
       "    }\n",
       "\n",
       "    .dataframe tbody tr th {\n",
       "        vertical-align: top;\n",
       "    }\n",
       "\n",
       "    .dataframe thead th {\n",
       "        text-align: right;\n",
       "    }\n",
       "</style>\n",
       "<table border=\"1\" class=\"dataframe\">\n",
       "  <thead>\n",
       "    <tr style=\"text-align: right;\">\n",
       "      <th></th>\n",
       "      <th>Hostel Name</th>\n",
       "      <th>Distance From City Centre</th>\n",
       "      <th>Rating</th>\n",
       "      <th>Total Review</th>\n",
       "      <th>Private From Price</th>\n",
       "      <th>Facilities and Property Description</th>\n",
       "    </tr>\n",
       "  </thead>\n",
       "  <tbody>\n",
       "    <tr>\n",
       "      <th>0</th>\n",
       "      <td>St Christopher's Village</td>\n",
       "      <td>Hostel - 1.8km from city centre</td>\n",
       "      <td>8.1</td>\n",
       "      <td>11699 Total Reviews</td>\n",
       "      <td>No Privates Available</td>\n",
       "      <td>Free WiFi\\nFollows Covid-19 sanitation guidance</td>\n",
       "    </tr>\n",
       "    <tr>\n",
       "      <th>1</th>\n",
       "      <td>Generator London</td>\n",
       "      <td>Hostel - 1.8km from city centre Show on Map</td>\n",
       "      <td>7.7</td>\n",
       "      <td>7259 Total Reviews</td>\n",
       "      <td>Rs13855</td>\n",
       "      <td>Free WiFi\\nFollows Covid-19 sanitation guidance</td>\n",
       "    </tr>\n",
       "    <tr>\n",
       "      <th>2</th>\n",
       "      <td>Phoenix Hostel</td>\n",
       "      <td>Hostel - 3km from city centre Show on Map</td>\n",
       "      <td>7.1</td>\n",
       "      <td>3864 Total Reviews</td>\n",
       "      <td>No Privates Available</td>\n",
       "      <td>Free WiFi\\nFollows Covid-19 sanitation guidance</td>\n",
       "    </tr>\n",
       "    <tr>\n",
       "      <th>3</th>\n",
       "      <td>St Christopher's Inn - London Bridge</td>\n",
       "      <td>Hostel - 4.2km from city centre Show on Map</td>\n",
       "      <td>8.0</td>\n",
       "      <td>3399 Total Reviews</td>\n",
       "      <td>Rs15994</td>\n",
       "      <td>Free WiFi\\nFree Breakfast\\nFollows Covid-19 sa...</td>\n",
       "    </tr>\n",
       "    <tr>\n",
       "      <th>4</th>\n",
       "      <td>Saint James Backpackers</td>\n",
       "      <td>Hostel - 1.8km from city centre Show on Map</td>\n",
       "      <td>7.3</td>\n",
       "      <td>1847 Total Reviews</td>\n",
       "      <td>No Private Available</td>\n",
       "      <td>Free WiFi\\nFollows Covid-19 sanitation guidance</td>\n",
       "    </tr>\n",
       "    <tr>\n",
       "      <th>5</th>\n",
       "      <td>St Christopher's Greenwich</td>\n",
       "      <td>Hostel - 5.5km from city centre Show on Map</td>\n",
       "      <td>6.7</td>\n",
       "      <td>3278 Total Reviews</td>\n",
       "      <td>Rs15331</td>\n",
       "      <td></td>\n",
       "    </tr>\n",
       "    <tr>\n",
       "      <th>6</th>\n",
       "      <td>London Waterloo Hostel</td>\n",
       "      <td>Hostel - 7.6km from city centre Show on Map</td>\n",
       "      <td>6.5</td>\n",
       "      <td>2518 Total Reviews</td>\n",
       "      <td>Rs27149</td>\n",
       "      <td>Free WiFi</td>\n",
       "    </tr>\n",
       "    <tr>\n",
       "      <th>7</th>\n",
       "      <td>Elmwood Hotel</td>\n",
       "      <td>Hostel - 0.7km from city centre Show on Map</td>\n",
       "      <td>9.4</td>\n",
       "      <td>119 Total Reviews</td>\n",
       "      <td>Rs12364</td>\n",
       "      <td>Free WiFi</td>\n",
       "    </tr>\n",
       "    <tr>\n",
       "      <th>8</th>\n",
       "      <td>London House Hotel</td>\n",
       "      <td>Hotel - 3.2km from city centre Show on Map</td>\n",
       "      <td>7.1</td>\n",
       "      <td>1382 Total Reviews</td>\n",
       "      <td>Rs15232</td>\n",
       "      <td>Follows Covid-19 sanitation guidance</td>\n",
       "    </tr>\n",
       "    <tr>\n",
       "      <th>9</th>\n",
       "      <td>Kip Hotel</td>\n",
       "      <td>Hotel - 5.3km from city centre Show on Map</td>\n",
       "      <td>6.3</td>\n",
       "      <td>55 Total Reviews</td>\n",
       "      <td>Rs11441</td>\n",
       "      <td>Free WiFi</td>\n",
       "    </tr>\n",
       "    <tr>\n",
       "      <th>10</th>\n",
       "      <td>Colliers Hotel</td>\n",
       "      <td>Hotel - 6.8km from city centre Show on Map</td>\n",
       "      <td>-</td>\n",
       "      <td>9 Total Reviews</td>\n",
       "      <td>Nan</td>\n",
       "      <td>Free WiFi</td>\n",
       "    </tr>\n",
       "    <tr>\n",
       "      <th>11</th>\n",
       "      <td>Beaconsfield</td>\n",
       "      <td>Hotel - 2.1km from city centre Show on Map</td>\n",
       "      <td>-</td>\n",
       "      <td>28 Total Reviews</td>\n",
       "      <td>Rs8902</td>\n",
       "      <td>Free WiFi</td>\n",
       "    </tr>\n",
       "    <tr>\n",
       "      <th>12</th>\n",
       "      <td>Park Hotel</td>\n",
       "      <td>Hotel - 8.6km from city centre Show on Map</td>\n",
       "      <td>-</td>\n",
       "      <td>0 Total Reviews</td>\n",
       "      <td>Rs8902</td>\n",
       "      <td>-</td>\n",
       "    </tr>\n",
       "    <tr>\n",
       "      <th>13</th>\n",
       "      <td>Wellesley Hotel</td>\n",
       "      <td>Hotel - 4.9km from city centre Show on Map</td>\n",
       "      <td>-</td>\n",
       "      <td>0 Total Reviews</td>\n",
       "      <td>Rs22090</td>\n",
       "      <td>-</td>\n",
       "    </tr>\n",
       "  </tbody>\n",
       "</table>\n",
       "</div>"
      ],
      "text/plain": [
       "                             Hostel Name  \\\n",
       "0               St Christopher's Village   \n",
       "1                       Generator London   \n",
       "2                         Phoenix Hostel   \n",
       "3   St Christopher's Inn - London Bridge   \n",
       "4                Saint James Backpackers   \n",
       "5             St Christopher's Greenwich   \n",
       "6                 London Waterloo Hostel   \n",
       "7                          Elmwood Hotel   \n",
       "8                     London House Hotel   \n",
       "9                              Kip Hotel   \n",
       "10                        Colliers Hotel   \n",
       "11                          Beaconsfield   \n",
       "12                            Park Hotel   \n",
       "13                       Wellesley Hotel   \n",
       "\n",
       "                      Distance From City Centre Rating         Total Review  \\\n",
       "0               Hostel - 1.8km from city centre    8.1  11699 Total Reviews   \n",
       "1   Hostel - 1.8km from city centre Show on Map    7.7   7259 Total Reviews   \n",
       "2     Hostel - 3km from city centre Show on Map    7.1   3864 Total Reviews   \n",
       "3   Hostel - 4.2km from city centre Show on Map    8.0   3399 Total Reviews   \n",
       "4   Hostel - 1.8km from city centre Show on Map    7.3   1847 Total Reviews   \n",
       "5   Hostel - 5.5km from city centre Show on Map    6.7   3278 Total Reviews   \n",
       "6   Hostel - 7.6km from city centre Show on Map    6.5   2518 Total Reviews   \n",
       "7   Hostel - 0.7km from city centre Show on Map    9.4    119 Total Reviews   \n",
       "8    Hotel - 3.2km from city centre Show on Map    7.1   1382 Total Reviews   \n",
       "9    Hotel - 5.3km from city centre Show on Map    6.3     55 Total Reviews   \n",
       "10   Hotel - 6.8km from city centre Show on Map      -      9 Total Reviews   \n",
       "11   Hotel - 2.1km from city centre Show on Map      -     28 Total Reviews   \n",
       "12   Hotel - 8.6km from city centre Show on Map      -      0 Total Reviews   \n",
       "13   Hotel - 4.9km from city centre Show on Map      -      0 Total Reviews   \n",
       "\n",
       "       Private From Price                Facilities and Property Description  \n",
       "0   No Privates Available    Free WiFi\\nFollows Covid-19 sanitation guidance  \n",
       "1                 Rs13855    Free WiFi\\nFollows Covid-19 sanitation guidance  \n",
       "2   No Privates Available    Free WiFi\\nFollows Covid-19 sanitation guidance  \n",
       "3                 Rs15994  Free WiFi\\nFree Breakfast\\nFollows Covid-19 sa...  \n",
       "4    No Private Available    Free WiFi\\nFollows Covid-19 sanitation guidance  \n",
       "5                 Rs15331                                                     \n",
       "6                 Rs27149                                          Free WiFi  \n",
       "7                 Rs12364                                          Free WiFi  \n",
       "8                 Rs15232               Follows Covid-19 sanitation guidance  \n",
       "9                 Rs11441                                          Free WiFi  \n",
       "10                    Nan                                          Free WiFi  \n",
       "11                 Rs8902                                          Free WiFi  \n",
       "12                 Rs8902                                                  -  \n",
       "13                Rs22090                                                  -  "
      ]
     },
     "execution_count": 94,
     "metadata": {},
     "output_type": "execute_result"
    }
   ],
   "source": [
    "Hostel=pd.DataFrame({\"Hostel Name\":Hostel_Name,\"Distance From City Centre\":Distance,\"Rating\":Rating,\"Total Review\":Overall_rating,\"Private From Price\":Private,\"Facilities and Property Description\":facilities})\n",
    "Hostel"
   ]
  },
  {
   "cell_type": "code",
   "execution_count": null,
   "id": "b59eba5c",
   "metadata": {},
   "outputs": [],
   "source": [
    "driver.close()"
   ]
  },
  {
   "cell_type": "code",
   "execution_count": null,
   "id": "cd87ed1e",
   "metadata": {},
   "outputs": [],
   "source": []
  }
 ],
 "metadata": {
  "kernelspec": {
   "display_name": "Python 3 (ipykernel)",
   "language": "python",
   "name": "python3"
  },
  "language_info": {
   "codemirror_mode": {
    "name": "ipython",
    "version": 3
   },
   "file_extension": ".py",
   "mimetype": "text/x-python",
   "name": "python",
   "nbconvert_exporter": "python",
   "pygments_lexer": "ipython3",
   "version": "3.9.12"
  }
 },
 "nbformat": 4,
 "nbformat_minor": 5
}
